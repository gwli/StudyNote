{
 "metadata": {
  "name": ""
 },
 "nbformat": 3,
 "nbformat_minor": 0,
 "worksheets": [
  {
   "cells": [
    {
     "cell_type": "code",
     "collapsed": false,
     "input": [
      "import cv2\n",
      "from glob import glob"
     ],
     "language": "python",
     "metadata": {},
     "outputs": [],
     "prompt_number": 2
    },
    {
     "cell_type": "code",
     "collapsed": false,
     "input": [
      "images = glob(\"image_data/*.jpg\")\n",
      "img = cv2.imread(images[0])\n",
      "img = cv2.cvtColor(img,cv2.COLOR_RGB2GRAY)\n",
      "Nimg = cv2.resize(img,(8,8))"
     ],
     "language": "python",
     "metadata": {},
     "outputs": [],
     "prompt_number": 3
    },
    {
     "cell_type": "code",
     "collapsed": false,
     "input": [
      "cv2.imwrite('a.jpg',Nimg)"
     ],
     "language": "python",
     "metadata": {},
     "outputs": [
      {
       "metadata": {},
       "output_type": "pyout",
       "prompt_number": 6,
       "text": [
        "True"
       ]
      }
     ],
     "prompt_number": 6
    },
    {
     "cell_type": "markdown",
     "metadata": {},
     "source": [
      "cv2.imshow('ImageWindow',Nimg)\n",
      "\n",
      "\u8fd9\u4e2a\u65e0\u6cd5\u6267\u884c\uff0c\u603b\u662f\u91cd\u542f\u673a\u5668\uff0c\u4f46\u662f\u8fd9\u6837\u5c31\u65e0\u6cd5\u770b\u5230\u6267\u884c\u7ed3\u679c\u3002"
     ]
    }
   ],
   "metadata": {}
  }
 ]
}