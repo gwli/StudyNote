{
 "metadata": {
  "name": ""
 },
 "nbformat": 3,
 "nbformat_minor": 0,
 "worksheets": [
  {
   "cells": [
    {
     "cell_type": "code",
     "collapsed": false,
     "input": [
      "from theano.tensor.nnet import conv\n",
      "rng = numpy.random.RandomState(23455)\n",
      "import theano.tensor as T\n",
      "import theano\n",
      "import numpy as np\n"
     ],
     "language": "python",
     "metadata": {},
     "outputs": [],
     "prompt_number": 2
    },
    {
     "cell_type": "code",
     "collapsed": false,
     "input": [
      "import pylab\n",
      "from PIL import Image\n",
      "img = Image.open(open('image_data/image_0003.jpg'))\n",
      "[width,height]=img.size\n",
      "pylab.figure(figsize=(30,30))\n",
      "pylab.subplot(1, 3, 1); pylab.axis('off'); pylab.imshow(img)"
     ],
     "language": "python",
     "metadata": {},
     "outputs": [],
     "prompt_number": "*"
    },
    {
     "cell_type": "code",
     "collapsed": false,
     "input": [
      "input = T.tensor4(name='input')\n",
      "# \u521d\u59cb\u6743\u503c\n",
      "w_shape = (2,3,9,9)\n",
      "w_boundRange = np.linspace(1,30,9)\n",
      "b_shape = (2,)  \n",
      "i =1\n",
      "for w_bound in w_boundRange:\n",
      "    W = theano.shared(np.asarray(rng.uniform(low = -1.0/w_bound,high = 1.0/w_bound,size = w_shape),dtype= input.dtype),name= 'W')\n",
      "    b = theano.shared(np.asarray(rng.uniform(low=-.5, high=.5, size=b_shape),dtype=input.dtype), name ='b')\n",
      "    conv_out = conv.conv2d(input, W)\n",
      "    output = T.nnet.sigmoid(conv_out + b.dimshuffle('x', 0, 'x', 'x'))\n",
      "    f = theano.function([input], output)\n",
      "    img = np.asarray(img, dtype='float64') \n",
      "    img_ = img.swapaxes(0, 2).swapaxes(1, 2).reshape(1, 3, width,height)\n",
      "    filtered_img = f(img_)\n",
      "    pylab.subplot(3, 3, i); pylab.axis('off'); pylab.imshow(filtered_img[0, 0, :, :])\n",
      "    print filtered_img.shape\n",
      "    pylab.show()\n",
      "    i= i+1"
     ],
     "language": "python",
     "metadata": {},
     "outputs": [
      {
       "output_type": "stream",
       "stream": "stdout",
       "text": [
        "(1, 2, 888, 584)\n"
       ]
      },
      {
       "metadata": {},
       "output_type": "display_data",
       "png": "[encoded data removed]",
       "text": [
        "<matplotlib.figure.Figure at 0x7f927a1f6c90>"
       ]
      },
      {
       "output_type": "stream",
       "stream": "stdout",
       "text": [
        "(1, 2, 888, 584)\n"
       ]
      },
      {
       "metadata": {},
       "output_type": "display_data",
       "png": "[encoded data removed]",
       "text": [
        "<matplotlib.figure.Figure at 0x7f927a1003d0>"
       ]
      },
      {
       "output_type": "stream",
       "stream": "stdout",
       "text": [
        "(1, 2, 888, 584)\n"
       ]
      },
      {
       "metadata": {},
       "output_type": "display_data",
       "png": "[encoded data removed]",
       "text": [
        "<matplotlib.figure.Figure at 0x7f927a55c5d0>"
       ]
      },
      {
       "output_type": "stream",
       "stream": "stdout",
       "text": [
        "(1, 2, 888, 584)\n"
       ]
      },
      {
       "metadata": {},
       "output_type": "display_data",
       "png": "[encoded data removed]",
       "text": [
        "<matplotlib.figure.Figure at 0x7f927a588390>"
       ]
      },
      {
       "output_type": "stream",
       "stream": "stdout",
       "text": [
        "(1, 2, 888, 584)\n"
       ]
      },
      {
       "metadata": {},
       "output_type": "display_data",
       "png": "[encoded data removed]",
       "text": [
        "<matplotlib.figure.Figure at 0x7f927aefacd0>"
       ]
      },
      {
       "output_type": "stream",
       "stream": "stdout",
       "text": [
        "(1, 2, 888, 584)\n"
       ]
      },
      {
       "metadata": {},
       "output_type": "display_data",
       "png": "[encoded data removed]",
       "text": [
        "<matplotlib.figure.Figure at 0x7f927a881ed0>"
       ]
      },
      {
       "output_type": "stream",
       "stream": "stdout",
       "text": [
        "(1, 2, 888, 584)\n"
       ]
      },
      {
       "metadata": {},
       "output_type": "display_data",
       "png": "[encoded data removed]",
       "text": [
        "<matplotlib.figure.Figure at 0x7f927a0ed390>"
       ]
      },
      {
       "output_type": "stream",
       "stream": "stdout",
       "text": [
        "(1, 2, 888, 584)\n"
       ]
      },
      {
       "metadata": {},
       "output_type": "display_data",
       "png": "[encoded data removed]",
       "text": [
        "<matplotlib.figure.Figure at 0x7f927a8bf390>"
       ]
      },
      {
       "output_type": "stream",
       "stream": "stdout",
       "text": [
        "(1, 2, 888, 584)\n"
       ]
      },
      {
       "metadata": {},
       "output_type": "display_data",
       "png": "[encoded data removed]",
       "text": [
        "<matplotlib.figure.Figure at 0x7f927a1d9ad0>"
       ]
      }
     ],
     "prompt_number": 26
    },
    {
     "cell_type": "markdown",
     "metadata": {},
     "source": [
      "\u600e\u6837\u52a0\u5165\u5e76\u6392\u663e\u793a\uff1f"
     ]
    },
    {
     "cell_type": "markdown",
     "metadata": {},
     "source": [
      "\u8fd9\u91cc\u7684\u56fe\u50cf\u4e3a\u4ec0\u4e48\u65e0\u6cd5\u53d8\u5927\uff1f"
     ]
    },
    {
     "cell_type": "markdown",
     "metadata": {},
     "source": [
      "b.dimshuffle('x', 0, 'x', 'x') \u662f\u4ec0\u4e48\uff1f \u4e2d\u95f4\u67090\n",
      " theano.function\n",
      "\u8fd9\u91cc\u662f\u76f4\u63a5\u5377\u79ef\u90a3\uff1f\u8fd8\u662f\u6709\u4f18\u5316\uff1f"
     ]
    },
    {
     "cell_type": "markdown",
     "metadata": {},
     "source": [
      "\u73b0\u5728\u8fd9\u4e2a\u56fe\u662f\u4e0d\u5bf9\u7684\uff0c\u600e\u6837\u8fdb\u884ctiaoshi\uff1f\n"
     ]
    },
    {
     "cell_type": "code",
     "collapsed": false,
     "input": [
      "from theano.tensor.signal import downsample"
     ],
     "language": "python",
     "metadata": {},
     "outputs": [],
     "prompt_number": 27
    },
    {
     "cell_type": "code",
     "collapsed": false,
     "input": [
      "input = T.tensor4('input')\n",
      "maxpool_shape =(2,2)\n",
      "pool_out =downsample.max_pool_2d(input,maxpool_shape,ignore_border=True)\n",
      "f = theano.function([input],pool_out)\n",
      "invals =np.random.RandomState(1).rand(3,2,5,5)\n",
      "print 'with ignore border set to True:'\n",
      "print 'invals[0, 0, :, :] =\\n', invals[0, 0, :, :]\n",
      "print 'output[0, 0, :, :] =\\n', f(invals)[0, 0, :, :]"
     ],
     "language": "python",
     "metadata": {},
     "outputs": [
      {
       "output_type": "stream",
       "stream": "stdout",
       "text": [
        "with ignore border set to True:\n",
        "invals[0, 0, :, :] =\n",
        "[[  4.17022005e-01   7.20324493e-01   1.14374817e-04   3.02332573e-01\n",
        "    1.46755891e-01]\n",
        " [  9.23385948e-02   1.86260211e-01   3.45560727e-01   3.96767474e-01\n",
        "    5.38816734e-01]\n",
        " [  4.19194514e-01   6.85219500e-01   2.04452250e-01   8.78117436e-01\n",
        "    2.73875932e-02]\n",
        " [  6.70467510e-01   4.17304802e-01   5.58689828e-01   1.40386939e-01\n",
        "    1.98101489e-01]\n",
        " [  8.00744569e-01   9.68261576e-01   3.13424178e-01   6.92322616e-01\n",
        "    8.76389152e-01]]\n",
        "output[0, 0, :, :] =\n",
        "[[ 0.72032449  0.39676747]\n",
        " [ 0.6852195   0.87811744]]\n"
       ]
      }
     ],
     "prompt_number": 30
    },
    {
     "cell_type": "code",
     "collapsed": false,
     "input": [
      "pool_out = downsample.max_pool_2d(input,maxpool_shape,ignore_border=False)\n",
      "f = theano.function([input],pool_out)\n",
      "print 'with ignore border set to False:'\n",
      "print 'invals[0, 0, :, :] =\\n', invals[1, 0, :, :]\n",
      "print 'output[0, 0, :, :] =\\n', f(invals)[1, 0, :, :]"
     ],
     "language": "python",
     "metadata": {},
     "outputs": [
      {
       "output_type": "stream",
       "stream": "stdout",
       "text": [
        "with ignore border set to False:\n",
        "invals[0, 0, :, :] =\n",
        "[[ 0.01936696  0.67883553  0.21162812  0.26554666  0.49157316]\n",
        " [ 0.05336255  0.57411761  0.14672857  0.58930554  0.69975836]\n",
        " [ 0.10233443  0.41405599  0.69440016  0.41417927  0.04995346]\n",
        " [ 0.53589641  0.66379465  0.51488911  0.94459476  0.58655504]\n",
        " [ 0.90340192  0.1374747   0.13927635  0.80739129  0.39767684]]\n",
        "output[0, 0, :, :] =\n",
        "[[ 0.67883553  0.58930554  0.69975836]\n",
        " [ 0.66379465  0.94459476  0.58655504]\n",
        " [ 0.90340192  0.80739129  0.39767684]]\n"
       ]
      }
     ],
     "prompt_number": 32
    },
    {
     "cell_type": "code",
     "collapsed": false,
     "input": [],
     "language": "python",
     "metadata": {},
     "outputs": []
    }
   ],
   "metadata": {}
  }
 ]
}