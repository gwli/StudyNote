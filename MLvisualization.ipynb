{
 "metadata": {
  "name": ""
 },
 "nbformat": 3,
 "nbformat_minor": 0,
 "worksheets": [
  {
   "cells": [
    {
     "cell_type": "markdown",
     "metadata": {},
     "source": [
      "# \u4ee3\u7801\u76ee\u7684\uff1a\n",
      "## \u4f7f\u7528 mlxtend\u7528\u4e8e\u53ef\u89c6\u5316\uff0c\n",
      "## \u4f7f\u7528\u652f\u6301\u5411\u91cf\u673a\u3002"
     ]
    },
    {
     "cell_type": "code",
     "collapsed": false,
     "input": [
      "from  mlxtend.evaluate import plot_decision_regions\n",
      "import matplotlib.pyplot as plt\n",
      "from sklearn import datasets\n",
      "from sklearn.svm  import SVC\n",
      "from IPython.display import Image"
     ],
     "language": "python",
     "metadata": {},
     "outputs": [],
     "prompt_number": 4
    },
    {
     "cell_type": "code",
     "collapsed": false,
     "input": [
      "iris = datasets.load_iris()\n",
      "x = iris.data[:,[0,2]]\n",
      "y = iris.target\n",
      "svm = SVC(C=0.5,kernel='linear')\n",
      "svm.fit(x,y)"
     ],
     "language": "python",
     "metadata": {},
     "outputs": [
      {
       "metadata": {},
       "output_type": "pyout",
       "prompt_number": 5,
       "text": [
        "SVC(C=0.5, cache_size=200, class_weight=None, coef0=0.0, degree=3, gamma=0.0,\n",
        "  kernel='linear', max_iter=-1, probability=False, random_state=None,\n",
        "  shrinking=True, tol=0.001, verbose=False)"
       ]
      }
     ],
     "prompt_number": 5
    },
    {
     "cell_type": "markdown",
     "metadata": {},
     "source": [
      "plot_decision_regions(x,y,clf = svm, res=0.1,legend = 2)\n",
      "plt.xlabel('sepal length [cm]')\n",
      "plt.ylabel('petal length [cm]')\n",
      "plt.title('SVM on Iris')\n",
      "plt.show()"
     ]
    },
    {
     "cell_type": "markdown",
     "metadata": {},
     "source": [
      "\u8fd9\u91cc\u662fx.shape[1] \u5fc5\u987b\u7b49\u4e8e2\uff0c\u76ee\u524d\u6ca1\u6709\u5904\u7406\u9ad8\u7ef4\u6570\u636e\u7684\u3002"
     ]
    },
    {
     "cell_type": "markdown",
     "metadata": {},
     "source": [
      "\u8fd9\u91ccmlxtend \u662f\u4e0d\u662f\u548cmatploblib \u5d4c\u5165\u4e86\u3002"
     ]
    },
    {
     "cell_type": "markdown",
     "metadata": {},
     "source": [
      "#\u4e2d\u6587 v,jhv,h"
     ]
    },
    {
     "cell_type": "markdown",
     "metadata": {},
     "source": []
    }
   ],
   "metadata": {}
  }
 ]
}