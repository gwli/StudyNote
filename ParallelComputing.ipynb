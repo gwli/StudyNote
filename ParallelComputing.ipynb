{
 "metadata": {
  "name": "ParallelComputing"
 },
 "nbformat": 3,
 "nbformat_minor": 0,
 "worksheets": [
  {
   "cells": [
    {
     "cell_type": "markdown",
     "metadata": {},
     "source": "#\u5e76\u884c\u8ba1\u7b97\u57fa\u672c\u4ee3\u7801"
    },
    {
     "cell_type": "markdown",
     "metadata": {},
     "source": "## \u5212\u5206\u6280\u672f"
    },
    {
     "cell_type": "markdown",
     "metadata": {},
     "source": "### \u5747\u5300\u5212\u5206\u6280\u672f"
    },
    {
     "cell_type": "code",
     "collapsed": false,
     "input": "import random",
     "language": "python",
     "metadata": {},
     "outputs": [],
     "prompt_number": 59
    },
    {
     "cell_type": "code",
     "collapsed": false,
     "input": "N=1000   # 100\u5404\u6587\u4ef6\nP=10  # 10\u4e2a\u5904\u7406\u5668\nA  = np.random.randint(500,size=(2*N,))",
     "language": "python",
     "metadata": {},
     "outputs": [],
     "prompt_number": 60
    },
    {
     "cell_type": "code",
     "collapsed": false,
     "input": "A1 = np.zeros((P,N/P))\npe=[]\nfor i in xrange(0,P):\n    A1[:,i]=np.sort(A[P*i:(i+1)*P])\n    tmp= np.sort(A[P*i:(i+1)*P]) \n    for k in xrange(0,P):\n        elem= random.choice(tmp)\n        pe.append(elem)\nprint pe\n",
     "language": "python",
     "metadata": {},
     "outputs": [
      {
       "output_type": "stream",
       "stream": "stdout",
       "text": "[482, 267, 462, 291, 291, 22, 108, 63, 267, 267, 476, 476, 231, 13, 13, 203, 13, 90, 203, 171, 406, 156, 398, 156, 93, 404, 65, 233, 404, 398, 152, 10, 253, 10, 10, 274, 10, 274, 376, 253, 340, 484, 223, 120, 176, 242, 242, 242, 226, 13, 337, 393, 337, 92, 393, 356, 26, 371, 156, 393, 66, 107, 74, 79, 309, 251, 79, 66, 204, 251, 122, 376, 212, 212, 399, 340, 340, 26, 376, 376, 235, 168, 168, 235, 100, 289, 103, 271, 100, 289, 333, 311, 314, 311, 314, 253, 88, 333, 148, 14]\n(100,)\n"
      }
     ],
     "prompt_number": 66
    },
    {
     "cell_type": "code",
     "collapsed": false,
     "input": "pes= np.sort(np.array(pe))\npes",
     "language": "python",
     "metadata": {},
     "outputs": [
      {
       "metadata": {},
       "output_type": "pyout",
       "prompt_number": 69,
       "text": "array([ 10,  10,  10,  10,  13,  13,  13,  13,  14,  22,  26,  26,  63,\n        65,  66,  66,  74,  79,  79,  88,  90,  92,  93, 100, 100, 103,\n       107, 108, 120, 122, 148, 152, 156, 156, 156, 168, 168, 171, 176,\n       203, 203, 204, 212, 212, 223, 226, 231, 233, 235, 235, 242, 242,\n       242, 251, 251, 253, 253, 253, 267, 267, 267, 271, 274, 274, 289,\n       289, 291, 291, 309, 311, 311, 314, 314, 333, 333, 337, 337, 340,\n       340, 340, 356, 371, 376, 376, 376, 376, 393, 393, 393, 398, 398,\n       399, 404, 404, 406, 462, 476, 476, 482, 484])"
      }
     ],
     "prompt_number": 69
    },
    {
     "cell_type": "code",
     "collapsed": false,
     "input": "",
     "language": "python",
     "metadata": {},
     "outputs": [],
     "prompt_number": 57
    },
    {
     "cell_type": "code",
     "collapsed": false,
     "input": "import numpy as np",
     "language": "python",
     "metadata": {},
     "outputs": [],
     "prompt_number": 7
    },
    {
     "cell_type": "code",
     "collapsed": false,
     "input": "N=100   # 100\u5404\u6587\u4ef6\nP=np.int(sqrt(N))   # 10\u4e2a\u5904\u7406\u5668\nA  = np.random.randint(500,size=(2*N,))\n\nB  = np.random.randint(500,size=(N,))",
     "language": "python",
     "metadata": {},
     "outputs": [],
     "prompt_number": 8
    },
    {
     "cell_type": "code",
     "collapsed": false,
     "input": "A1 = np.zeros((P,N/P))\nA1.shape",
     "language": "python",
     "metadata": {},
     "outputs": [
      {
       "metadata": {},
       "output_type": "pyout",
       "prompt_number": 9,
       "text": "(10, 10)"
      }
     ],
     "prompt_number": 9
    },
    {
     "cell_type": "markdown",
     "metadata": {},
     "source": "\u5206\u4e24\u7c7b"
    },
    {
     "cell_type": "code",
     "collapsed": false,
     "input": "A=[4,5,7,9,7,5,1,0,7,-2,3,-99,6]  \nmid = int(len(A)/2)\nmid\nleft = mergesort(A[:mid])\nprint left\nright = mergesort(A[mid:])\nprint right",
     "language": "python",
     "metadata": {},
     "outputs": [
      {
       "ename": "TypeError",
       "evalue": "object of type 'NoneType' has no len()",
       "output_type": "pyerr",
       "traceback": [
        "\u001b[0;31m---------------------------------------------------------------------------\u001b[0m\n\u001b[0;31mTypeError\u001b[0m                                 Traceback (most recent call last)",
        "\u001b[0;32m<ipython-input-13-a4e540d9f530>\u001b[0m in \u001b[0;36m<module>\u001b[0;34m()\u001b[0m\n\u001b[1;32m      2\u001b[0m \u001b[0mmid\u001b[0m \u001b[0;34m=\u001b[0m \u001b[0mint\u001b[0m\u001b[0;34m(\u001b[0m\u001b[0mlen\u001b[0m\u001b[0;34m(\u001b[0m\u001b[0mA\u001b[0m\u001b[0;34m)\u001b[0m\u001b[0;34m/\u001b[0m\u001b[0;36m2\u001b[0m\u001b[0;34m)\u001b[0m\u001b[0;34m\u001b[0m\u001b[0m\n\u001b[1;32m      3\u001b[0m \u001b[0mmid\u001b[0m\u001b[0;34m\u001b[0m\u001b[0m\n\u001b[0;32m----> 4\u001b[0;31m \u001b[0mleft\u001b[0m \u001b[0;34m=\u001b[0m \u001b[0mmergesort\u001b[0m\u001b[0;34m(\u001b[0m\u001b[0mA\u001b[0m\u001b[0;34m[\u001b[0m\u001b[0;34m:\u001b[0m\u001b[0mmid\u001b[0m\u001b[0;34m]\u001b[0m\u001b[0;34m)\u001b[0m\u001b[0;34m\u001b[0m\u001b[0m\n\u001b[0m\u001b[1;32m      5\u001b[0m \u001b[0;32mprint\u001b[0m \u001b[0mleft\u001b[0m\u001b[0;34m\u001b[0m\u001b[0m\n\u001b[1;32m      6\u001b[0m \u001b[0mright\u001b[0m \u001b[0;34m=\u001b[0m \u001b[0mmergesort\u001b[0m\u001b[0;34m(\u001b[0m\u001b[0mA\u001b[0m\u001b[0;34m[\u001b[0m\u001b[0mmid\u001b[0m\u001b[0;34m:\u001b[0m\u001b[0;34m]\u001b[0m\u001b[0;34m)\u001b[0m\u001b[0;34m\u001b[0m\u001b[0m\n",
        "\u001b[0;32m<ipython-input-3-22de8baa8568>\u001b[0m in \u001b[0;36mmergesort\u001b[0;34m(List)\u001b[0m\n\u001b[1;32m      2\u001b[0m     \u001b[0mmid\u001b[0m\u001b[0;34m=\u001b[0m\u001b[0mint\u001b[0m\u001b[0;34m(\u001b[0m\u001b[0mlen\u001b[0m\u001b[0;34m(\u001b[0m\u001b[0mList\u001b[0m\u001b[0;34m)\u001b[0m\u001b[0;34m/\u001b[0m\u001b[0;36m2\u001b[0m\u001b[0;34m)\u001b[0m\u001b[0;34m\u001b[0m\u001b[0m\n\u001b[1;32m      3\u001b[0m     \u001b[0;32mif\u001b[0m \u001b[0mlen\u001b[0m\u001b[0;34m(\u001b[0m\u001b[0mList\u001b[0m\u001b[0;34m)\u001b[0m\u001b[0;34m<=\u001b[0m\u001b[0;36m1\u001b[0m\u001b[0;34m:\u001b[0m\u001b[0;32mreturn\u001b[0m \u001b[0mList\u001b[0m\u001b[0;34m\u001b[0m\u001b[0m\n\u001b[0;32m----> 4\u001b[0;31m     \u001b[0;32mreturn\u001b[0m \u001b[0mmerge\u001b[0m\u001b[0;34m(\u001b[0m\u001b[0mmergesort\u001b[0m\u001b[0;34m(\u001b[0m\u001b[0mList\u001b[0m\u001b[0;34m[\u001b[0m\u001b[0;34m:\u001b[0m\u001b[0mmid\u001b[0m\u001b[0;34m]\u001b[0m\u001b[0;34m)\u001b[0m\u001b[0;34m,\u001b[0m\u001b[0mmergesort\u001b[0m\u001b[0;34m(\u001b[0m\u001b[0mList\u001b[0m\u001b[0;34m[\u001b[0m\u001b[0mmid\u001b[0m\u001b[0;34m:\u001b[0m\u001b[0;34m]\u001b[0m\u001b[0;34m)\u001b[0m\u001b[0;34m)\u001b[0m\u001b[0;34m\u001b[0m\u001b[0m\n\u001b[0m",
        "\u001b[0;32m<ipython-input-3-22de8baa8568>\u001b[0m in \u001b[0;36mmergesort\u001b[0;34m(List)\u001b[0m\n\u001b[1;32m      2\u001b[0m     \u001b[0mmid\u001b[0m\u001b[0;34m=\u001b[0m\u001b[0mint\u001b[0m\u001b[0;34m(\u001b[0m\u001b[0mlen\u001b[0m\u001b[0;34m(\u001b[0m\u001b[0mList\u001b[0m\u001b[0;34m)\u001b[0m\u001b[0;34m/\u001b[0m\u001b[0;36m2\u001b[0m\u001b[0;34m)\u001b[0m\u001b[0;34m\u001b[0m\u001b[0m\n\u001b[1;32m      3\u001b[0m     \u001b[0;32mif\u001b[0m \u001b[0mlen\u001b[0m\u001b[0;34m(\u001b[0m\u001b[0mList\u001b[0m\u001b[0;34m)\u001b[0m\u001b[0;34m<=\u001b[0m\u001b[0;36m1\u001b[0m\u001b[0;34m:\u001b[0m\u001b[0;32mreturn\u001b[0m \u001b[0mList\u001b[0m\u001b[0;34m\u001b[0m\u001b[0m\n\u001b[0;32m----> 4\u001b[0;31m     \u001b[0;32mreturn\u001b[0m \u001b[0mmerge\u001b[0m\u001b[0;34m(\u001b[0m\u001b[0mmergesort\u001b[0m\u001b[0;34m(\u001b[0m\u001b[0mList\u001b[0m\u001b[0;34m[\u001b[0m\u001b[0;34m:\u001b[0m\u001b[0mmid\u001b[0m\u001b[0;34m]\u001b[0m\u001b[0;34m)\u001b[0m\u001b[0;34m,\u001b[0m\u001b[0mmergesort\u001b[0m\u001b[0;34m(\u001b[0m\u001b[0mList\u001b[0m\u001b[0;34m[\u001b[0m\u001b[0mmid\u001b[0m\u001b[0;34m:\u001b[0m\u001b[0;34m]\u001b[0m\u001b[0;34m)\u001b[0m\u001b[0;34m)\u001b[0m\u001b[0;34m\u001b[0m\u001b[0m\n\u001b[0m",
        "\u001b[0;32m<ipython-input-12-4341ee02c342>\u001b[0m in \u001b[0;36mmerge\u001b[0;34m(left, right)\u001b[0m\n\u001b[1;32m      2\u001b[0m     \u001b[0mresult\u001b[0m\u001b[0;34m=\u001b[0m\u001b[0;34m[\u001b[0m\u001b[0;34m]\u001b[0m\u001b[0;34m\u001b[0m\u001b[0m\n\u001b[1;32m      3\u001b[0m     \u001b[0mi\u001b[0m\u001b[0;34m,\u001b[0m\u001b[0mj\u001b[0m \u001b[0;34m=\u001b[0m\u001b[0;36m0\u001b[0m\u001b[0;34m,\u001b[0m\u001b[0;36m0\u001b[0m\u001b[0;34m\u001b[0m\u001b[0m\n\u001b[0;32m----> 4\u001b[0;31m     \u001b[0;32mwhile\u001b[0m \u001b[0mi\u001b[0m\u001b[0;34m<\u001b[0m\u001b[0mlen\u001b[0m\u001b[0;34m(\u001b[0m\u001b[0mleft\u001b[0m\u001b[0;34m)\u001b[0m \u001b[0;32mand\u001b[0m \u001b[0mj\u001b[0m\u001b[0;34m<\u001b[0m\u001b[0mlen\u001b[0m\u001b[0;34m(\u001b[0m\u001b[0mright\u001b[0m\u001b[0;34m)\u001b[0m\u001b[0;34m:\u001b[0m\u001b[0;34m\u001b[0m\u001b[0m\n\u001b[0m\u001b[1;32m      5\u001b[0m         \u001b[0;32mif\u001b[0m \u001b[0mleft\u001b[0m\u001b[0;34m[\u001b[0m\u001b[0mi\u001b[0m\u001b[0;34m]\u001b[0m\u001b[0;34m<=\u001b[0m\u001b[0mright\u001b[0m\u001b[0;34m[\u001b[0m\u001b[0mj\u001b[0m\u001b[0;34m]\u001b[0m\u001b[0;34m:\u001b[0m\u001b[0;34m\u001b[0m\u001b[0m\n\u001b[1;32m      6\u001b[0m             \u001b[0mresult\u001b[0m\u001b[0;34m.\u001b[0m\u001b[0mappend\u001b[0m\u001b[0;34m(\u001b[0m\u001b[0mleft\u001b[0m\u001b[0;34m[\u001b[0m\u001b[0mi\u001b[0m\u001b[0;34m]\u001b[0m\u001b[0;34m)\u001b[0m\u001b[0;34m\u001b[0m\u001b[0m\n",
        "\u001b[0;31mTypeError\u001b[0m: object of type 'NoneType' has no len()"
       ]
      },
      {
       "output_type": "stream",
       "stream": "stdout",
       "text": "[5, 7]\n"
      }
     ],
     "prompt_number": 13
    },
    {
     "cell_type": "markdown",
     "metadata": {},
     "source": "\u7a0b\u5e8f\u4e2d\u5d4c\u5957\u7a0b\u5e8f\uff1f\u4ec0\u4e48\u610f\u601d"
    },
    {
     "cell_type": "code",
     "collapsed": false,
     "input": "def merge(left,right):\n    result=[]\n    i,j =0,0\n    while i<len(left) and j<len(right):\n        if left[i]<=right[j]:\n            result.append(left[i])\n            i+=1\n        else:\n            result.append(right[j])\n            j+=1\n    result+=left[i:]\n    result+=right[j:]\n    print result",
     "language": "python",
     "metadata": {},
     "outputs": [],
     "prompt_number": 12
    },
    {
     "cell_type": "code",
     "collapsed": false,
     "input": "",
     "language": "python",
     "metadata": {},
     "outputs": []
    },
    {
     "cell_type": "code",
     "collapsed": false,
     "input": "",
     "language": "python",
     "metadata": {},
     "outputs": []
    },
    {
     "cell_type": "markdown",
     "metadata": {},
     "source": "\u53ef\u4ee5\u8bbe\u7f6eA1\u6210\u7a7a\u77e9\u9635\uff1f"
    },
    {
     "cell_type": "code",
     "collapsed": false,
     "input": "for i in xrange(0,P):\n    print i\n    A1[:,i]=A[P*i:(i+1)*P]\n\nprint A1",
     "language": "python",
     "metadata": {},
     "outputs": [
      {
       "output_type": "stream",
       "stream": "stdout",
       "text": "0\n1\n2\n3\n4\n5\n6\n7\n8\n9\n[[  17.  407.    2.  350.  380.  346.  384.  395.  168.  214.]\n [ 338.  352.  333.  494.  197.  154.   83.  399.  330.  285.]\n [ 244.  402.  468.  449.  353.  144.  263.  375.  377.  354.]\n [ 422.    4.  377.  126.  206.  172.   10.   53.  365.  453.]\n [ 123.  254.  289.  387.   46.  275.   92.  242.  316.  442.]\n [ 102.  311.   33.  263.  322.  412.  324.  195.  149.  399.]\n [  54.  346.  334.    3.   57.  444.   46.  266.  156.  112.]\n [ 303.  100.  220.  263.  396.  387.  176.  431.   50.  118.]\n [  42.  109.  205.  497.  306.   20.  249.   19.  186.  294.]\n [ 196.   98.  446.  295.  420.  452.   31.  281.  484.   93.]]\n"
      }
     ],
     "prompt_number": 104
    },
    {
     "cell_type": "markdown",
     "metadata": {},
     "source": "xrange range \u6709\u4ec0\u4e48\u533a\u522b\uff1f"
    },
    {
     "cell_type": "code",
     "collapsed": false,
     "input": "A1[:,0]",
     "language": "python",
     "metadata": {},
     "outputs": [
      {
       "metadata": {},
       "output_type": "pyout",
       "prompt_number": 99,
       "text": "array([ 0.,  0.,  0.,  0.,  0.,  0.,  0.,  0.,  0.,  0.])"
      }
     ],
     "prompt_number": 99
    },
    {
     "cell_type": "code",
     "collapsed": false,
     "input": "def merge_sort(lst):\n    if len(lst) <= 1:\n        return lst\n \n    def merge(left, right):\n        merged = []\n        while left and right:\n            # popping front of a list is much faster then popping tail\n            merged.append(left.pop() if left[-1] <= right[-1] else right.pop())\n        while left:\n            merged.append(left.pop())\n        while right:\n            merged.append(right.pop())\n        # reverse the list so as to concat correctly\n        merged.reverse()\n        return merged\n \n    middle = int(len(lst) / 2)\n    left = merge_sort(lst[:middle])\n    right = merge_sort(lst[middle:])\n    return merge(left, right)",
     "language": "python",
     "metadata": {},
     "outputs": [],
     "prompt_number": 2
    },
    {
     "cell_type": "code",
     "collapsed": false,
     "input": "def mergesort(List):\n    mid=int(len(List)/2)\n    if len(List)<=1:return List\n    return merge(mergesort(List[:mid]),mergesort(List[mid:]))",
     "language": "python",
     "metadata": {},
     "outputs": [],
     "prompt_number": 3
    },
    {
     "cell_type": "markdown",
     "metadata": {},
     "source": "### [\u5f52\u5e76\u7b97\u6cd5](http://blog.csdn.net/littlethunder/article/details/9472301)"
    },
    {
     "cell_type": "code",
     "collapsed": false,
     "input": "A[mid:]",
     "language": "python",
     "metadata": {},
     "outputs": [
      {
       "metadata": {},
       "output_type": "pyout",
       "prompt_number": 5,
       "text": "[1, 0, 7, -2, 3, -99, 6]"
      }
     ],
     "prompt_number": 5
    },
    {
     "cell_type": "markdown",
     "metadata": {},
     "source": "\u8fd9\u6837\u5199\u6210def\u6709\u4ec0\u4e48\u4f5c\u7528\uff0c\u65b9\u4fbf\u6269\u5c55\uff1f"
    },
    {
     "cell_type": "code",
     "collapsed": false,
     "input": "A",
     "language": "python",
     "metadata": {},
     "outputs": [
      {
       "metadata": {},
       "output_type": "pyout",
       "prompt_number": 6,
       "text": "[4, 5, 7, 9, 7, 5, 1, 0, 7, -2, 3, -99, 6]"
      }
     ],
     "prompt_number": 6
    },
    {
     "cell_type": "code",
     "collapsed": false,
     "input": "def mergesort(seq):\n\tif len(seq)<=1:\n\t\treturn seq\n\tmid=int(len(seq)/2)\n\tleft=mergesort(seq[:mid])\n\tright=mergesort(seq[mid:])\n\treturn merge(left,right)\n\ndef merge(left,right):\n\tresult=[]\n\ti,j=0,0\n\twhile i<len(left) and j<len(right):\n\t\tif left[i]<=right[j]:\n\t\t\tresult.append(left[i])\n\t\t\ti+=1\n\t\telse:\n\t\t\tresult.append(right[j])\n\t\t\tj+=1\n\tresult+=left[i:]\n\tresult+=right[j:]\n\treturn result\n    print result\n\n\nif __name__=='__main__':\n\tseq=[4,5,7,9,7,5,1,0,7,-2,3,-99,6]\n\tprint(mergesort(seq))\n\t\n",
     "language": "python",
     "metadata": {},
     "outputs": [
      {
       "ename": "IndentationError",
       "evalue": "unindent does not match any outer indentation level (<ipython-input-18-406f361c148f>, line 22)",
       "output_type": "pyerr",
       "traceback": [
        "\u001b[0;36m  File \u001b[0;32m\"<ipython-input-18-406f361c148f>\"\u001b[0;36m, line \u001b[0;32m22\u001b[0m\n\u001b[0;31m    print result\u001b[0m\n\u001b[0m                ^\u001b[0m\n\u001b[0;31mIndentationError\u001b[0m\u001b[0;31m:\u001b[0m unindent does not match any outer indentation level\n"
       ]
      }
     ],
     "prompt_number": 18
    },
    {
     "cell_type": "code",
     "collapsed": false,
     "input": "",
     "language": "python",
     "metadata": {},
     "outputs": []
    }
   ],
   "metadata": {}
  }
 ]
}