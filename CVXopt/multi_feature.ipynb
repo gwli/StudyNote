{
 "metadata": {
  "name": "multi_feature"
 },
 "nbformat": 3,
 "nbformat_minor": 0,
 "worksheets": [
  {
   "cells": [
    {
     "cell_type": "code",
     "collapsed": false,
     "input": [
      "from sympy import *\n",
      "s,n,f=symbols('s,n,f')\n",
      "ft=s**2*(1-f)**2+n**2*f**2    \n",
      "latex(solve(ft.diff(f),f))"
     ],
     "language": "python",
     "metadata": {},
     "outputs": [
      {
       "output_type": "pyout",
       "prompt_number": 3,
       "text": [
        "'\\\\left [ \\\\frac{s^{2}}{n^{2} + s^{2}}\\\\right ]'"
       ]
      }
     ],
     "prompt_number": 3
    },
    {
     "cell_type": "code",
     "collapsed": false,
     "input": [],
     "language": "python",
     "metadata": {},
     "outputs": [],
     "prompt_number": 3
    },
    {
     "cell_type": "markdown",
     "metadata": {},
     "source": [
      " i love you"
     ]
    },
    {
     "cell_type": "code",
     "collapsed": false,
     "input": [
      "a,b =symbols('a,b')"
     ],
     "language": "python",
     "metadata": {},
     "outputs": [],
     "prompt_number": 4
    },
    {
     "cell_type": "code",
     "collapsed": false,
     "input": [
      "y = a^2 + b^2"
     ],
     "language": "python",
     "metadata": {},
     "outputs": [],
     "prompt_number": 5
    }
   ],
   "metadata": {}
  }
 ]
}