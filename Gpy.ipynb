{
 "metadata": {
  "name": ""
 },
 "nbformat": 3,
 "nbformat_minor": 0,
 "worksheets": [
  {
   "cells": [
    {
     "cell_type": "code",
     "collapsed": false,
     "input": [
      "import theano\n",
      "import numpy as np\n",
      "import theano.tensor as T\n",
      "import gzip\n",
      "import urllib"
     ],
     "language": "python",
     "metadata": {},
     "outputs": [],
     "prompt_number": 26
    },
    {
     "cell_type": "code",
     "collapsed": false,
     "input": [
      "import gpy"
     ],
     "language": "python",
     "metadata": {},
     "outputs": [
      {
       "ename": "ImportError",
       "evalue": "No module named gpy",
       "output_type": "pyerr",
       "traceback": [
        "\u001b[0;31m---------------------------------------------------------------------------\u001b[0m\n\u001b[0;31mImportError\u001b[0m                               Traceback (most recent call last)",
        "\u001b[0;32m<ipython-input-2-5de462065561>\u001b[0m in \u001b[0;36m<module>\u001b[0;34m()\u001b[0m\n\u001b[0;32m----> 1\u001b[0;31m \u001b[0;32mimport\u001b[0m \u001b[0mgpy\u001b[0m\u001b[0;34m\u001b[0m\u001b[0m\n\u001b[0m",
        "\u001b[0;31mImportError\u001b[0m: No module named gpy"
       ]
      }
     ],
     "prompt_number": 2
    },
    {
     "cell_type": "code",
     "collapsed": false,
     "input": [
      "self.W = theano.shared(\n",
      "         value = np.zeros((n_in,n_out),dtype = theano.config.floatX,\n",
      "                       ),\n",
      "         name ='W',\n",
      "         borrow = True\n",
      "         )"
     ],
     "language": "python",
     "metadata": {},
     "outputs": [],
     "prompt_number": "*"
    },
    {
     "cell_type": "code",
     "collapsed": false,
     "input": [
      "self.b =theano.shared(\n",
      "                      value = np.zeros((n_out,),\n",
      "                      dtype = theano.config.floatX\n",
      "                                ),\n",
      "                      name = 'b',\n",
      "                      borrow = True\n",
      "                      )"
     ],
     "language": "python",
     "metadata": {},
     "outputs": [
      {
       "ename": "NameError",
       "evalue": "name 'n_out' is not defined",
       "output_type": "pyerr",
       "traceback": [
        "\u001b[0;31m---------------------------------------------------------------------------\u001b[0m\n\u001b[0;31mNameError\u001b[0m                                 Traceback (most recent call last)",
        "\u001b[0;32m<ipython-input-9-a2bbc8f3fbc9>\u001b[0m in \u001b[0;36m<module>\u001b[0;34m()\u001b[0m\n\u001b[1;32m      1\u001b[0m self.b =theano.shared(\n\u001b[0;32m----> 2\u001b[0;31m                       value = np.zeros((n_out,),\n\u001b[0m\u001b[1;32m      3\u001b[0m                       \u001b[0mdtype\u001b[0m \u001b[0;34m=\u001b[0m \u001b[0mtheano\u001b[0m\u001b[0;34m.\u001b[0m\u001b[0mconfig\u001b[0m\u001b[0;34m.\u001b[0m\u001b[0mfloatX\u001b[0m\u001b[0;34m\u001b[0m\u001b[0m\n\u001b[1;32m      4\u001b[0m                                 ),\n\u001b[1;32m      5\u001b[0m                       \u001b[0mname\u001b[0m \u001b[0;34m=\u001b[0m \u001b[0;34m'b'\u001b[0m\u001b[0;34m,\u001b[0m\u001b[0;34m\u001b[0m\u001b[0m\n",
        "\u001b[0;31mNameError\u001b[0m: name 'n_out' is not defined"
       ]
      }
     ],
     "prompt_number": 9
    },
    {
     "cell_type": "markdown",
     "metadata": {},
     "source": [
      "\u8fd9\u91cc\u7684borrow \u662f\u4ec0\u4e48\uff1f"
     ]
    },
    {
     "cell_type": "code",
     "collapsed": false,
     "input": [
      "self.p_y_given_x = T.nnet.softmax(T.dot(input,self.W)+self.b)\n",
      "self.y_pred = T.argmax(self.p_y_given_x,axis = 1)"
     ],
     "language": "python",
     "metadata": {},
     "outputs": [
      {
       "ename": "NameError",
       "evalue": "name 'self' is not defined",
       "output_type": "pyerr",
       "traceback": [
        "\u001b[0;31m---------------------------------------------------------------------------\u001b[0m\n\u001b[0;31mNameError\u001b[0m                                 Traceback (most recent call last)",
        "\u001b[0;32m<ipython-input-12-1cd88b8b2f2f>\u001b[0m in \u001b[0;36m<module>\u001b[0;34m()\u001b[0m\n\u001b[0;32m----> 1\u001b[0;31m \u001b[0mself\u001b[0m\u001b[0;34m.\u001b[0m\u001b[0mp_y_given_x\u001b[0m \u001b[0;34m=\u001b[0m \u001b[0mT\u001b[0m\u001b[0;34m.\u001b[0m\u001b[0mnnet\u001b[0m\u001b[0;34m.\u001b[0m\u001b[0msoftmax\u001b[0m\u001b[0;34m(\u001b[0m\u001b[0mT\u001b[0m\u001b[0;34m.\u001b[0m\u001b[0mdot\u001b[0m\u001b[0;34m(\u001b[0m\u001b[0minput\u001b[0m\u001b[0;34m,\u001b[0m\u001b[0mself\u001b[0m\u001b[0;34m.\u001b[0m\u001b[0mW\u001b[0m\u001b[0;34m)\u001b[0m\u001b[0;34m+\u001b[0m\u001b[0mself\u001b[0m\u001b[0;34m.\u001b[0m\u001b[0mb\u001b[0m\u001b[0;34m)\u001b[0m\u001b[0;34m\u001b[0m\u001b[0m\n\u001b[0m\u001b[1;32m      2\u001b[0m \u001b[0mself\u001b[0m\u001b[0;34m.\u001b[0m\u001b[0my_pred\u001b[0m \u001b[0;34m=\u001b[0m \u001b[0mT\u001b[0m\u001b[0;34m.\u001b[0m\u001b[0margmax\u001b[0m\u001b[0;34m(\u001b[0m\u001b[0mself\u001b[0m\u001b[0;34m.\u001b[0m\u001b[0mp_y_given_x\u001b[0m\u001b[0;34m,\u001b[0m\u001b[0maxis\u001b[0m \u001b[0;34m=\u001b[0m \u001b[0;36m1\u001b[0m\u001b[0;34m)\u001b[0m\u001b[0;34m\u001b[0m\u001b[0m\n",
        "\u001b[0;31mNameError\u001b[0m: name 'self' is not defined"
       ]
      }
     ],
     "prompt_number": 12
    },
    {
     "cell_type": "code",
     "collapsed": false,
     "input": [
      "ls\n"
     ],
     "language": "python",
     "metadata": {},
     "outputs": [
      {
       "output_type": "stream",
       "stream": "stdout",
       "text": [
        "AdaBoost.ipynb                   \u001b[0m\u001b[01;34mcaffe\u001b[0m/\r\n",
        "\u001b[01;34mCVXopt\u001b[0m/                          gitpython.ipynb\r\n",
        "GaborFilter.ipynb                \u001b[01;34mhaskell\u001b[0m/\r\n",
        "HeadDetection.ipynb              \u001b[01;34mimage_data\u001b[0m/\r\n",
        "KSVD.ipynb                       linux.info.py\r\n",
        "LoadWriteImage.ipynb             linux_kernel_module_study.ipynb\r\n",
        "MLvisualization.ipynb            \u001b[01;34mmnist\u001b[0m/\r\n",
        "N-dimension visualization.ipynb  ndk-r10c-toolchain-help.ipynb\r\n",
        "PandasPloting.ipynb              \u001b[01;34mpandoc\u001b[0m/\r\n",
        "TrainCNN.ipynb                   \u001b[01;34mracket\u001b[0m/\r\n",
        "Untitled0.ipynb                  result.jpg\r\n",
        "a.jpg                            symbolscalculate.ipynb\r\n"
       ]
      }
     ],
     "prompt_number": 13
    },
    {
     "cell_type": "code",
     "collapsed": false,
     "input": [
      "cd mnist/"
     ],
     "language": "python",
     "metadata": {},
     "outputs": [
      {
       "output_type": "stream",
       "stream": "stdout",
       "text": [
        "/root/git/StudyNote/mnist\n"
       ]
      }
     ],
     "prompt_number": 14
    },
    {
     "cell_type": "code",
     "collapsed": false,
     "input": [
      "def load(dataset):\n",
      "    data_dir,data_file = os.path.split(dataset)\n",
      "    if data_dir =='and not oos.path.isfile(dataset)':\n",
      "        new_path = os.path.join(\n",
      "                os.path.split(__file__)[0],\n",
      "                \"..\",\n",
      "                \"data\",\n",
      "                dataset\n",
      "                                )\n",
      "    if (not os.path.isfile(dataset)) and data_file == 'mnist.pkl.gz':\n",
      "        import urllib\n",
      "        origin =(\n",
      "                 'http://www.iro.umontreal.ca/~lisa/deep/data/mnist/mnist.pkl.gz'\n",
      "                )\n",
      "        print 'Downloading data from %s' % origin\n",
      "        urllib.urlretrieve(origin,dataset)\n",
      "    print '...loading data'\n",
      "    ## load the dataset\n",
      "    f = gzip.open(dataset,'rb')\n",
      "    train_set, valid_set,test_set = cPickle.load(f)\n",
      "    f.close()\n"
     ],
     "language": "python",
     "metadata": {},
     "outputs": [],
     "prompt_number": 30
    },
    {
     "cell_type": "markdown",
     "metadata": {},
     "source": [
      "urllib\u662f\u4ec0\u4e48"
     ]
    },
    {
     "cell_type": "code",
     "collapsed": false,
     "input": [
      "def share_dataset(data_xy,borrow = True):\n",
      "    data_x,data_y = data_xy\n",
      "    shared_x = theano.shared(np.asarray(data_x,dtype=theano.config.floatX),borrow=borrow)\n",
      "    shared_y = theano.shared(np.asarray(data_y,dtype=theano.config.floatX),borrow = borrow)\n",
      "    return shared_x,T.cast(shared_y,'int32')\n"
     ],
     "language": "python",
     "metadata": {},
     "outputs": [],
     "prompt_number": 31
    },
    {
     "cell_type": "code",
     "collapsed": false,
     "input": [
      "test_set_x,test_set_y = shared_datset(test_set)\n",
      "valid_set_x,valid_set_y =shared_datset(valid_set)\n",
      "train_set_x,train_set_y =shared_datset(train_set)\n",
      "rval = [(train_set_x,train_set_y),(valid_set_x,valild_set_y),(test_set_x,test_set_y)]\n",
      "return rval"
     ],
     "language": "python",
     "metadata": {},
     "outputs": [
      {
       "ename": "NameError",
       "evalue": "name 'shared_datset' is not defined",
       "output_type": "pyerr",
       "traceback": [
        "\u001b[0;31m---------------------------------------------------------------------------\u001b[0m\n\u001b[0;31mNameError\u001b[0m                                 Traceback (most recent call last)",
        "\u001b[0;32m<ipython-input-36-798302aee5f1>\u001b[0m in \u001b[0;36m<module>\u001b[0;34m()\u001b[0m\n\u001b[0;32m----> 1\u001b[0;31m \u001b[0mtest_set_x\u001b[0m\u001b[0;34m,\u001b[0m\u001b[0mtest_set_y\u001b[0m \u001b[0;34m=\u001b[0m \u001b[0mshared_datset\u001b[0m\u001b[0;34m(\u001b[0m\u001b[0mtest_set\u001b[0m\u001b[0;34m)\u001b[0m\u001b[0;34m\u001b[0m\u001b[0m\n\u001b[0m\u001b[1;32m      2\u001b[0m \u001b[0mvalid_set_x\u001b[0m\u001b[0;34m,\u001b[0m\u001b[0mvalid_set_y\u001b[0m \u001b[0;34m=\u001b[0m\u001b[0mshared_datset\u001b[0m\u001b[0;34m(\u001b[0m\u001b[0mvalid_set\u001b[0m\u001b[0;34m)\u001b[0m\u001b[0;34m\u001b[0m\u001b[0m\n\u001b[1;32m      3\u001b[0m \u001b[0mtrain_set_x\u001b[0m\u001b[0;34m,\u001b[0m\u001b[0mtrain_set_y\u001b[0m \u001b[0;34m=\u001b[0m\u001b[0mshared_datset\u001b[0m\u001b[0;34m(\u001b[0m\u001b[0mtrain_set\u001b[0m\u001b[0;34m)\u001b[0m\u001b[0;34m\u001b[0m\u001b[0m\n\u001b[1;32m      4\u001b[0m \u001b[0mrval\u001b[0m \u001b[0;34m=\u001b[0m \u001b[0;34m[\u001b[0m\u001b[0;34m(\u001b[0m\u001b[0mtrain_set_x\u001b[0m\u001b[0;34m,\u001b[0m\u001b[0mtrain_set_y\u001b[0m\u001b[0;34m)\u001b[0m\u001b[0;34m,\u001b[0m\u001b[0;34m(\u001b[0m\u001b[0mvalid_set_x\u001b[0m\u001b[0;34m,\u001b[0m\u001b[0mvalild_set_y\u001b[0m\u001b[0;34m)\u001b[0m\u001b[0;34m,\u001b[0m\u001b[0;34m(\u001b[0m\u001b[0mtest_set_x\u001b[0m\u001b[0;34m,\u001b[0m\u001b[0mtest_set_y\u001b[0m\u001b[0;34m)\u001b[0m\u001b[0;34m]\u001b[0m\u001b[0;34m\u001b[0m\u001b[0m\n",
        "\u001b[0;31mNameError\u001b[0m: name 'shared_datset' is not defined"
       ]
      }
     ],
     "prompt_number": 36
    },
    {
     "cell_type": "code",
     "collapsed": false,
     "input": [
      "def sgd_optimization_mnist(learning_rate=0.13,n_epochs=1000,dataset='mnist.scale.bz2',batch_size=600):\n",
      "    datasets = load_data(dataset)\n",
      "    train_set_x,train_set_y = datasets[0]\n",
      "    valid_set_x,valid_set_y = datasets[1]\n",
      "    test_set_x,test_set_y = datasets[2]\n",
      "    n_train_batches = train_set_x.get_value(borrow= True).shape[0]/batch_size\n",
      "    n_valid_batches = valid_set_x.get_value(borrow= True).shape[0]/batch_size\n",
      "    n_test_batches = test_set_x.get_value(borrow= True).shape[0]/batch_size\n",
      "    print '...building the model'\n",
      "    index = T.lscalar()\n",
      "    x = T.matrix('x')\n",
      "    y = T.ivector('y')\n",
      "    classifier = LogisticRegression(input =x ,n_in =28, n_out = 10)\n",
      "    cost = classifier.negative_log_likelihook(y)\n",
      "    test_model = theano.function(\n",
      "          input =[index],\n",
      "         outputs=classifier.errors(y),\n",
      "          givens = {\n",
      "             x: test_set_x[index* batch_size:(index+1)*batch_size],\n",
      "             y: test_set_y[index* batch_size:(index+1)*batch_size],\n",
      "\n",
      "                    }\n",
      "                                 )\n",
      "    validata_model = theano.function(\n",
      "             inputs =[index]\n",
      "             #outputs=classifier.errors(y),\n",
      "             outputs=classifier.errors(y),\n",
      "             givens ={\n",
      "                x: valid_set_x[index* batch_size:(index+1)*batch_size],\n",
      "                y: valid_set_y[index* batch_size:(index+1)*batch_size],\n",
      "                      }\n",
      "                                     )\n",
      "    g_W = T.grad(cost= cost, wrt = classifier.W)\n",
      "    g_b = T.grad(cost= cost, wrt = classifier.b)\n",
      "    updates = [(classifier.W,classifier.W- learning_rate*g_W),\n",
      "               (classifier.b,classifier.b- learning_rate*g_b),\n",
      "               ]\n",
      "    train_model = theano.function(\n",
      "            inputs = [index],\n",
      "            outputs = cost,\n",
      "            updates = updates,\n",
      "            givens ={\n",
      "              x:train_set_x[index* batch_size:(index+1)*batch_size],\n",
      "              y:train_set_y[index* batch_size:(index+1)*batch_size]\n",
      "                     }\n",
      "                                  )\n",
      "    print '...training the model'\n",
      "    patience =5000\n",
      "    patience_increase = 2\n",
      "    improvement_threshold = 0.995\n",
      "    validation_frequency = min(n_train_batches,patience/2)\n",
      "    best_validation_loss = np.inf\n",
      "    test_score =0\n",
      "    start_time = time.clock()\n",
      "    done_looping = False\n",
      "    epoch =0\n",
      "    while (epoch < n_epochs) and (not done_looping):\n",
      "        epoch = epoch +1\n",
      "        for minibatch_index in xrange(n_train_batches):\n",
      "            minibatch_avg_cost = train_model(minibatch_index)\n",
      "  "
     ],
     "language": "python",
     "metadata": {},
     "outputs": [
      {
       "ename": "SyntaxError",
       "evalue": "invalid syntax (<ipython-input-54-f92f58805f0c>, line 27)",
       "output_type": "pyerr",
       "traceback": [
        "\u001b[0;36m  File \u001b[0;32m\"<ipython-input-54-f92f58805f0c>\"\u001b[0;36m, line \u001b[0;32m27\u001b[0m\n\u001b[0;31m    outputs=classifier.errors(y),\u001b[0m\n\u001b[0m          ^\u001b[0m\n\u001b[0;31mSyntaxError\u001b[0m\u001b[0;31m:\u001b[0m invalid syntax\n"
       ]
      }
     ],
     "prompt_number": 54
    },
    {
     "cell_type": "code",
     "collapsed": false,
     "input": [],
     "language": "python",
     "metadata": {},
     "outputs": [
      {
       "ename": "IndentationError",
       "evalue": "unexpected indent (<ipython-input-52-2900a46783dd>, line 2)",
       "output_type": "pyerr",
       "traceback": [
        "\u001b[0;36m  File \u001b[0;32m\"<ipython-input-52-2900a46783dd>\"\u001b[0;36m, line \u001b[0;32m2\u001b[0m\n\u001b[0;31m    g_b = T.grad(cost= cost, wrt = classifier.b)\u001b[0m\n\u001b[0m    ^\u001b[0m\n\u001b[0;31mIndentationError\u001b[0m\u001b[0;31m:\u001b[0m unexpected indent\n"
       ]
      }
     ],
     "prompt_number": 52
    },
    {
     "cell_type": "code",
     "collapsed": false,
     "input": [],
     "language": "python",
     "metadata": {},
     "outputs": []
    }
   ],
   "metadata": {}
  }
 ]
}