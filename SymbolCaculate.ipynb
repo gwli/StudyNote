{
 "metadata": {
  "name": ""
 },
 "nbformat": 3,
 "nbformat_minor": 0,
 "worksheets": [
  {
   "cells": [
    {
     "cell_type": "markdown",
     "metadata": {},
     "source": [
      "\u600e\u6837\u751f\u6210 \u76ee\u5f55"
     ]
    },
    {
     "cell_type": "markdown",
     "metadata": {},
     "source": [
      "# \u7b26\u53f7\u63a8\u5012"
     ]
    },
    {
     "cell_type": "markdown",
     "metadata": {},
     "source": [
      "## \u6570\u503c\u8ba1\u7b97"
     ]
    },
    {
     "cell_type": "markdown",
     "metadata": {},
     "source": [
      "## \u7b26\u53f7\u63a8\u5012"
     ]
    },
    {
     "cell_type": "markdown",
     "metadata": {},
     "source": [
      "### \u5411\u91cf\u8ba1\u7b97"
     ]
    },
    {
     "cell_type": "markdown",
     "metadata": {},
     "source": [
      "### \u516c\u5f0f\u53ef\u89c6\u5316"
     ]
    },
    {
     "cell_type": "markdown",
     "metadata": {},
     "source": [
      "#### \u4f7f\u7528LaTeX\u547d\u4ee4  latex\u683c\u5f0f\u7684"
     ]
    },
    {
     "cell_type": "code",
     "collapsed": false,
     "input": [
      "from sympy  import  *\n",
      "from sympy.abc import *"
     ],
     "language": "python",
     "metadata": {},
     "outputs": [],
     "prompt_number": 30
    },
    {
     "cell_type": "code",
     "collapsed": false,
     "input": [
      "def g(x):\n",
      "    return x**2+x*2"
     ],
     "language": "python",
     "metadata": {},
     "outputs": [],
     "prompt_number": 31
    },
    {
     "cell_type": "code",
     "collapsed": false,
     "input": [
      "latex(g(x))"
     ],
     "language": "python",
     "metadata": {},
     "outputs": [
      {
       "metadata": {},
       "output_type": "pyout",
       "prompt_number": 32,
       "text": [
        "'x^{2} + 2 x'"
       ]
      }
     ],
     "prompt_number": 32
    },
    {
     "cell_type": "markdown",
     "metadata": {},
     "source": [
      "##### \u4f7f\u7528sympy \u53ef\u89c6\u5316"
     ]
    },
    {
     "cell_type": "code",
     "collapsed": false,
     "input": [
      "from sympy.plotting import  plot"
     ],
     "language": "python",
     "metadata": {},
     "outputs": [],
     "prompt_number": 33
    },
    {
     "cell_type": "code",
     "collapsed": false,
     "input": [
      "plot(g(x),(x,-3,3))"
     ],
     "language": "python",
     "metadata": {},
     "outputs": [
      {
       "metadata": {},
       "output_type": "display_data",
       "png": "[encoded data removed]",
       "text": [
        "<matplotlib.figure.Figure at 0x7f4c09328d90>"
       ]
      },
      {
       "metadata": {},
       "output_type": "pyout",
       "prompt_number": 34,
       "text": [
        "<sympy.plotting.plot.Plot at 0x7f4c09377fd0>"
       ]
      }
     ],
     "prompt_number": 34
    },
    {
     "cell_type": "markdown",
     "metadata": {},
     "source": [
      "\u8fd9\u4e2a\u548cmatplot \u4e2d\u7684\u6709\u4ec0\u4e48\u533a\u522b\uff0c\u6211\u60f3\u8fd9\u4e2a\u53ea\u662f\u4e3a\u4e86\u663e\u793a,\u624d\u9700\u8981\u6570\u636e\u6bb5\u3002"
     ]
    },
    {
     "cell_type": "markdown",
     "metadata": {},
     "source": [
      "#### \u4f7f\u7528pprint"
     ]
    },
    {
     "cell_type": "code",
     "collapsed": false,
     "input": [
      "print g(x)"
     ],
     "language": "python",
     "metadata": {},
     "outputs": [
      {
       "output_type": "stream",
       "stream": "stdout",
       "text": [
        "x**2 + 2*x\n"
       ]
      }
     ],
     "prompt_number": 26
    },
    {
     "cell_type": "code",
     "collapsed": false,
     "input": [
      "pprint(g(x))"
     ],
     "language": "python",
     "metadata": {},
     "outputs": [
      {
       "output_type": "stream",
       "stream": "stdout",
       "text": [
        " 2      \n",
        "x  + 2\u22c5x\n"
       ]
      }
     ],
     "prompt_number": 24
    },
    {
     "cell_type": "markdown",
     "metadata": {},
     "source": [
      "####\u4f7f\u7528Ipython display\uff0c\u53ea\u662f\u663e\u793a\u51fa\u6765"
     ]
    },
    {
     "cell_type": "code",
     "collapsed": false,
     "input": [
      "from IPython.display import display\n",
      "display(g(x))"
     ],
     "language": "python",
     "metadata": {},
     "outputs": [
      {
       "metadata": {},
       "output_type": "display_data",
       "text": [
        "x**2 + 2*x"
       ]
      }
     ],
     "prompt_number": 25
    },
    {
     "cell_type": "markdown",
     "metadata": {},
     "source": [
      "### \u77e9\u9635\u63a8\u5012"
     ]
    },
    {
     "cell_type": "code",
     "collapsed": false,
     "input": [
      "from sympy  import  *\n",
      "from sympy.abc import *"
     ],
     "language": "python",
     "metadata": {},
     "outputs": []
    },
    {
     "cell_type": "code",
     "collapsed": false,
     "input": [
      "u,v,x,y,A = symbols('u v x y A')\n",
      "G,H,F,N,g,h,f,n= symbols('G H F N g h f n',cls=Function)\n",
      "Eq_5_6_2=Eq(H(u,v),G(u,v)/A)\n",
      "Eq_5_5_17=Eq(G(u,v),H(u,v)*F(u,v)+N(u,v))"
     ],
     "language": "python",
     "metadata": {},
     "outputs": [
      {
       "metadata": {},
       "output_type": "pyout",
       "prompt_number": 33,
       "text": [
        "G(u, v) == F(u, v)*H(u, v) + N(u, v)"
       ]
      }
     ],
     "prompt_number": 33
    },
    {
     "cell_type": "code",
     "collapsed": false,
     "input": [
      "ft=integrate(G(x)*E**(-I*w*x),x)\n",
      "ft\n",
      "s,n,f =symbols('s n f')ft.expand().combsimp()\n",
      "ban=ft.expand()\n",
      "ban.collect(s)\n",
      "ban.coeff(s,2)"
     ],
     "language": "python",
     "metadata": {},
     "outputs": [
      {
       "ename": "SyntaxError",
       "evalue": "invalid syntax (<ipython-input-34-f59959045866>, line 3)",
       "output_type": "pyerr",
       "traceback": [
        "\u001b[0;36m  File \u001b[0;32m\"<ipython-input-34-f59959045866>\"\u001b[0;36m, line \u001b[0;32m3\u001b[0m\n\u001b[0;31m    s,n,f =symbols('s n f')ft.expand().combsimp()\u001b[0m\n\u001b[0m                            ^\u001b[0m\n\u001b[0;31mSyntaxError\u001b[0m\u001b[0;31m:\u001b[0m invalid syntax\n"
       ]
      }
     ],
     "prompt_number": 34
    },
    {
     "cell_type": "markdown",
     "metadata": {},
     "source": [
      "#### \u4ea7\u751f\u77e9\u9635\u7b26\u53f7"
     ]
    },
    {
     "cell_type": "code",
     "collapsed": false,
     "input": [
      "I,J,K=6,8,7 \n",
      "F=3\n",
      "A=MatrixSymbol('A',I,F)\n",
      "B=MatrixSymbol('B',J,F)\n",
      "C=MatrixSymbol('C',K,F)\n",
      "X_i=B*diag(A[0,0],A[0,1],A[0,2])*transpose(C)\n",
      "X_i."
     ],
     "language": "python",
     "metadata": {},
     "outputs": [
      {
       "metadata": {},
       "output_type": "pyout",
       "prompt_number": 35,
       "text": [
        "B*Matrix([\n",
        "[A[0, 0],       0,       0],\n",
        "[      0, A[0, 1],       0],\n",
        "[      0,       0, A[0, 2]]])*C'"
       ]
      }
     ],
     "prompt_number": 35
    },
    {
     "cell_type": "markdown",
     "metadata": {},
     "source": [
      "#### \u52a0\u5165\u65cb\u8f6c\u77e9\u9635"
     ]
    },
    {
     "cell_type": "code",
     "collapsed": false,
     "input": [
      "from sympy import sin, cos, Matrix\n",
      "from sympy.abc import rho, phi"
     ],
     "language": "python",
     "metadata": {},
     "outputs": [],
     "prompt_number": 17
    },
    {
     "cell_type": "code",
     "collapsed": false,
     "input": [
      "X = Matrix([rho*cos(phi), rho*sin(phi), rho**2])\n",
      "Y = Matrix([rho, phi])\n",
      "X.jacobian(Y)"
     ],
     "language": "python",
     "metadata": {},
     "outputs": [
      {
       "metadata": {},
       "output_type": "pyout",
       "prompt_number": 38,
       "text": [
        "Matrix([\n",
        "[cos(phi), -rho*sin(phi)],\n",
        "[sin(phi),  rho*cos(phi)],\n",
        "[   2*rho,             0]])"
       ]
      }
     ],
     "prompt_number": 38
    },
    {
     "cell_type": "code",
     "collapsed": false,
     "input": [
      "p=Function('p')(W*X)\n",
      "p"
     ],
     "language": "python",
     "metadata": {},
     "outputs": [
      {
       "metadata": {},
       "output_type": "pyout",
       "prompt_number": 36,
       "text": [
        "p(W*X)"
       ]
      }
     ],
     "prompt_number": 36
    },
    {
     "cell_type": "code",
     "collapsed": false,
     "input": [
      "from sympy import Inverse, MatrixSymbol\n",
      "x = MatrixSymbol('x',3,3)\n",
      "M = Matrix([[3, -2, 4, -2], [5, 3, -3, -2], [5, -2, 2, -2], [5, -2, -3, 3]])\n",
      "E,D=M.diagonalize()\n",
      "E*D**-1/2*Transpose(E)*M*adjoint(E*D**-1/2*Transpose(E)*M)\n",
      "D**-1/2*conjugate(E)*M*adjoint()\n",
      "A = Symbol('A', hermitian=True)\n",
      "B = Symbol('B', antihermitian=True)\n",
      "adjoint(A)\n",
      "x=E*D**-1/2*transpose(E)*E*D*"
     ],
     "language": "python",
     "metadata": {},
     "outputs": [
      {
       "ename": "SyntaxError",
       "evalue": "invalid syntax (<ipython-input-26-24052e6380f4>, line 12)",
       "output_type": "pyerr",
       "traceback": [
        "\u001b[0;36m  File \u001b[0;32m\"<ipython-input-26-24052e6380f4>\"\u001b[0;36m, line \u001b[0;32m12\u001b[0m\n\u001b[0;31m    x=E*D**-1/2*transpose(E)*E*D*\u001b[0m\n\u001b[0m                                 ^\u001b[0m\n\u001b[0;31mSyntaxError\u001b[0m\u001b[0;31m:\u001b[0m invalid syntax\n"
       ]
      }
     ],
     "prompt_number": 26
    },
    {
     "cell_type": "markdown",
     "metadata": {},
     "source": [
      "## sympy \u7528\u4e8e\u5c55\u793a\u77e9\u9635"
     ]
    },
    {
     "cell_type": "code",
     "collapsed": false,
     "input": [
      "from sympy import Matrix\n",
      "from sympy import *\n",
      "from sympy import MatrixSymbol"
     ],
     "language": "python",
     "metadata": {},
     "outputs": [],
     "prompt_number": 24
    },
    {
     "cell_type": "code",
     "collapsed": false,
     "input": [
      "x = MatrixSymbol('x',3,3)\n",
      "y= x.adjoint"
     ],
     "language": "python",
     "metadata": {},
     "outputs": [],
     "prompt_number": 11
    },
    {
     "cell_type": "markdown",
     "metadata": {},
     "source": [
      "\u8fd9\u91cc\u5fc5\u987b\u5b9a\u4e49\u77e9\u9635\u5927\u5c0f"
     ]
    },
    {
     "cell_type": "code",
     "collapsed": false,
     "input": [
      "E*Transpose(E)\n",
      "x = MatrixSymbol('x')\n",
      "M = Matrix([[3, -2, 4, -2], [5, 3, -3, -2], [5, -2, 2, -2], [5, -2, -3, 3]])\n",
      "E,D=M.diagonalize()\n",
      "E*D**-1/2*Transpose(E)*M*adjoint(E*D**-1/2*Transpose(E)*M)\n",
      "E*Adjoint(E)\n",
      "x\n",
      "type(x)\n",
      "x*Adjoint(x)\n",
      "x*Transpose(x)\n",
      "X = MatrixSymbol('X', 3, 3)\n",
      "X.adjoint()\n",
      "X= Matrix([[3, -2, 4, -2], [5, 3, -3, -2], [5, -2, 2, -2], [5, -2, -3, 3]])\n",
      "X*X.adjoint()\n",
      "X.is_Identity()\n",
      "X.is_Identity\n",
      "A = Symbol('A', hermitian=True)\n",
      "B = Symbol('B', antihermitian=True)\n",
      "adjoint(A)\n",
      "=\n",
      "inv(A)\n",
      "x = MatrixSymbol('x')\n",
      "x = MatrixSymbol('x',3,3)\n",
      "inv(x)\n",
      "from sympy import *\n",
      "(a1,a2,a3,b1,b2,b3) = symbols('a1 a2 a3 b1 b2 b3')\n",
      "AB = Matrix([[a1*b1,a1*b2,a1*b3],[a2*b1,a2*b2,a2*b3],[a3*b1,a3*b2,a3*b3]])\n",
      "print AB\n",
      "print AB.det()\n",
      "AB\n",
      "ln(AB)\n",
      "x\n",
      "x.det()\n",
      "AB.det()\n",
      "log(AB)\n",
      "logm(AB)\n",
      "Matrix('x')\n"
     ],
     "language": "python",
     "metadata": {},
     "outputs": []
    },
    {
     "cell_type": "code",
     "collapsed": false,
     "input": [
      "Matrix('x')\n",
      "AB\n",
      "AB.det()\n",
      "AB\n",
      "Matrix([\n",
      "[a1*b1, a1*b2, a1*b3],\n",
      "[a2*b1, a2*b2, a2*b3],\n",
      "[a3*b1, a3*b2, a3*b3]])\n",
      "A=Matrix([[a1,a2],[b1,b2]])\n",
      "from sympy.abc import *\n",
      "a,b,c= symbols('a,b,c',real=True)\n",
      "A=Matrix([[a,b],[b,c]])\n",
      "X=log((A.det()))\n",
      "pprint(X.diff(a))\n"
     ],
     "language": "python",
     "metadata": {},
     "outputs": [
      {
       "ename": "TypeError",
       "evalue": "Data type not understood",
       "output_type": "pyerr",
       "traceback": [
        "\u001b[0;31m---------------------------------------------------------------------------\u001b[0m\n\u001b[0;31mTypeError\u001b[0m                                 Traceback (most recent call last)",
        "\u001b[0;32m<ipython-input-22-06103fd7e128>\u001b[0m in \u001b[0;36m<module>\u001b[0;34m()\u001b[0m\n\u001b[0;32m----> 1\u001b[0;31m \u001b[0mMatrix\u001b[0m\u001b[0;34m(\u001b[0m\u001b[0;34m'x'\u001b[0m\u001b[0;34m)\u001b[0m\u001b[0;34m\u001b[0m\u001b[0m\n\u001b[0m\u001b[1;32m      2\u001b[0m \u001b[0mAB\u001b[0m\u001b[0;34m\u001b[0m\u001b[0m\n\u001b[1;32m      3\u001b[0m \u001b[0mAB\u001b[0m\u001b[0;34m.\u001b[0m\u001b[0mdet\u001b[0m\u001b[0;34m(\u001b[0m\u001b[0;34m)\u001b[0m\u001b[0;34m\u001b[0m\u001b[0m\n\u001b[1;32m      4\u001b[0m \u001b[0mAB\u001b[0m\u001b[0;34m\u001b[0m\u001b[0m\n\u001b[1;32m      5\u001b[0m Matrix([\n",
        "\u001b[0;32m/usr/local/lib/python2.7/dist-packages/sympy/matrices/dense.pyc\u001b[0m in \u001b[0;36m__new__\u001b[0;34m(cls, *args, **kwargs)\u001b[0m\n\u001b[1;32m    593\u001b[0m \u001b[0;34m\u001b[0m\u001b[0m\n\u001b[1;32m    594\u001b[0m     \u001b[0;32mdef\u001b[0m \u001b[0m__new__\u001b[0m\u001b[0;34m(\u001b[0m\u001b[0mcls\u001b[0m\u001b[0;34m,\u001b[0m \u001b[0;34m*\u001b[0m\u001b[0margs\u001b[0m\u001b[0;34m,\u001b[0m \u001b[0;34m**\u001b[0m\u001b[0mkwargs\u001b[0m\u001b[0;34m)\u001b[0m\u001b[0;34m:\u001b[0m\u001b[0;34m\u001b[0m\u001b[0m\n\u001b[0;32m--> 595\u001b[0;31m         \u001b[0;32mreturn\u001b[0m \u001b[0mcls\u001b[0m\u001b[0;34m.\u001b[0m\u001b[0m_new\u001b[0m\u001b[0;34m(\u001b[0m\u001b[0;34m*\u001b[0m\u001b[0margs\u001b[0m\u001b[0;34m,\u001b[0m \u001b[0;34m**\u001b[0m\u001b[0mkwargs\u001b[0m\u001b[0;34m)\u001b[0m\u001b[0;34m\u001b[0m\u001b[0m\n\u001b[0m\u001b[1;32m    596\u001b[0m \u001b[0;34m\u001b[0m\u001b[0m\n\u001b[1;32m    597\u001b[0m     \u001b[0;32mdef\u001b[0m \u001b[0mas_mutable\u001b[0m\u001b[0;34m(\u001b[0m\u001b[0mself\u001b[0m\u001b[0;34m)\u001b[0m\u001b[0;34m:\u001b[0m\u001b[0;34m\u001b[0m\u001b[0m\n",
        "\u001b[0;32m/usr/local/lib/python2.7/dist-packages/sympy/matrices/dense.pyc\u001b[0m in \u001b[0;36m_new\u001b[0;34m(cls, *args, **kwargs)\u001b[0m\n\u001b[1;32m    585\u001b[0m     \u001b[0;34m@\u001b[0m\u001b[0mclassmethod\u001b[0m\u001b[0;34m\u001b[0m\u001b[0m\n\u001b[1;32m    586\u001b[0m     \u001b[0;32mdef\u001b[0m \u001b[0m_new\u001b[0m\u001b[0;34m(\u001b[0m\u001b[0mcls\u001b[0m\u001b[0;34m,\u001b[0m \u001b[0;34m*\u001b[0m\u001b[0margs\u001b[0m\u001b[0;34m,\u001b[0m \u001b[0;34m**\u001b[0m\u001b[0mkwargs\u001b[0m\u001b[0;34m)\u001b[0m\u001b[0;34m:\u001b[0m\u001b[0;34m\u001b[0m\u001b[0m\n\u001b[0;32m--> 587\u001b[0;31m         \u001b[0mrows\u001b[0m\u001b[0;34m,\u001b[0m \u001b[0mcols\u001b[0m\u001b[0;34m,\u001b[0m \u001b[0mflat_list\u001b[0m \u001b[0;34m=\u001b[0m \u001b[0mcls\u001b[0m\u001b[0;34m.\u001b[0m\u001b[0m_handle_creation_inputs\u001b[0m\u001b[0;34m(\u001b[0m\u001b[0;34m*\u001b[0m\u001b[0margs\u001b[0m\u001b[0;34m,\u001b[0m \u001b[0;34m**\u001b[0m\u001b[0mkwargs\u001b[0m\u001b[0;34m)\u001b[0m\u001b[0;34m\u001b[0m\u001b[0m\n\u001b[0m\u001b[1;32m    588\u001b[0m         \u001b[0mself\u001b[0m \u001b[0;34m=\u001b[0m \u001b[0mobject\u001b[0m\u001b[0;34m.\u001b[0m\u001b[0m__new__\u001b[0m\u001b[0;34m(\u001b[0m\u001b[0mcls\u001b[0m\u001b[0;34m)\u001b[0m\u001b[0;34m\u001b[0m\u001b[0m\n\u001b[1;32m    589\u001b[0m         \u001b[0mself\u001b[0m\u001b[0;34m.\u001b[0m\u001b[0mrows\u001b[0m \u001b[0;34m=\u001b[0m \u001b[0mrows\u001b[0m\u001b[0;34m\u001b[0m\u001b[0m\n",
        "\u001b[0;32m/usr/local/lib/python2.7/dist-packages/sympy/matrices/matrices.pyc\u001b[0m in \u001b[0;36m_handle_creation_inputs\u001b[0;34m(cls, *args, **kwargs)\u001b[0m\n\u001b[1;32m    220\u001b[0m \u001b[0;34m\u001b[0m\u001b[0m\n\u001b[1;32m    221\u001b[0m         \u001b[0;32melse\u001b[0m\u001b[0;34m:\u001b[0m\u001b[0;34m\u001b[0m\u001b[0m\n\u001b[0;32m--> 222\u001b[0;31m             \u001b[0;32mraise\u001b[0m \u001b[0mTypeError\u001b[0m\u001b[0;34m(\u001b[0m\u001b[0;34m\"Data type not understood\"\u001b[0m\u001b[0;34m)\u001b[0m\u001b[0;34m\u001b[0m\u001b[0m\n\u001b[0m\u001b[1;32m    223\u001b[0m \u001b[0;34m\u001b[0m\u001b[0m\n\u001b[1;32m    224\u001b[0m         \u001b[0;32mreturn\u001b[0m \u001b[0mrows\u001b[0m\u001b[0;34m,\u001b[0m \u001b[0mcols\u001b[0m\u001b[0;34m,\u001b[0m \u001b[0mflat_list\u001b[0m\u001b[0;34m\u001b[0m\u001b[0m\n",
        "\u001b[0;31mTypeError\u001b[0m: Data type not understood"
       ]
      }
     ],
     "prompt_number": 22
    },
    {
     "cell_type": "markdown",
     "metadata": {},
     "source": [
      "##\u53ef\u89c6\u5316\u7b26\u53f7\u63a8\u5012"
     ]
    },
    {
     "cell_type": "code",
     "collapsed": false,
     "input": [
      "from sympy.plotting import plot"
     ],
     "language": "python",
     "metadata": {},
     "outputs": [],
     "prompt_number": 28
    },
    {
     "cell_type": "code",
     "collapsed": false,
     "input": [
      "K=1024\n",
      "pi =3.14\n",
      "R =sin(pi*tau)/sin(pi*tau/K)\n",
      "plot(R,(tau,-2,3))"
     ],
     "language": "python",
     "metadata": {},
     "outputs": [
      {
       "metadata": {},
       "output_type": "display_data",
       "png": "[encoded data removed]",
       "text": [
        "<matplotlib.figure.Figure at 0x7ffd40d00310>"
       ]
      },
      {
       "metadata": {},
       "output_type": "pyout",
       "prompt_number": 55,
       "text": [
        "<sympy.plotting.plot.Plot at 0x7ffd40f0cf50>"
       ]
      }
     ],
     "prompt_number": 55
    },
    {
     "cell_type": "code",
     "collapsed": false,
     "input": [
      "n = symbols('n',real = True)\n",
      "N = symbols('N',real = True)\n",
      "print summation(1,(n,1,N))\n",
      "print summation(h(n),(n,1,N))\n"
     ],
     "language": "python",
     "metadata": {},
     "outputs": [
      {
       "output_type": "stream",
       "stream": "stdout",
       "text": [
        "N\n",
        "Sum(h(n), (n, 1, N))\n"
       ]
      }
     ],
     "prompt_number": 48
    },
    {
     "cell_type": "code",
     "collapsed": false,
     "input": [
      "##\u6c42\u6781\u9650\n",
      "y1 = limit(sin(x)/x,x,0) \n",
      "y2= summation(x**n/factorial(n),(n,0,oo))\n",
      "y2"
     ],
     "language": "python",
     "metadata": {},
     "outputs": [
      {
       "metadata": {},
       "output_type": "pyout",
       "prompt_number": 47,
       "text": [
        "exp(x)"
       ]
      }
     ],
     "prompt_number": 47
    },
    {
     "cell_type": "code",
     "collapsed": false,
     "input": [],
     "language": "python",
     "metadata": {},
     "outputs": []
    }
   ],
   "metadata": {}
  }
 ]
}