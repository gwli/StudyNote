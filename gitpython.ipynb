{
 "metadata": {
  "name": ""
 },
 "nbformat": 3,
 "nbformat_minor": 0,
 "worksheets": [
  {
   "cells": [
    {
     "cell_type": "code",
     "collapsed": false,
     "input": [
      "ls"
     ],
     "language": "python",
     "metadata": {},
     "outputs": [
      {
       "output_type": "stream",
       "stream": "stdout",
       "text": [
        "AdaBoost.ipynb   \u001b[0m\u001b[01;34mhaskell\u001b[0m/                         ndk-r10c-toolchain-help.ipynb\r\n",
        "\u001b[01;34mCVXopt\u001b[0m/          linux.info.py                    \u001b[01;34mpandoc\u001b[0m/\r\n",
        "\u001b[01;34mcaffe\u001b[0m/           linux_kernel_module_study.ipynb  \u001b[01;34mracket\u001b[0m/\r\n",
        "gitpython.ipynb  \u001b[01;34mmnist\u001b[0m/                           visualization.ipynb\r\n"
       ]
      }
     ],
     "prompt_number": 1
    },
    {
     "cell_type": "code",
     "collapsed": false,
     "input": [
      "!git add visualization.ipynb"
     ],
     "language": "python",
     "metadata": {},
     "outputs": [],
     "prompt_number": 2
    },
    {
     "cell_type": "code",
     "collapsed": false,
     "input": [
      "!git list"
     ],
     "language": "python",
     "metadata": {},
     "outputs": [
      {
       "output_type": "stream",
       "stream": "stdout",
       "text": [
        "git: 'list' is not a git command. See 'git --help'.\r\n",
        "\r\n",
        "Did you mean one of these?\r\n",
        "\tbisect\r\n",
        "\trev-list\r\n"
       ]
      }
     ],
     "prompt_number": 3
    },
    {
     "cell_type": "code",
     "collapsed": false,
     "input": [
      "!git commit visualization.ipynb"
     ],
     "language": "python",
     "metadata": {},
     "outputs": [
      {
       "output_type": "stream",
       "stream": "stdout",
       "text": [
        "\u001b)0\u001b7\u001b[?47h\u001b[1;24r\u001b[m\u001b[4l\u001b[?1h\u001b="
       ]
      },
      {
       "output_type": "stream",
       "stream": "stdout",
       "text": [
        "\u001b[?1h\u001b=\u001b[?1h\u001b=\u001b[m\u001b[m\u001b[m\u001b[H\u001b[2J\u001b[7m  GNU nano 2.2.6    File: /root/git/StudyNote/.git/COMMIT_EDITMSG               \u001b[4;1H\u001b[m# Please enter the commit message for your changes. Lines starting\r",
        "\u001b[1B# with '#' will be ignored, and an empty message aborts the commit.\r",
        "\u001b[1B# Explicit paths specified without -i nor -o; assuming --only paths...\r",
        "\u001b[1B#\u001b[1B\b# Committer: root <root@victorli.victorli.l1.internal.cloudapp.net>\r",
        "\u001b[1B#\u001b[1B\b# On branch master\r",
        "\u001b[1B# Your branch is up-to-date with 'origin/master'.\r",
        "\u001b[1B#\u001b[1B\b# Changes to be committed:\r",
        "\u001b[1B#\u001b[7Cnew file:   visualization.ipynb\r",
        "\u001b[1B#\u001b[1B\b# Untracked files:\r",
        "\u001b[1B#\u001b[7C.ipynb_checkpoints/\r",
        "\u001b[1B#\u001b[7CAdaBoost.ipynb\r",
        "\u001b[1B#\u001b[7Cgitpython.ipynb\r",
        "\u001b[1B#\u001b[22;32H\u001b[7m[ Read 18 lines ]\r",
        "\u001b[1B^G\u001b[m Get Help  \u001b[7m^O\u001b[m WriteOut  \u001b[7m^R\u001b[m Read File \u001b[7m^Y\u001b[m Prev Page \u001b[7m^K\u001b[m Cut Text  \u001b[7m^C\u001b[m Cur Pos\r",
        "\u001b[1B\u001b[7m^X\u001b[m Exit\u001b[6C\u001b[7m^J\u001b[m Justify   \u001b[7m^W\u001b[m Where Is  \u001b[7m^V\u001b[m Next Page \u001b[7m^U\u001b[m UnCut Text\u001b[7m^T\u001b[m To Spell\r",
        "\u001b[21A"
       ]
      }
     ],
     "prompt_number": "*"
    },
    {
     "cell_type": "code",
     "collapsed": false,
     "input": [
      "!git status"
     ],
     "language": "python",
     "metadata": {},
     "outputs": [
      {
       "output_type": "stream",
       "stream": "stdout",
       "text": [
        "On branch master\r\n",
        "Your branch is up-to-date with 'origin/master'.\r\n",
        "\r\n",
        "Changes to be committed:\r\n",
        "  (use \"git reset HEAD <file>...\" to unstage)\r\n",
        "\r\n",
        "\t\u001b[32mnew file:   visualization.ipynb\u001b[m\r\n",
        "\r\n",
        "Untracked files:\r\n",
        "  (use \"git add <file>...\" to include in what will be committed)\r\n",
        "\r\n",
        "\t\u001b[31m.ipynb_checkpoints/\u001b[m\r\n",
        "\t\u001b[31mAdaBoost.ipynb\u001b[m\r\n",
        "\t\u001b[31mgitpython.ipynb\u001b[m\r\n",
        "\r\n"
       ]
      }
     ],
     "prompt_number": 1
    },
    {
     "cell_type": "code",
     "collapsed": false,
     "input": [
      "!git add visualization.ipynb"
     ],
     "language": "python",
     "metadata": {},
     "outputs": [],
     "prompt_number": 2
    },
    {
     "cell_type": "code",
     "collapsed": false,
     "input": [
      "!git status"
     ],
     "language": "python",
     "metadata": {},
     "outputs": [
      {
       "output_type": "stream",
       "stream": "stdout",
       "text": [
        "On branch master\r\n",
        "Your branch is up-to-date with 'origin/master'.\r\n",
        "\r\n",
        "Changes to be committed:\r\n",
        "  (use \"git reset HEAD <file>...\" to unstage)\r\n",
        "\r\n",
        "\t\u001b[32mnew file:   visualization.ipynb\u001b[m\r\n",
        "\r\n",
        "Untracked files:\r\n",
        "  (use \"git add <file>...\" to include in what will be committed)\r\n",
        "\r\n",
        "\t\u001b[31m.ipynb_checkpoints/\u001b[m\r\n",
        "\t\u001b[31mAdaBoost.ipynb\u001b[m\r\n",
        "\t\u001b[31mgitpython.ipynb\u001b[m\r\n",
        "\r\n"
       ]
      }
     ],
     "prompt_number": 3
    },
    {
     "cell_type": "code",
     "collapsed": false,
     "input": [
      "!git add AdaBoost.ipynb"
     ],
     "language": "python",
     "metadata": {},
     "outputs": [],
     "prompt_number": 4
    },
    {
     "cell_type": "code",
     "collapsed": false,
     "input": [],
     "language": "python",
     "metadata": {},
     "outputs": []
    }
   ],
   "metadata": {}
  }
 ]
}