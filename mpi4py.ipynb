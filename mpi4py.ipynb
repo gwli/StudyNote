{
 "metadata": {
  "name": "mpi4py"
 },
 "nbformat": 3,
 "nbformat_minor": 0,
 "worksheets": [
  {
   "cells": [
    {
     "cell_type": "markdown",
     "metadata": {},
     "source": "# [mpi4py \u6d88\u606f\u4f20\u9012\u673a\u5236\u6837\u4f8b]()"
    },
    {
     "cell_type": "markdown",
     "metadata": {},
     "source": "## hello-world"
    },
    {
     "cell_type": "code",
     "collapsed": false,
     "input": "from mpi4py import MPI\nimport numpy as np",
     "language": "python",
     "metadata": {},
     "outputs": [],
     "prompt_number": 1
    },
    {
     "cell_type": "code",
     "collapsed": false,
     "input": "comm = MPI.COMM_WORLD",
     "language": "python",
     "metadata": {},
     "outputs": [],
     "prompt_number": 2
    },
    {
     "cell_type": "markdown",
     "metadata": {},
     "source": "    \u5916\u90e8\u901a\u4fe1\uff1f MPI.COMM_WORLD \u5305\u62ec\u7a0b\u5e8f\u4e2d\u7684\u6240\u6709\u8fdb\u7a0b"
    },
    {
     "cell_type": "code",
     "collapsed": false,
     "input": "print \"Hello ! I'm rank %d from %d in total...\"%(comm.rank,comm.size)",
     "language": "python",
     "metadata": {},
     "outputs": [
      {
       "output_type": "stream",
       "stream": "stdout",
       "text": "Hello ! I'm rank 0 from 1 in total...\n"
      }
     ],
     "prompt_number": 3
    },
    {
     "cell_type": "code",
     "collapsed": false,
     "input": "comm.Barrier()",
     "language": "python",
     "metadata": {},
     "outputs": [],
     "prompt_number": 4
    },
    {
     "cell_type": "markdown",
     "metadata": {},
     "source": "\u6700\u540e\u7b49\u5f85\u540c\u6b65"
    },
    {
     "cell_type": "markdown",
     "metadata": {},
     "source": "## \u70b9\u5230\u70b9\u901a\u4fe1"
    },
    {
     "cell_type": "code",
     "collapsed": false,
     "input": "from mpi4py import MPI",
     "language": "python",
     "metadata": {},
     "outputs": [],
     "prompt_number": 7
    },
    {
     "cell_type": "code",
     "collapsed": false,
     "input": "comm = MPI.COMM_WORLD\nrank = comm.Get_rank()\nrank",
     "language": "python",
     "metadata": {},
     "outputs": [
      {
       "metadata": {},
       "output_type": "pyout",
       "prompt_number": 8,
       "text": "0"
      }
     ],
     "prompt_number": 8
    },
    {
     "cell_type": "code",
     "collapsed": false,
     "input": "if rank == 0:\n   data = {'a': 7, 'b': 3.14}\n   comm.Bsend(data)\nelif rank == 1:\n   data = comm.Brecv()",
     "language": "python",
     "metadata": {},
     "outputs": [
      {
       "ename": "TypeError",
       "evalue": "message: expecting buffer or list/tuple",
       "output_type": "pyerr",
       "traceback": [
        "\u001b[0;31m---------------------------------------------------------------------------\u001b[0m\n\u001b[0;31mTypeError\u001b[0m                                 Traceback (most recent call last)",
        "\u001b[0;32m<ipython-input-9-72306fed6870>\u001b[0m in \u001b[0;36m<module>\u001b[0;34m()\u001b[0m\n\u001b[1;32m      1\u001b[0m \u001b[0;32mif\u001b[0m \u001b[0mrank\u001b[0m \u001b[0;34m==\u001b[0m \u001b[0;36m0\u001b[0m\u001b[0;34m:\u001b[0m\u001b[0;34m\u001b[0m\u001b[0m\n\u001b[1;32m      2\u001b[0m    \u001b[0mdata\u001b[0m \u001b[0;34m=\u001b[0m \u001b[0;34m{\u001b[0m\u001b[0;34m'a'\u001b[0m\u001b[0;34m:\u001b[0m \u001b[0;36m7\u001b[0m\u001b[0;34m,\u001b[0m \u001b[0;34m'b'\u001b[0m\u001b[0;34m:\u001b[0m \u001b[0;36m3.14\u001b[0m\u001b[0;34m}\u001b[0m\u001b[0;34m\u001b[0m\u001b[0m\n\u001b[0;32m----> 3\u001b[0;31m    \u001b[0mcomm\u001b[0m\u001b[0;34m.\u001b[0m\u001b[0mBsend\u001b[0m\u001b[0;34m(\u001b[0m\u001b[0mdata\u001b[0m\u001b[0;34m)\u001b[0m\u001b[0;34m\u001b[0m\u001b[0m\n\u001b[0m\u001b[1;32m      4\u001b[0m \u001b[0;32melif\u001b[0m \u001b[0mrank\u001b[0m \u001b[0;34m==\u001b[0m \u001b[0;36m1\u001b[0m\u001b[0;34m:\u001b[0m\u001b[0;34m\u001b[0m\u001b[0m\n\u001b[1;32m      5\u001b[0m    \u001b[0mdata\u001b[0m \u001b[0;34m=\u001b[0m \u001b[0mcomm\u001b[0m\u001b[0;34m.\u001b[0m\u001b[0mBrecv\u001b[0m\u001b[0;34m(\u001b[0m\u001b[0;34m)\u001b[0m\u001b[0;34m\u001b[0m\u001b[0m\n",
        "\u001b[0;32m/usr/local/lib/python2.7/dist-packages/mpi4py/MPI.so\u001b[0m in \u001b[0;36mmpi4py.MPI.Comm.Bsend (src/mpi4py.MPI.c:64896)\u001b[0;34m()\u001b[0m\n",
        "\u001b[0;32m/usr/local/lib/python2.7/dist-packages/mpi4py/MPI.so\u001b[0m in \u001b[0;36mmpi4py.MPI.message_p2p_send (src/mpi4py.MPI.c:22744)\u001b[0;34m()\u001b[0m\n",
        "\u001b[0;32m/usr/local/lib/python2.7/dist-packages/mpi4py/MPI.so\u001b[0m in \u001b[0;36mmpi4py.MPI._p_msg_p2p.for_send (src/mpi4py.MPI.c:22604)\u001b[0;34m()\u001b[0m\n",
        "\u001b[0;32m/usr/local/lib/python2.7/dist-packages/mpi4py/MPI.so\u001b[0m in \u001b[0;36mmpi4py.MPI.message_simple (src/mpi4py.MPI.c:20478)\u001b[0;34m()\u001b[0m\n",
        "\u001b[0;31mTypeError\u001b[0m: message: expecting buffer or list/tuple"
       ]
      }
     ],
     "prompt_number": 9
    },
    {
     "cell_type": "code",
     "collapsed": false,
     "input": "comm.Barrier()",
     "language": "python",
     "metadata": {},
     "outputs": [],
     "prompt_number": 6
    },
    {
     "cell_type": "markdown",
     "metadata": {},
     "source": "###\u5e7f\u64ad\uff08brodcast)"
    },
    {
     "cell_type": "code",
     "collapsed": false,
     "input": "",
     "language": "python",
     "metadata": {},
     "outputs": [],
     "prompt_number": 6
    },
    {
     "cell_type": "markdown",
     "metadata": {},
     "source": ""
    },
    {
     "cell_type": "markdown",
     "metadata": {},
     "source": "### Numpy arrays"
    },
    {
     "cell_type": "code",
     "collapsed": false,
     "input": "from mpi4py import MPI",
     "language": "python",
     "metadata": {},
     "outputs": [],
     "prompt_number": 1
    },
    {
     "cell_type": "code",
     "collapsed": false,
     "input": "comm = MPI.COMM_WORLD",
     "language": "python",
     "metadata": {},
     "outputs": [],
     "prompt_number": 2
    },
    {
     "cell_type": "code",
     "collapsed": false,
     "input": "rank = comm.Get_rank()",
     "language": "python",
     "metadata": {},
     "outputs": [],
     "prompt_number": 3
    },
    {
     "cell_type": "markdown",
     "metadata": {},
     "source": "\u963b\u585e\u578b\u51fd\u6570\uff1a\u5b83\u9700\u8981\u5df2\u7ecf\u5b8c\u6210\u6307\u5b9a\u7684\u64cd\u4f5c\uff0cMPI_recv \u8fd4\u56de\u65f6\uff0c\u8868\u660e\u6570\u636e\u5df2\u7ecf\u63a5\u6536\u5e76\u884c\u53ef\u4ee5\u7acb\u5373\u4f7f\u7528\u3002"
    },
    {
     "cell_type": "code",
     "collapsed": false,
     "input": "if rank ==0:\n    data= np.arange(100,dtype='i')\n    comm.Send([data,MPI.INT])\nelif rank ==1:\n    data = np.empty([data,MPI.INT])\n    comm.Recv()",
     "language": "python",
     "metadata": {},
     "outputs": [],
     "prompt_number": "*"
    },
    {
     "cell_type": "markdown",
     "metadata": {},
     "source": "\u963b\u585e\u578b\u51fd\u6570\u7684\u64cd\u4f5c\u662f\u975e\u5c40\u90e8\u7684\uff0c\u5b83\u7684\u5b8c\u6210\u53ef\u80fd\u9700\u8981\u4e0e\u5176\u5b83\u8fdb\u7a0b\u8fdb\u884c\u901a\u4fe1\u3002"
    },
    {
     "cell_type": "markdown",
     "metadata": {},
     "source": "\u975e\u963b\u585e\u578b\u51fd\u6570"
    },
    {
     "cell_type": "code",
     "collapsed": false,
     "input": "if rank ==0:\n    data= np.arange(100,dtype='i')\n    comm.Isend([data,MPI.INT])\nelif rank ==1:\n    data = np.empty([data,MPI.INT])\n    comm.Irecv()\ncomm.Barrier()",
     "language": "python",
     "metadata": {},
     "outputs": [],
     "prompt_number": 6
    },
    {
     "cell_type": "markdown",
     "metadata": {},
     "source": "\u662f\u5c40\u90e8\u7684\uff0c\u4e0d\u9700\u8981\u5bf9\u5176\u5b83\u8fdb\u7a0b\u8fdb\u884c\u901a\u4fe1\u3002"
    },
    {
     "cell_type": "markdown",
     "metadata": {},
     "source": "\u56db\u79cd\u53d1\u9001\uff08Send\uff09\u6a21\u5f0f\uff1a\n\n#. \u6807\u51c6\u6a21\u5f0f\uff08comm.Send\uff09\uff1a \n\u7531MPI\u51b3\u5b9a\u6d88\u606f\u662f\u9996\u5148\u62f7\u8d1d\u5230\u4e00\u4e2a\u7f13\u51b2\u533a\u8fd4\u56de\uff0c\u8fd8\u662f\u7b49\u5f85\u6570\u636e\u53d1\u51fa\u53bb\u4e4b\u540e\u518d\u8fd4\u56de\u3002\n#. \u7f13\u51b2\u6a21\u5f0f(comm.Bsend)\uff1a\n\u628a\u6d88\u606f\u62f7\u8d1d\u5230\u7f13\u51b2\u533a\u8fd4\u56de\uff08\u4ec0\u4e48\u4f5c\u7528\uff1f\uff09\n#. \u540c\u6b65\u6a21\u5f0f\uff08comm.Ssend\uff09:\n\u786e\u5b9a\u63a5\u6536\u65b9\u5df2\u7ecf\u63a5\u53d7\u6570\u636e\u624d\u8fd4\u56de\u3002\n#. \u5c31\u7eea\u6a21\u5f0f(comm.Rsend):\n\u5fc5\u987b\u63a5\u6536\u65b9\u5df2\u7ecf\u5904\u4e8e\u63a5\u6536\u72b6\u6001\uff0c\u5426\u5219\u4f1a\u8fd4\u56de\u4e00\u4e2a\u9519\u8bef\u3002"
    },
    {
     "cell_type": "markdown",
     "metadata": {},
     "source": "\u8fdb\u7a0b\u6b7b\u9501\uff1a\n\u5982\u679c\u8bb2MPI_send \u548c MPI_recv\u8c03\u7528\u7684\u987a\u5e8f\u98a0\u5012\uff0c\u5219\u4f1a\u53d1\u751f\u6b7b\u9501\u3002"
    },
    {
     "cell_type": "markdown",
     "metadata": {},
     "source": "###\u6301\u4e45\u901a\u4fe1"
    },
    {
     "cell_type": "markdown",
     "metadata": {},
     "source": "\u5bf9\u4e8e\u4e00\u4e9b\u91cd\u590d\u7684\u6d88\u606f\u4f20\u9012\u673a\u5236\uff0c\u5b83\u4eec\u4f7f\u7528\u4e00\u6837\u7684\u901a\u4fe1\u5668\u3001\u6536\u53d1\u7f13\u51b2\u533a\u3001\u6570\u636e\u7c7b\u578b\u3001\u957f\u5ea6\u3001\u6e90/\u76ee\u7684\u5730\u5740\u548c\u6d88\u606f\u6807\u7b7e\u3002 \u4f7f\u7528\u6301\u4e45\u901a\u4fe1\u6765\u7b80\u5316\u64cd\u4f5c\u3002"
    },
    {
     "cell_type": "markdown",
     "metadata": {},
     "source": "\u9996\u5148\uff1a\n\n\u6301\u4e45\u53d1\u9001\u8bf7\u6c42\u51fd\u6570\uff1acomm.Send_init() \n\n\u6301\u4e45\u6d88\u606f\u63a5\u6536\u8bf7\u6c42\u51fd\u6570\uff1acomm.Recv_init()\n(\u8fd8\u5305\u62ec\u5176\u5b83\u53d1\u9001\u6a21\u5f0f)\n\n\u7136\u540e\uff1a\n\n\u8c03\u7528MPI_start \u6216 MPI_Startall\u5b8c\u6210\u6d88\u606f\u53d1\u9001\u3002\n\n\u7ed3\u675f\u65f6\uff1a\n\u4f7f\u7528 MPI_Request_free  \u91ca\u653e\u6240\u5360\u7528\u7a7a\u95f4\u3002"
    },
    {
     "cell_type": "markdown",
     "metadata": {},
     "source": "## \u805a\u5408\u901a\u4fe1\u4e0e\u540c\u6b65"
    },
    {
     "cell_type": "markdown",
     "metadata": {},
     "source": "\u805a\u5408\u901a\u4fe1\uff1a\u4e00\u4e2a\u901a\u4fe1\u5668\u7684\u6240\u6709\u8fdb\u7a0b\u901a\u4fe1\u8fdb\u884c\u901a\u4fe1\u3002 \u5305\u62ec\uff1a\u969c\u788d\u540c\u6b65\uff08MPI_Battier\uff09\u3001\u5e7f\u64ad\uff08MPI_Bcast\uff09\u3001\u6570\u636e\u6536\u96c6\uff08MPI_Gather\uff09\u3001\u6570\u636e\u6563\u53d1\uff08MPI_scatter\uff09\u3001\u6570\u636e\u8f6c\u7f6e\uff08MPI_Alltoall\uff09\u548c\u89c4\u7ea6\uff08MPI_Reduce\uff09\u3002"
    },
    {
     "cell_type": "markdown",
     "metadata": {},
     "source": "### \u5e7f\u64ad brodcast:\u628a\u6d88\u606f\u5206\u53d1\u51fa\u53bb"
    },
    {
     "cell_type": "code",
     "collapsed": false,
     "input": "from __future__ import  division\nimport numpy as np\nfrom mpi4py import MPI",
     "language": "python",
     "metadata": {},
     "outputs": [],
     "prompt_number": 7
    },
    {
     "cell_type": "code",
     "collapsed": false,
     "input": "comm = MPI.COMM_WORLD\nrank = comm.Get_rank()\nif rank ==0:\n    data = {'key1':[7, 2.72, 2+3j],\n            'key2':( 'abc', 'xyz')\n            }\nelse:\n    data =None\n",
     "language": "python",
     "metadata": {},
     "outputs": [],
     "prompt_number": 8
    },
    {
     "cell_type": "code",
     "collapsed": false,
     "input": "data = comm.bcast(data,root =0)\n",
     "language": "python",
     "metadata": {},
     "outputs": [],
     "prompt_number": 9
    },
    {
     "cell_type": "markdown",
     "metadata": {},
     "source": "\u8fd9\u91cc\u7684brodcast \u6709\u4ec0\u4e48\u610f\u4e49\uff1f  \u6240\u6709\u7684\u8fdb\u7a0b\u4e0a\u90fd\u6709\u3002"
    },
    {
     "cell_type": "code",
     "collapsed": false,
     "input": "comm.Barrier()",
     "language": "python",
     "metadata": {},
     "outputs": [],
     "prompt_number": 10
    },
    {
     "cell_type": "markdown",
     "metadata": {},
     "source": "\u5982\u679ccomm.Barrier() \u4e0d\u5199\u7684\u8bdd\uff0c\u5219\u4f1a\u53d1\u751fkernel busy"
    },
    {
     "cell_type": "markdown",
     "metadata": {},
     "source": "###\u6570\u636e\u6536\u96c6"
    },
    {
     "cell_type": "code",
     "collapsed": false,
     "input": "from mpi4py import  MPI",
     "language": "python",
     "metadata": {},
     "outputs": [],
     "prompt_number": 9
    },
    {
     "cell_type": "code",
     "collapsed": false,
     "input": "comm = MPI.COMM_WORLD\nsize = comm.Get_size()\nrank = comm.Get_rank()",
     "language": "python",
     "metadata": {},
     "outputs": [],
     "prompt_number": 11
    },
    {
     "cell_type": "code",
     "collapsed": false,
     "input": "data = (rank+1)**2\ndata = comm.gather(data,root=0)",
     "language": "python",
     "metadata": {},
     "outputs": [],
     "prompt_number": 14
    },
    {
     "cell_type": "code",
     "collapsed": false,
     "input": "if rank==0:\n    for i in range(size):\n        assert data[i] ==(i+1)**2\nelse:\n    assert data in None",
     "language": "python",
     "metadata": {},
     "outputs": [],
     "prompt_number": 19
    },
    {
     "cell_type": "markdown",
     "metadata": {},
     "source": "MPI_gather \u7684\u4f5c\u7528\u76f8\u5f53\u4e8e\u9996\u5148\u628a\u6570\u636e\u6536\u96c6\u5230\u4e00\u4e2a\u8fdb\u7a0b\u4e2d\uff0c\u7136\u540e\u4f7f\u7528MPI_Bcast \u5c06\u6536\u96c6\u7684\u6570\u636e\u5e7f\u64ad\u7ed9\u5176\u5b83\u8fdb\u7a0b\u3002MPI_Allgatherv \u7528\u4e8e\u6536\u96c6\u4e0d\u540c\u957f\u5ea6\u7684\u6570\u636e\u5230\u8fdb\u7a0b\u4e2d\u3002"
    },
    {
     "cell_type": "markdown",
     "metadata": {},
     "source": "### \u6570\u636e\u6563\u53d1"
    },
    {
     "cell_type": "code",
     "collapsed": false,
     "input": "from mpi4py import  MPI\nimport numpy as np",
     "language": "python",
     "metadata": {},
     "outputs": [],
     "prompt_number": 22
    },
    {
     "cell_type": "code",
     "collapsed": false,
     "input": "def matvec(comm,A,x):\n    m = A.shape[0]\n    p= comm.Get_size()\n    xg = np.zeros(m*p,dtype='d')\n    comm.Allgather([x,MPI.DOUBLE],\n                   [xg,MPI.DOUBLE],\n                   )\n    y= np.dot(A,xg)",
     "language": "python",
     "metadata": {},
     "outputs": [],
     "prompt_number": 24
    },
    {
     "cell_type": "markdown",
     "metadata": {},
     "source": "\u8fd9\u91cc\u8868\u793a\u4ec0\u4e48\u610f\u601d\uff1f"
    },
    {
     "cell_type": "markdown",
     "metadata": {},
     "source": "###\u6570\u636e\u6563\u53d1"
    },
    {
     "cell_type": "code",
     "collapsed": false,
     "input": "from mpi4py import MPI\n\ncomm = MPI.COMM_WORLD\nsize = comm.Get_size()\nrank = comm.Get_rank()",
     "language": "python",
     "metadata": {},
     "outputs": [],
     "prompt_number": 27
    },
    {
     "cell_type": "code",
     "collapsed": false,
     "input": "if rank==0:\n    data =[(i+1)**2 for i in range(size)]\nelse:\n    data =None\ndata = comm.scatter(data,root=0)\nassert data ==(rank+1)**2",
     "language": "python",
     "metadata": {},
     "outputs": [],
     "prompt_number": 29
    },
    {
     "cell_type": "code",
     "collapsed": false,
     "input": "",
     "language": "python",
     "metadata": {},
     "outputs": [],
     "prompt_number": 8
    },
    {
     "cell_type": "code",
     "collapsed": false,
     "input": "pprint(\"after Scatter\uff1a\")\nfor r in xrange(comm.size):\n    if comm.rank ==r:\n        print \"[%d] %s\" %(comm.rank,my_A)\n        ",
     "language": "python",
     "metadata": {},
     "outputs": [
      {
       "output_type": "stream",
       "stream": "stdout",
       "text": "after Scatter\uff1a\n\n[0] [  2.37516486e-316   2.38755129e-316   6.94595969e-310   0.00000000e+000]\n"
      }
     ],
     "prompt_number": 9
    },
    {
     "cell_type": "code",
     "collapsed": false,
     "input": "my_A=2",
     "language": "python",
     "metadata": {},
     "outputs": [],
     "prompt_number": 10
    },
    {
     "cell_type": "code",
     "collapsed": false,
     "input": "comm.Allgather([my_A,MPI.DOUBLE],[A,MPI.DOUBLE])",
     "language": "python",
     "metadata": {},
     "outputs": [
      {
       "ename": "TypeError",
       "evalue": "expected a readable buffer object",
       "output_type": "pyerr",
       "traceback": [
        "\u001b[0;31m---------------------------------------------------------------------------\u001b[0m\n\u001b[0;31mTypeError\u001b[0m                                 Traceback (most recent call last)",
        "\u001b[0;32m<ipython-input-11-085c5f2b9613>\u001b[0m in \u001b[0;36m<module>\u001b[0;34m()\u001b[0m\n\u001b[0;32m----> 1\u001b[0;31m \u001b[0mcomm\u001b[0m\u001b[0;34m.\u001b[0m\u001b[0mAllgather\u001b[0m\u001b[0;34m(\u001b[0m\u001b[0;34m[\u001b[0m\u001b[0mmy_A\u001b[0m\u001b[0;34m,\u001b[0m\u001b[0mMPI\u001b[0m\u001b[0;34m.\u001b[0m\u001b[0mDOUBLE\u001b[0m\u001b[0;34m]\u001b[0m\u001b[0;34m,\u001b[0m\u001b[0;34m[\u001b[0m\u001b[0mA\u001b[0m\u001b[0;34m,\u001b[0m\u001b[0mMPI\u001b[0m\u001b[0;34m.\u001b[0m\u001b[0mDOUBLE\u001b[0m\u001b[0;34m]\u001b[0m\u001b[0;34m)\u001b[0m\u001b[0;34m\u001b[0m\u001b[0m\n\u001b[0m",
        "\u001b[0;32m/usr/local/lib/python2.7/dist-packages/mpi4py/MPI.so\u001b[0m in \u001b[0;36mmpi4py.MPI.Comm.Allgather (src/mpi4py.MPI.c:67593)\u001b[0;34m()\u001b[0m\n",
        "\u001b[0;32m/usr/local/lib/python2.7/dist-packages/mpi4py/MPI.so\u001b[0m in \u001b[0;36mmpi4py.MPI._p_msg_cco.for_allgather (src/mpi4py.MPI.c:24123)\u001b[0;34m()\u001b[0m\n",
        "\u001b[0;32m/usr/local/lib/python2.7/dist-packages/mpi4py/MPI.so\u001b[0m in \u001b[0;36mmpi4py.MPI._p_msg_cco.for_cco_send (src/mpi4py.MPI.c:22959)\u001b[0;34m()\u001b[0m\n",
        "\u001b[0;32m/usr/local/lib/python2.7/dist-packages/mpi4py/MPI.so\u001b[0m in \u001b[0;36mmpi4py.MPI.message_simple (src/mpi4py.MPI.c:20516)\u001b[0;34m()\u001b[0m\n",
        "\u001b[0;32m/usr/local/lib/python2.7/dist-packages/mpi4py/MPI.so\u001b[0m in \u001b[0;36mmpi4py.MPI.message_basic (src/mpi4py.MPI.c:19644)\u001b[0;34m()\u001b[0m\n",
        "\u001b[0;32m/usr/local/lib/python2.7/dist-packages/mpi4py/MPI.so\u001b[0m in \u001b[0;36mmpi4py.MPI.getbuffer (src/mpi4py.MPI.c:6757)\u001b[0;34m()\u001b[0m\n",
        "\u001b[0;32m/usr/local/lib/python2.7/dist-packages/mpi4py/MPI.so\u001b[0m in \u001b[0;36mmpi4py.MPI.PyObject_GetBufferEx (src/mpi4py.MPI.c:6093)\u001b[0;34m()\u001b[0m\n",
        "\u001b[0;31mTypeError\u001b[0m: expected a readable buffer object"
       ]
      }
     ],
     "prompt_number": 11
    },
    {
     "cell_type": "markdown",
     "metadata": {},
     "source": "comm.Allgather \u662f\u4ec0\u4e48\uff1f"
    },
    {
     "cell_type": "code",
     "collapsed": false,
     "input": "pprint(\"After Allgather:\")\nfor r in xrange(comm.size):\n    if comm.rank==r:\n        print \"[%d] %s\" %(comm.rank,A)",
     "language": "python",
     "metadata": {},
     "outputs": []
    },
    {
     "cell_type": "code",
     "collapsed": false,
     "input": "comm.Barrier()",
     "language": "python",
     "metadata": {},
     "outputs": [],
     "prompt_number": "*"
    },
    {
     "cell_type": "markdown",
     "metadata": {},
     "source": "## [image  spectrogram \u56fe\u50cf\u8c31](https://github.com/jbornschein/mpi4py-examples)"
    },
    {
     "cell_type": "code",
     "collapsed": false,
     "input": "import sys\n#import tables\nimport pylab\nfrom numpy.fft import  fft2,fftshift\nimport cv2\nimport glob",
     "language": "python",
     "metadata": {},
     "outputs": []
    },
    {
     "cell_type": "code",
     "collapsed": false,
     "input": "comm = MPI.COMM_WORLD",
     "language": "python",
     "metadata": {},
     "outputs": []
    },
    {
     "cell_type": "code",
     "collapsed": false,
     "input": "files = glob.glob('*.jpg')\nprint files.count",
     "language": "python",
     "metadata": {},
     "outputs": []
    },
    {
     "cell_type": "code",
     "collapsed": false,
     "input": "image_count =0\nimg =[]\nfor elem in files:\n    img = cv2.imread(elem)\n    img = cv2.cvtColor(img,cv2.COLOR_RGB2GRAY)\n    #print img.shape\n    image_count=image_count+1\nimage_count",
     "language": "python",
     "metadata": {},
     "outputs": []
    },
    {
     "cell_type": "code",
     "collapsed": false,
     "input": "t_start = MPI.Wtime",
     "language": "python",
     "metadata": {},
     "outputs": []
    },
    {
     "cell_type": "code",
     "collapsed": false,
     "input": "for i in xrange(comm.rank,comm.size):\n    for elem in files:\n        img = cv2.imread(elem)\n        img = cv2.cvtColor(img,cv2.COLOR_RGB2GRAY)\n        img_ = fft2(img)\n        my_spec = np.zeros( (height, width) )\n        my_spec = np.abs(img_)\n    \nmy_spec /= image_count",
     "language": "python",
     "metadata": {},
     "outputs": []
    },
    {
     "cell_type": "code",
     "collapsed": false,
     "input": "print my_spec.shape",
     "language": "python",
     "metadata": {},
     "outputs": []
    },
    {
     "cell_type": "code",
     "collapsed": false,
     "input": "spec = np.zeros_like(my_spec)",
     "language": "python",
     "metadata": {},
     "outputs": []
    },
    {
     "cell_type": "code",
     "collapsed": false,
     "input": "comm.Reduce(\n            [my_spec,MPI.DOUBLE],\n            [spec,MPI.DOUBLE],\n            op= MPI.SUM,\n            root = 0            \n            )",
     "language": "python",
     "metadata": {},
     "outputs": []
    },
    {
     "cell_type": "markdown",
     "metadata": {},
     "source": "\u8fd9\u662f\u4ec0\u4e48\u610f\u601d"
    },
    {
     "cell_type": "code",
     "collapsed": false,
     "input": "comm.Barrier()\nt_diff = MPI.Wtime-t_start\nprint t_diff",
     "language": "python",
     "metadata": {},
     "outputs": []
    },
    {
     "cell_type": "code",
     "collapsed": false,
     "input": "pprint(\n    \" Analyzed %d images in %5.2f seconds: %4.2f images per second\" % (image_count, t_diff, image_count/t_diff) ",
     "language": "python",
     "metadata": {},
     "outputs": []
    },
    {
     "cell_type": "code",
     "collapsed": false,
     "input": "pprint(\"-\"*78)",
     "language": "python",
     "metadata": {},
     "outputs": []
    },
    {
     "cell_type": "code",
     "collapsed": false,
     "input": "if comm.rank == 0:\n    spec = fftshift(spec)\n    pylab.imshow(np.log(spec))\n    pylab.show()\n\ncomm.Barrier()",
     "language": "python",
     "metadata": {},
     "outputs": []
    },
    {
     "cell_type": "code",
     "collapsed": false,
     "input": "",
     "language": "python",
     "metadata": {},
     "outputs": []
    }
   ],
   "metadata": {}
  }
 ]
}