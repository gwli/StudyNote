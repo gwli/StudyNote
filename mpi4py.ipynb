{
 "metadata": {
  "name": "mpi4py"
 },
 "nbformat": 3,
 "nbformat_minor": 0,
 "worksheets": [
  {
   "cells": [
    {
     "cell_type": "markdown",
     "metadata": {},
     "source": "# [mpi4py \u6d88\u606f\u4f20\u9012\u673a\u5236\u6837\u4f8b](https://github.com/jbornschein/mpi4py-examples)"
    },
    {
     "cell_type": "markdown",
     "metadata": {},
     "source": "## \u70b9\u5230\u70b9"
    },
    {
     "cell_type": "markdown",
     "metadata": {},
     "source": "##\u5e7f\u64ad"
    },
    {
     "cell_type": "code",
     "collapsed": false,
     "input": "",
     "language": "python",
     "metadata": {},
     "outputs": []
    },
    {
     "cell_type": "markdown",
     "metadata": {},
     "source": "## hello-world"
    },
    {
     "cell_type": "code",
     "collapsed": false,
     "input": "from mpi4py import MPI",
     "language": "python",
     "metadata": {},
     "outputs": [],
     "prompt_number": 101
    },
    {
     "cell_type": "code",
     "collapsed": false,
     "input": "comm = MPI.COMM_WORLD\nMPI.COMM_SELF",
     "language": "python",
     "metadata": {},
     "outputs": [],
     "prompt_number": 102
    },
    {
     "cell_type": "markdown",
     "metadata": {},
     "source": "\u8fd9\u4e2a\u8868\u793a\u4ec0\u4e48\u610f\u601d,\u5916\u90e8\u901a\u4fe1\uff1f"
    },
    {
     "cell_type": "code",
     "collapsed": false,
     "input": "print \"Hello ! I'm rank %d from %d in total...\"%(comm.rank,comm.size)",
     "language": "python",
     "metadata": {},
     "outputs": [
      {
       "output_type": "stream",
       "stream": "stdout",
       "text": "Hello ! I'm rank 0 from 1 in total...\n"
      }
     ],
     "prompt_number": 103
    },
    {
     "cell_type": "code",
     "collapsed": false,
     "input": "comm.Barrier()",
     "language": "python",
     "metadata": {},
     "outputs": [],
     "prompt_number": 104
    },
    {
     "cell_type": "markdown",
     "metadata": {},
     "source": "\u6700\u540e\u7b49\u5f85\u540c\u6b65"
    },
    {
     "cell_type": "markdown",
     "metadata": {},
     "source": "## Brodcast"
    },
    {
     "cell_type": "code",
     "collapsed": false,
     "input": "from __future__ import  division\nimport numpy as np\nfrom mpi4py import MPI",
     "language": "python",
     "metadata": {},
     "outputs": [],
     "prompt_number": 105
    },
    {
     "cell_type": "code",
     "collapsed": false,
     "input": "def pprint(str=\"\", end=\"\\n\", comm=MPI.COMM_WORLD):\n    \"\"\"Print for MPI parallel programs: Only rank 0 prints *str*.\"\"\"\n    if comm.rank == 0:\n        print str+end",
     "language": "python",
     "metadata": {},
     "outputs": [],
     "prompt_number": 120
    },
    {
     "cell_type": "code",
     "collapsed": false,
     "input": "comm = MPI.COMM_WORLD",
     "language": "python",
     "metadata": {},
     "outputs": [],
     "prompt_number": 107
    },
    {
     "cell_type": "code",
     "collapsed": false,
     "input": "pprint(\"-\"*78)\npprint(\"running on %d cores\" % comm.size)\npprint(\"-\"*78)",
     "language": "python",
     "metadata": {},
     "outputs": [
      {
       "output_type": "stream",
       "stream": "stdout",
       "text": "------------------------------------------------------------------------------\nrunning on 1 cores\n------------------------------------------------------------------------------\n"
      }
     ],
     "prompt_number": 108
    },
    {
     "cell_type": "code",
     "collapsed": false,
     "input": "my_N =4\nN = my_N *comm.size",
     "language": "python",
     "metadata": {},
     "outputs": [],
     "prompt_number": 109
    },
    {
     "cell_type": "code",
     "collapsed": false,
     "input": "if comm.rank ==0:\n    A= np.arange(N,dtype=np.float64)\nelse:\n    A= np.empty(N,dtype=np.float64)",
     "language": "python",
     "metadata": {},
     "outputs": [],
     "prompt_number": 110
    },
    {
     "cell_type": "code",
     "collapsed": false,
     "input": "my_A= np.empty(my_N,dtype=np.float64)\nmy_A",
     "language": "python",
     "metadata": {},
     "outputs": [
      {
       "metadata": {},
       "output_type": "pyout",
       "prompt_number": 111,
       "text": "array([  0.00000000e+000,   4.72754421e-317,   6.92064746e-310,\n         6.92062199e-310])"
      }
     ],
     "prompt_number": 111
    },
    {
     "cell_type": "code",
     "collapsed": false,
     "input": "comm.scatter()",
     "language": "python",
     "metadata": {},
     "outputs": [
      {
       "ename": "ValueError",
       "evalue": "expecting 1 items, got 2",
       "output_type": "pyerr",
       "traceback": [
        "\u001b[0;31m---------------------------------------------------------------------------\u001b[0m\n\u001b[0;31mValueError\u001b[0m                                Traceback (most recent call last)",
        "\u001b[0;32m<ipython-input-112-b7ae4045c5fb>\u001b[0m in \u001b[0;36m<module>\u001b[0;34m()\u001b[0m\n\u001b[0;32m----> 1\u001b[0;31m \u001b[0mcomm\u001b[0m\u001b[0;34m.\u001b[0m\u001b[0mscatter\u001b[0m\u001b[0;34m(\u001b[0m\u001b[0;34m[\u001b[0m\u001b[0mmy_A\u001b[0m\u001b[0;34m,\u001b[0m \u001b[0mMPI\u001b[0m\u001b[0;34m.\u001b[0m\u001b[0mDOUBLE\u001b[0m\u001b[0;34m]\u001b[0m\u001b[0;34m)\u001b[0m\u001b[0;34m\u001b[0m\u001b[0m\n\u001b[0m",
        "\u001b[0;32m/usr/local/lib/python2.7/dist-packages/mpi4py/MPI.so\u001b[0m in \u001b[0;36mmpi4py.MPI.Comm.scatter (src/mpi4py.MPI.c:73400)\u001b[0;34m()\u001b[0m\n",
        "\u001b[0;32m/usr/local/lib/python2.7/dist-packages/mpi4py/MPI.so\u001b[0m in \u001b[0;36mmpi4py.MPI.PyMPI_scatter (src/mpi4py.MPI.c:34035)\u001b[0;34m()\u001b[0m\n",
        "\u001b[0;32m/usr/local/lib/python2.7/dist-packages/mpi4py/MPI.so\u001b[0m in \u001b[0;36mmpi4py.MPI._p_Pickle.dumpv (src/mpi4py.MPI.c:28325)\u001b[0;34m()\u001b[0m\n",
        "\u001b[0;31mValueError\u001b[0m: expecting 1 items, got 2"
       ]
      }
     ],
     "prompt_number": 112
    },
    {
     "cell_type": "code",
     "collapsed": false,
     "input": "pprint(\"after Scatter\uff1a\")\nfor r in xrange(comm.size):\n    if comm.rank ==r:\n        print \"[%d] %s\" %(comm.rank,my_A)\n        ",
     "language": "python",
     "metadata": {},
     "outputs": [
      {
       "output_type": "stream",
       "stream": "stdout",
       "text": "after Scatter\uff1a\n[0] [  0.00000000e+000   4.72754421e-317   6.92064746e-310   6.92062199e-310]\n"
      }
     ],
     "prompt_number": 113
    },
    {
     "cell_type": "code",
     "collapsed": false,
     "input": "my_A=2",
     "language": "python",
     "metadata": {},
     "outputs": [],
     "prompt_number": 114
    },
    {
     "cell_type": "code",
     "collapsed": false,
     "input": "comm.Allgather([my_A,MPI.DOUBLE],[A,MPI.DOUBLE])",
     "language": "python",
     "metadata": {},
     "outputs": [
      {
       "ename": "TypeError",
       "evalue": "expected a readable buffer object",
       "output_type": "pyerr",
       "traceback": [
        "\u001b[0;31m---------------------------------------------------------------------------\u001b[0m\n\u001b[0;31mTypeError\u001b[0m                                 Traceback (most recent call last)",
        "\u001b[0;32m<ipython-input-115-085c5f2b9613>\u001b[0m in \u001b[0;36m<module>\u001b[0;34m()\u001b[0m\n\u001b[0;32m----> 1\u001b[0;31m \u001b[0mcomm\u001b[0m\u001b[0;34m.\u001b[0m\u001b[0mAllgather\u001b[0m\u001b[0;34m(\u001b[0m\u001b[0;34m[\u001b[0m\u001b[0mmy_A\u001b[0m\u001b[0;34m,\u001b[0m\u001b[0mMPI\u001b[0m\u001b[0;34m.\u001b[0m\u001b[0mDOUBLE\u001b[0m\u001b[0;34m]\u001b[0m\u001b[0;34m,\u001b[0m\u001b[0;34m[\u001b[0m\u001b[0mA\u001b[0m\u001b[0;34m,\u001b[0m\u001b[0mMPI\u001b[0m\u001b[0;34m.\u001b[0m\u001b[0mDOUBLE\u001b[0m\u001b[0;34m]\u001b[0m\u001b[0;34m)\u001b[0m\u001b[0;34m\u001b[0m\u001b[0m\n\u001b[0m",
        "\u001b[0;32m/usr/local/lib/python2.7/dist-packages/mpi4py/MPI.so\u001b[0m in \u001b[0;36mmpi4py.MPI.Comm.Allgather (src/mpi4py.MPI.c:67593)\u001b[0;34m()\u001b[0m\n",
        "\u001b[0;32m/usr/local/lib/python2.7/dist-packages/mpi4py/MPI.so\u001b[0m in \u001b[0;36mmpi4py.MPI._p_msg_cco.for_allgather (src/mpi4py.MPI.c:24123)\u001b[0;34m()\u001b[0m\n",
        "\u001b[0;32m/usr/local/lib/python2.7/dist-packages/mpi4py/MPI.so\u001b[0m in \u001b[0;36mmpi4py.MPI._p_msg_cco.for_cco_send (src/mpi4py.MPI.c:22959)\u001b[0;34m()\u001b[0m\n",
        "\u001b[0;32m/usr/local/lib/python2.7/dist-packages/mpi4py/MPI.so\u001b[0m in \u001b[0;36mmpi4py.MPI.message_simple (src/mpi4py.MPI.c:20516)\u001b[0;34m()\u001b[0m\n",
        "\u001b[0;32m/usr/local/lib/python2.7/dist-packages/mpi4py/MPI.so\u001b[0m in \u001b[0;36mmpi4py.MPI.message_basic (src/mpi4py.MPI.c:19644)\u001b[0;34m()\u001b[0m\n",
        "\u001b[0;32m/usr/local/lib/python2.7/dist-packages/mpi4py/MPI.so\u001b[0m in \u001b[0;36mmpi4py.MPI.getbuffer (src/mpi4py.MPI.c:6757)\u001b[0;34m()\u001b[0m\n",
        "\u001b[0;32m/usr/local/lib/python2.7/dist-packages/mpi4py/MPI.so\u001b[0m in \u001b[0;36mmpi4py.MPI.PyObject_GetBufferEx (src/mpi4py.MPI.c:6093)\u001b[0;34m()\u001b[0m\n",
        "\u001b[0;31mTypeError\u001b[0m: expected a readable buffer object"
       ]
      }
     ],
     "prompt_number": 115
    },
    {
     "cell_type": "markdown",
     "metadata": {},
     "source": "comm.Allgather \u662f\u4ec0\u4e48\uff1f"
    },
    {
     "cell_type": "code",
     "collapsed": false,
     "input": "pprint(\"After Allgather:\")\nfor r in xrange(comm.size):\n    if comm.rank==r:\n        print \"[%d] %s\" %(comm.rank,A)",
     "language": "python",
     "metadata": {},
     "outputs": []
    },
    {
     "cell_type": "code",
     "collapsed": false,
     "input": "comm.Barrier()",
     "language": "python",
     "metadata": {},
     "outputs": []
    },
    {
     "cell_type": "markdown",
     "metadata": {},
     "source": "## image  spectrogram \u56fe\u50cf\u8c31"
    },
    {
     "cell_type": "code",
     "collapsed": false,
     "input": "import sys\n#import tables\nimport pylab\nfrom numpy.fft import  fft2,fftshift\nimport cv2\nimport glob",
     "language": "python",
     "metadata": {},
     "outputs": []
    },
    {
     "cell_type": "code",
     "collapsed": false,
     "input": "comm = MPI.COMM_WORLD",
     "language": "python",
     "metadata": {},
     "outputs": []
    },
    {
     "cell_type": "code",
     "collapsed": false,
     "input": "files = glob.glob('*.jpg')\nprint files.count",
     "language": "python",
     "metadata": {},
     "outputs": []
    },
    {
     "cell_type": "code",
     "collapsed": false,
     "input": "image_count =0\nimg =[]\nfor elem in files:\n    img = cv2.imread(elem)\n    img = cv2.cvtColor(img,cv2.COLOR_RGB2GRAY)\n    #print img.shape\n    image_count=image_count+1\nimage_count",
     "language": "python",
     "metadata": {},
     "outputs": []
    },
    {
     "cell_type": "code",
     "collapsed": false,
     "input": "t_start = MPI.Wtime",
     "language": "python",
     "metadata": {},
     "outputs": []
    },
    {
     "cell_type": "code",
     "collapsed": false,
     "input": "for i in xrange(comm.rank,comm.size):\n    for elem in files:\n        img = cv2.imread(elem)\n        img = cv2.cvtColor(img,cv2.COLOR_RGB2GRAY)\n        img_ = fft2(img)\n        my_spec = np.zeros( (height, width) )\n        my_spec = np.abs(img_)\n    \nmy_spec /= image_count",
     "language": "python",
     "metadata": {},
     "outputs": []
    },
    {
     "cell_type": "code",
     "collapsed": false,
     "input": "print my_spec.shape",
     "language": "python",
     "metadata": {},
     "outputs": []
    },
    {
     "cell_type": "code",
     "collapsed": false,
     "input": "spec = np.zeros_like(my_spec)",
     "language": "python",
     "metadata": {},
     "outputs": []
    },
    {
     "cell_type": "code",
     "collapsed": false,
     "input": "comm.Reduce(\n            [my_spec,MPI.DOUBLE],\n            [spec,MPI.DOUBLE],\n            op= MPI.SUM,\n            root = 0            \n            )",
     "language": "python",
     "metadata": {},
     "outputs": []
    },
    {
     "cell_type": "markdown",
     "metadata": {},
     "source": "\u8fd9\u662f\u4ec0\u4e48\u610f\u601d"
    },
    {
     "cell_type": "code",
     "collapsed": false,
     "input": "comm.Barrier()\nt_diff = MPI.Wtime-t_start\nprint t_diff",
     "language": "python",
     "metadata": {},
     "outputs": [
      {
       "ename": "TypeError",
       "evalue": "unsupported operand type(s) for -: 'builtin_function_or_method' and 'builtin_function_or_method'",
       "output_type": "pyerr",
       "traceback": [
        "\u001b[0;31m---------------------------------------------------------------------------\u001b[0m\n\u001b[0;31mTypeError\u001b[0m                                 Traceback (most recent call last)",
        "\u001b[0;32m<ipython-input-119-2b3176cee971>\u001b[0m in \u001b[0;36m<module>\u001b[0;34m()\u001b[0m\n\u001b[1;32m      1\u001b[0m \u001b[0mcomm\u001b[0m\u001b[0;34m.\u001b[0m\u001b[0mBarrier\u001b[0m\u001b[0;34m(\u001b[0m\u001b[0;34m)\u001b[0m\u001b[0;34m\u001b[0m\u001b[0m\n\u001b[0;32m----> 2\u001b[0;31m \u001b[0mt_diff\u001b[0m \u001b[0;34m=\u001b[0m \u001b[0mMPI\u001b[0m\u001b[0;34m.\u001b[0m\u001b[0mWtime\u001b[0m\u001b[0;34m-\u001b[0m\u001b[0mt_start\u001b[0m\u001b[0;34m\u001b[0m\u001b[0m\n\u001b[0m\u001b[1;32m      3\u001b[0m \u001b[0;32mprint\u001b[0m \u001b[0mt_diff\u001b[0m\u001b[0;34m\u001b[0m\u001b[0m\n",
        "\u001b[0;31mTypeError\u001b[0m: unsupported operand type(s) for -: 'builtin_function_or_method' and 'builtin_function_or_method'"
       ]
      }
     ],
     "prompt_number": 119
    },
    {
     "cell_type": "code",
     "collapsed": false,
     "input": "pprint(\n    \" Analyzed %d images in %5.2f seconds: %4.2f images per second\" % (image_count, t_diff, image_count/t_diff) ",
     "language": "python",
     "metadata": {},
     "outputs": [
      {
       "ename": "SyntaxError",
       "evalue": "invalid syntax (<ipython-input-116-f0815574a900>, line 2)",
       "output_type": "pyerr",
       "traceback": [
        "\u001b[0;36m  File \u001b[0;32m\"<ipython-input-116-f0815574a900>\"\u001b[0;36m, line \u001b[0;32m2\u001b[0m\n\u001b[0;31m    \" Analyzed %d images in %5.2f seconds: %4.2f images per second\" % (image_count, t_diff, image_count/t_diff)\u001b[0m\n\u001b[0m                                                                                                                ^\u001b[0m\n\u001b[0;31mSyntaxError\u001b[0m\u001b[0;31m:\u001b[0m invalid syntax\n"
       ]
      }
     ],
     "prompt_number": 116
    },
    {
     "cell_type": "code",
     "collapsed": false,
     "input": "pprint(\"-\"*78)",
     "language": "python",
     "metadata": {},
     "outputs": [
      {
       "output_type": "stream",
       "stream": "stdout",
       "text": "------------------------------------------------------------------------------\n"
      }
     ],
     "prompt_number": 117
    },
    {
     "cell_type": "code",
     "collapsed": false,
     "input": "if comm.rank == 0:\n    spec = fftshift(spec)\n    pylab.imshow(np.log(spec))\n    pylab.show()\n\ncomm.Barrier()",
     "language": "python",
     "metadata": {},
     "outputs": [
      {
       "metadata": {},
       "output_type": "display_data",
       "png": "[encoded data removed]",
       "text": "<matplotlib.figure.Figure at 0x7f65bf119ed0>"
      }
     ],
     "prompt_number": 118
    },
    {
     "cell_type": "code",
     "collapsed": false,
     "input": "",
     "language": "python",
     "metadata": {},
     "outputs": [],
     "prompt_number": 118
    }
   ],
   "metadata": {}
  }
 ]
}