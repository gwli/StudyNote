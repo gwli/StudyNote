{
 "metadata": {
  "name": ""
 },
 "nbformat": 3,
 "nbformat_minor": 0,
 "worksheets": [
  {
   "cells": [
    {
     "cell_type": "markdown",
     "metadata": {},
     "source": [
      "# \u5377\u79ef\u795e\u7ecf\u7f51\u7edc\u6574\u4e2a\u4ee3\u7801"
     ]
    },
    {
     "cell_type": "code",
     "collapsed": false,
     "input": [
      "!wget http://deeplearning.net/tutorial/code/logistic_sgd.py\n"
     ],
     "language": "python",
     "metadata": {},
     "outputs": [
      {
       "output_type": "stream",
       "stream": "stdout",
       "text": [
        "--2015-03-31 14:06:55--  http://deeplearning.net/tutorial/code/logistic_sgd.py\r\n",
        "Resolving deeplearning.net (deeplearning.net)... "
       ]
      },
      {
       "output_type": "stream",
       "stream": "stdout",
       "text": [
        "132.204.26.28\r\n",
        "Connecting to deeplearning.net (deeplearning.net)|132.204.26.28|:80... "
       ]
      },
      {
       "output_type": "stream",
       "stream": "stdout",
       "text": [
        "^C\r\n"
       ]
      },
      {
       "output_type": "stream",
       "stream": "stdout",
       "text": [
        "--2015-03-31 14:07:17--  http://deeplearning.net/tutorial/code/mlp.py\r\n",
        "Resolving deeplearning.net (deeplearning.net)... 132.204.26.28\r\n",
        "Connecting to deeplearning.net (deeplearning.net)|132.204.26.28|:80... "
       ]
      },
      {
       "output_type": "stream",
       "stream": "stdout",
       "text": [
        "connected.\r\n",
        "HTTP request sent, awaiting response... "
       ]
      },
      {
       "output_type": "stream",
       "stream": "stdout",
       "text": [
        "200 OK\r\n",
        "Length: 14183 (14K) [text/plain]\r\n",
        "Saving to: 'mlp.py'\r\n",
        "\r\n",
        "\r",
        " 0% [                                       ] 0           --.-K/s              \r",
        "100%[======================================>] 14,183      --.-K/s   in 0s      \r\n",
        "\r\n",
        "2015-03-31 14:07:18 (149 MB/s) - 'mlp.py' saved [14183/14183]\r\n",
        "\r\n"
       ]
      }
     ],
     "prompt_number": 1
    },
    {
     "cell_type": "code",
     "collapsed": false,
     "input": [
      "!wget http://deeplearning.net/tutorial/code/mlp.py"
     ],
     "language": "python",
     "metadata": {},
     "outputs": [
      {
       "output_type": "stream",
       "stream": "stdout",
       "text": [
        "--2015-03-31 14:07:24--  http://deeplearning.net/tutorial/code/mlp.py\r\n",
        "Resolving deeplearning.net (deeplearning.net)... 132.204.26.28\r\n",
        "Connecting to deeplearning.net (deeplearning.net)|132.204.26.28|:80... "
       ]
      },
      {
       "output_type": "stream",
       "stream": "stdout",
       "text": [
        "connected.\r\n",
        "HTTP request sent, awaiting response... "
       ]
      },
      {
       "output_type": "stream",
       "stream": "stdout",
       "text": [
        "200 OK\r\n",
        "Length: 14183 (14K) [text/plain]\r\n",
        "Saving to: 'mlp.py.1'\r\n",
        "\r\n",
        "\r",
        " 0% [                                       ] 0           --.-K/s              \r",
        "100%[======================================>] 14,183      --.-K/s   in 0s      \r\n",
        "\r\n",
        "2015-03-31 14:07:26 (72.0 MB/s) - 'mlp.py.1' saved [14183/14183]\r\n",
        "\r\n"
       ]
      }
     ],
     "prompt_number": 2
    },
    {
     "cell_type": "code",
     "collapsed": false,
     "input": [
      "!wget http://www.iro.umontreal.ca/~lisa/deep/data/mnist/mnist.pkl.gz"
     ],
     "language": "python",
     "metadata": {},
     "outputs": [
      {
       "output_type": "stream",
       "stream": "stdout",
       "text": [
        "--2015-03-31 14:20:05--  http://www.iro.umontreal.ca/~lisa/deep/data/mnist/mnist.pkl.gz\r\n",
        "Resolving www.iro.umontreal.ca (www.iro.umontreal.ca)... 132.204.24.179\r\n",
        "Connecting to www.iro.umontreal.ca (www.iro.umontreal.ca)|132.204.24.179|:80... "
       ]
      },
      {
       "output_type": "stream",
       "stream": "stdout",
       "text": [
        "connected.\r\n",
        "HTTP request sent, awaiting response... "
       ]
      },
      {
       "output_type": "stream",
       "stream": "stdout",
       "text": [
        "200 OK\r\n",
        "Length: 16168813 (15M) [application/x-gzip]\r\n",
        "Saving to: 'mnist.pkl.gz'\r\n",
        "\r\n",
        "\r",
        " 0% [                                       ] 0           --.-K/s              "
       ]
      },
      {
       "output_type": "stream",
       "stream": "stdout",
       "text": [
        "\r",
        " 0% [                                       ] 6,567       28.3KB/s             "
       ]
      },
      {
       "output_type": "stream",
       "stream": "stdout",
       "text": [
        "\r",
        " 0% [                                       ] 10,671      23.0KB/s             "
       ]
      },
      {
       "output_type": "stream",
       "stream": "stdout",
       "text": [
        "\r",
        " 0% [                                       ] 20,247      29.1KB/s             "
       ]
      },
      {
       "output_type": "stream",
       "stream": "stdout",
       "text": [
        "\r",
        " 0% [                                       ] 41,103      44.3KB/s             "
       ]
      },
      {
       "output_type": "stream",
       "stream": "stdout",
       "text": [
        "\r",
        " 0% [                                       ] 71,199      61.4KB/s             "
       ]
      },
      {
       "output_type": "stream",
       "stream": "stdout",
       "text": [
        "\r",
        " 0% [                                       ] 128,151     92.1KB/s             "
       ]
      },
      {
       "output_type": "stream",
       "stream": "stdout",
       "text": [
        "\r",
        " 1% [                                       ] 219,807      135KB/s             "
       ]
      },
      {
       "output_type": "stream",
       "stream": "stdout",
       "text": [
        "\r",
        " 2% [                                       ] 363,447      196KB/s             "
       ]
      },
      {
       "output_type": "stream",
       "stream": "stdout",
       "text": [
        "\r",
        " 3% [>                                      ] 504,655      242KB/s             "
       ]
      },
      {
       "output_type": "stream",
       "stream": "stdout",
       "text": [
        "\r",
        " 4% [>                                      ] 681,127      294KB/s             "
       ]
      },
      {
       "output_type": "stream",
       "stream": "stdout",
       "text": [
        "\r",
        " 5% [=>                                     ] 873,847      342KB/s             "
       ]
      },
      {
       "output_type": "stream",
       "stream": "stdout",
       "text": [
        "\r",
        " 6% [=>                                     ] 1,087,255    391KB/s             "
       ]
      },
      {
       "output_type": "stream",
       "stream": "stdout",
       "text": [
        "\r"
       ]
      },
      {
       "output_type": "stream",
       "stream": "stdout",
       "text": [
        " 8% [==>                                    ] 1,317,079    437KB/s             "
       ]
      },
      {
       "output_type": "stream",
       "stream": "stdout",
       "text": [
        "\r"
       ]
      },
      {
       "output_type": "stream",
       "stream": "stdout",
       "text": [
        " 9% [==>                                    ] 1,567,423    482KB/s  eta 30s    "
       ]
      },
      {
       "output_type": "stream",
       "stream": "stdout",
       "text": [
        "\r",
        "11% [===>                                   ] 1,836,919    531KB/s  eta 30s    "
       ]
      },
      {
       "output_type": "stream",
       "stream": "stdout",
       "text": [
        "\r",
        "13% [====>                                  ] 2,128,303    577KB/s  eta 30s    "
       ]
      },
      {
       "output_type": "stream",
       "stream": "stdout",
       "text": [
        "\r",
        "15% [====>                                  ] 2,440,207    622KB/s  eta 30s    "
       ]
      },
      {
       "output_type": "stream",
       "stream": "stdout",
       "text": [
        "\r",
        "17% [=====>                                 ] 2,771,263    667KB/s  eta 30s    "
       ]
      },
      {
       "output_type": "stream",
       "stream": "stdout",
       "text": [
        "\r"
       ]
      },
      {
       "output_type": "stream",
       "stream": "stdout",
       "text": [
        "19% [======>                                ] 3,124,207    712KB/s  eta 18s    "
       ]
      },
      {
       "output_type": "stream",
       "stream": "stdout",
       "text": [
        "\r",
        "21% [=======>                               ] 3,493,567    758KB/s  eta 18s    "
       ]
      },
      {
       "output_type": "stream",
       "stream": "stdout",
       "text": [
        "\r",
        "24% [========>                              ] 3,891,655    884KB/s  eta 18s    "
       ]
      },
      {
       "output_type": "stream",
       "stream": "stdout",
       "text": [
        "\r",
        "26% [=========>                             ] 4,306,159    976KB/s  eta 18s    "
       ]
      },
      {
       "output_type": "stream",
       "stream": "stdout",
       "text": [
        "\r",
        "29% [==========>                            ] 4,745,191   1.05MB/s  eta 18s    "
       ]
      },
      {
       "output_type": "stream",
       "stream": "stdout",
       "text": [
        "\r",
        "32% [===========>                           ] 5,203,471   1.19MB/s  eta 11s    "
       ]
      },
      {
       "output_type": "stream",
       "stream": "stdout",
       "text": [
        "\r",
        "35% [============>                          ] 5,683,639   1.28MB/s  eta 11s    "
       ]
      },
      {
       "output_type": "stream",
       "stream": "stdout",
       "text": [
        "\r",
        "38% [=============>                         ] 6,187,063   1.41MB/s  eta 11s    "
       ]
      },
      {
       "output_type": "stream",
       "stream": "stdout",
       "text": [
        "\r",
        "41% [===============>                       ] 6,712,375   1.50MB/s  eta 11s    "
       ]
      },
      {
       "output_type": "stream",
       "stream": "stdout",
       "text": [
        "\r",
        "44% [================>                      ] 7,266,415   1.63MB/s  eta 11s    "
       ]
      },
      {
       "output_type": "stream",
       "stream": "stdout",
       "text": [
        "\r"
       ]
      },
      {
       "output_type": "stream",
       "stream": "stdout",
       "text": [
        "48% [=================>                     ] 7,768,471   1.72MB/s  eta 7s     "
       ]
      },
      {
       "output_type": "stream",
       "stream": "stdout",
       "text": [
        "\r",
        "51% [===================>                   ] 8,308,831   1.78MB/s  eta 7s     "
       ]
      },
      {
       "output_type": "stream",
       "stream": "stdout",
       "text": [
        "\r",
        "54% [====================>                  ] 8,854,663   1.93MB/s  eta 7s     "
       ]
      },
      {
       "output_type": "stream",
       "stream": "stdout",
       "text": [
        "\r",
        "57% [=====================>                 ] 9,348,511   1.99MB/s  eta 7s     "
       ]
      },
      {
       "output_type": "stream",
       "stream": "stdout",
       "text": [
        "\r",
        "61% [=======================>               ] 9,979,159   2.10MB/s  eta 7s     "
       ]
      },
      {
       "output_type": "stream",
       "stream": "stdout",
       "text": [
        "\r",
        "65% [========================>              ] 10,578,343  2.17MB/s  eta 4s     "
       ]
      },
      {
       "output_type": "stream",
       "stream": "stdout",
       "text": [
        "\r",
        "69% [==========================>            ] 11,215,831  2.30MB/s  eta 4s     "
       ]
      },
      {
       "output_type": "stream",
       "stream": "stdout",
       "text": [
        "\r"
       ]
      },
      {
       "output_type": "stream",
       "stream": "stdout",
       "text": [
        "73% [===========================>           ] 11,920,527  2.40MB/s  eta 4s     "
       ]
      },
      {
       "output_type": "stream",
       "stream": "stdout",
       "text": [
        "\r",
        "77% [=============================>         ] 12,544,335  2.48MB/s  eta 4s     "
       ]
      },
      {
       "output_type": "stream",
       "stream": "stdout",
       "text": [
        "\r",
        "82% [===============================>       ] 13,300,839  2.59MB/s  eta 4s     "
       ]
      },
      {
       "output_type": "stream",
       "stream": "stdout",
       "text": [
        "\r",
        "87% [================================>      ] 14,079,231  2.66MB/s  eta 1s     "
       ]
      },
      {
       "output_type": "stream",
       "stream": "stdout",
       "text": [
        "\r",
        "92% [==================================>    ] 14,893,191  2.84MB/s  eta 1s     "
       ]
      },
      {
       "output_type": "stream",
       "stream": "stdout",
       "text": [
        "\r",
        "97% [====================================>  ] 15,709,887  2.90MB/s  eta 1s     "
       ]
      },
      {
       "output_type": "stream",
       "stream": "stdout",
       "text": [
        "\r",
        "100%[======================================>] 16,168,813  3.03MB/s   in 9.1s   \r\n",
        "\r\n",
        "2015-03-31 14:20:15 (1.70 MB/s) - 'mnist.pkl.gz' saved [16168813/16168813]\r\n",
        "\r\n"
       ]
      }
     ],
     "prompt_number": 16
    },
    {
     "cell_type": "code",
     "collapsed": false,
     "input": [
      "ls "
     ],
     "language": "python",
     "metadata": {},
     "outputs": [
      {
       "output_type": "stream",
       "stream": "stdout",
       "text": [
        "AdaBoost.ipynb                   gitpython.ipynb\r\n",
        "CNN.ipynb                        \u001b[0m\u001b[01;34mhaskell\u001b[0m/\r\n",
        "\u001b[01;34mCVXopt\u001b[0m/                          \u001b[01;34mimage_data\u001b[0m/\r\n",
        "GaborFilter.ipynb                linux.info.py\r\n",
        "GaussianProcess.ipynb            linux_kernel_module_study.ipynb\r\n",
        "GaussianProcess1.ipynb           logistic_sgd.py\r\n",
        "HeadDetection.ipynb              logistic_sgd.py.1\r\n",
        "KSVD.ipynb                       logistic_sgd.pyc\r\n",
        "LoadWriteImage.ipynb             mlp.ipynb\r\n",
        "MLvisualization.ipynb            mlp.py\r\n",
        "N-dimension visualization.ipynb  mlp.py.1\r\n",
        "PandasPloting.ipynb              mlp.pyc\r\n",
        "ParallelComputing.ipynb          \u001b[01;34mmnist\u001b[0m/\r\n",
        "TrainCNN.ipynb                   mnist.pkl.gz\r\n",
        "Untitled0.ipynb                  ndk-r10c-toolchain-help.ipynb\r\n",
        "Untitled1.ipynb                  \u001b[01;34mpandoc\u001b[0m/\r\n",
        "Untitled2.ipynb                  \u001b[01;34mracket\u001b[0m/\r\n",
        "a.jpg                            result.jpg\r\n",
        "\u001b[01;34mcaffe\u001b[0m/                           symbolscalculate.ipynb\r\n"
       ]
      }
     ],
     "prompt_number": 17
    },
    {
     "cell_type": "code",
     "collapsed": false,
     "input": [
      "import os\n",
      "import sys\n",
      "import time\n",
      "import numpy\n",
      "import theano\n",
      "import theano.tensor as T\n",
      "from theano.tensor.signal import downsample\n",
      "from theano.tensor.nnet import conv\n",
      "\n",
      "from logistic_sgd import LogisticRegression, load_data\n",
      "from mlp import HiddenLayer"
     ],
     "language": "python",
     "metadata": {},
     "outputs": [],
     "prompt_number": 3
    },
    {
     "cell_type": "code",
     "collapsed": false,
     "input": [
      "class LeNetConvPoolLayer(object):\n",
      "    \"\"\"Pool Layer of a convolutional network \"\"\"\n",
      "\n",
      "    def __init__(self, rng, input, filter_shape, image_shape, poolsize=(2, 2)):\n",
      "        \"\"\"\n",
      "        Allocate a LeNetConvPoolLayer with shared variable internal parameters.\n",
      "\n",
      "        :type rng: numpy.random.RandomState\n",
      "        :param rng: a random number generator used to initialize weights\n",
      "\n",
      "        :type input: theano.tensor.dtensor4\n",
      "        :param input: symbolic image tensor, of shape image_shape\n",
      "\n",
      "        :type filter_shape: tuple or list of length 4\n",
      "        :param filter_shape: (number of filters, num input feature maps,\n",
      "                              filter height, filter width)\n",
      "\n",
      "        :type image_shape: tuple or list of length 4\n",
      "        :param image_shape: (batch size, num input feature maps,\n",
      "                             image height, image width)\n",
      "\n",
      "        :type poolsize: tuple or list of length 2\n",
      "        :param poolsize: the downsampling (pooling) factor (#rows, #cols)\n",
      "        \"\"\"\n",
      "\n",
      "        assert image_shape[1] == filter_shape[1]\n",
      "        self.input = input\n",
      "\n",
      "        # there are \"num input feature maps * filter height * filter width\"\n",
      "        # inputs to each hidden unit\n",
      "        fan_in = numpy.prod(filter_shape[1:])\n",
      "        # each unit in the lower layer receives a gradient from:\n",
      "        # \"num output feature maps * filter height * filter width\" /\n",
      "        #   pooling size\n",
      "        fan_out = (filter_shape[0] * numpy.prod(filter_shape[2:]) /\n",
      "                   numpy.prod(poolsize))\n",
      "        # initialize weights with random weights\n",
      "        W_bound = numpy.sqrt(6. / (fan_in + fan_out))\n",
      "        self.W = theano.shared(\n",
      "            numpy.asarray(\n",
      "                rng.uniform(low=-W_bound, high=W_bound, size=filter_shape),\n",
      "                dtype=theano.config.floatX\n",
      "            ),\n",
      "            borrow=True\n",
      "        )\n",
      "\n",
      "        # the bias is a 1D tensor -- one bias per output feature map\n",
      "        b_values = numpy.zeros((filter_shape[0],), dtype=theano.config.floatX)\n",
      "        self.b = theano.shared(value=b_values, borrow=True)\n",
      "\n",
      "        # convolve input feature maps with filters\n",
      "        conv_out = conv.conv2d(\n",
      "            input=input,\n",
      "            filters=self.W,\n",
      "            filter_shape=filter_shape,\n",
      "            image_shape=image_shape\n",
      "        )\n",
      "\n",
      "        # downsample each feature map individually, using maxpooling\n",
      "        pooled_out = downsample.max_pool_2d(\n",
      "            input=conv_out,\n",
      "            ds=poolsize,\n",
      "            ignore_border=True\n",
      "        )\n",
      "\n",
      "        # add the bias term. Since the bias is a vector (1D array), we first\n",
      "        # reshape it to a tensor of shape (1, n_filters, 1, 1). Each bias will\n",
      "        # thus be broadcasted across mini-batches and feature map\n",
      "        # width & height\n",
      "        self.output = T.tanh(pooled_out + self.b.dimshuffle('x', 0, 'x', 'x'))\n",
      "\n",
      "        # store parameters of this layer\n",
      "        self.params = [self.W, self.b]\n",
      "\n",
      "\n",
      "def evaluate_lenet5(learning_rate=0.1, n_epochs=200,\n",
      "                    dataset='mnist.pkl.gz',\n",
      "                    nkerns=[20, 50], batch_size=500):\n",
      "    \"\"\" Demonstrates lenet on MNIST dataset\n",
      "\n",
      "    :type learning_rate: float\n",
      "    :param learning_rate: learning rate used (factor for the stochastic\n",
      "                          gradient)\n",
      "\n",
      "    :type n_epochs: int\n",
      "    :param n_epochs: maximal number of epochs to run the optimizer\n",
      "\n",
      "    :type dataset: string\n",
      "    :param dataset: path to the dataset used for training /testing (MNIST here)\n",
      "\n",
      "    :type nkerns: list of ints\n",
      "    :param nkerns: number of kernels on each layer\n",
      "    \"\"\"\n",
      "\n",
      "    rng = numpy.random.RandomState(23455)\n",
      "\n",
      "    datasets = load_data(dataset)\n",
      "\n",
      "    train_set_x, train_set_y = datasets[0]\n",
      "    valid_set_x, valid_set_y = datasets[1]\n",
      "    test_set_x, test_set_y = datasets[2]\n",
      "\n",
      "    # compute number of minibatches for training, validation and testing\n",
      "    n_train_batches = train_set_x.get_value(borrow=True).shape[0]\n",
      "    n_valid_batches = valid_set_x.get_value(borrow=True).shape[0]\n",
      "    n_test_batches = test_set_x.get_value(borrow=True).shape[0]\n",
      "    n_train_batches /= batch_size\n",
      "    n_valid_batches /= batch_size\n",
      "    n_test_batches /= batch_size\n",
      "\n",
      "    # allocate symbolic variables for the data\n",
      "    index = T.lscalar()  # index to a [mini]batch\n",
      "\n",
      "    # start-snippet-1\n",
      "    x = T.matrix('x')   # the data is presented as rasterized images\n",
      "    y = T.ivector('y')  # the labels are presented as 1D vector of\n",
      "                        # [int] labels\n",
      "\n",
      "    ######################\n",
      "    # BUILD ACTUAL MODEL #\n",
      "    ######################\n",
      "    print '... building the model'\n",
      "\n",
      "    # Reshape matrix of rasterized images of shape (batch_size, 28 * 28)\n",
      "    # to a 4D tensor, compatible with our LeNetConvPoolLayer\n",
      "    # (28, 28) is the size of MNIST images.\n",
      "    layer0_input = x.reshape((batch_size, 1, 28, 28))\n",
      "\n",
      "    # Construct the first convolutional pooling layer:\n",
      "    # filtering reduces the image size to (28-5+1 , 28-5+1) = (24, 24)\n",
      "    # maxpooling reduces this further to (24/2, 24/2) = (12, 12)\n",
      "    # 4D output tensor is thus of shape (batch_size, nkerns[0], 12, 12)\n",
      "    layer0 = LeNetConvPoolLayer(\n",
      "        rng,\n",
      "        input=layer0_input,\n",
      "        image_shape=(batch_size, 1, 28, 28),\n",
      "        filter_shape=(nkerns[0], 1, 5, 5),\n",
      "        poolsize=(2, 2)\n",
      "    )\n",
      "\n",
      "    # Construct the second convolutional pooling layer\n",
      "    # filtering reduces the image size to (12-5+1, 12-5+1) = (8, 8)\n",
      "    # maxpooling reduces this further to (8/2, 8/2) = (4, 4)\n",
      "    # 4D output tensor is thus of shape (batch_size, nkerns[1], 4, 4)\n",
      "    layer1 = LeNetConvPoolLayer(\n",
      "        rng,\n",
      "        input=layer0.output,\n",
      "        image_shape=(batch_size, nkerns[0], 12, 12),\n",
      "        filter_shape=(nkerns[1], nkerns[0], 5, 5),\n",
      "        poolsize=(2, 2)\n",
      "    )\n",
      "\n",
      "    # the HiddenLayer being fully-connected, it operates on 2D matrices of\n",
      "    # shape (batch_size, num_pixels) (i.e matrix of rasterized images).\n",
      "    # This will generate a matrix of shape (batch_size, nkerns[1] * 4 * 4),\n",
      "    # or (500, 50 * 4 * 4) = (500, 800) with the default values.\n",
      "    layer2_input = layer1.output.flatten(2)\n",
      "\n",
      "    # construct a fully-connected sigmoidal layer\n",
      "    layer2 = HiddenLayer(\n",
      "        rng,\n",
      "        input=layer2_input,\n",
      "        n_in=nkerns[1] * 4 * 4,\n",
      "        n_out=500,\n",
      "        activation=T.tanh\n",
      "    )\n",
      "\n",
      "    # classify the values of the fully-connected sigmoidal layer\n",
      "    layer3 = LogisticRegression(input=layer2.output, n_in=500, n_out=10)\n",
      "\n",
      "    # the cost we minimize during training is the NLL of the model\n",
      "    cost = layer3.negative_log_likelihood(y)\n",
      "\n",
      "    # create a function to compute the mistakes that are made by the model\n",
      "    test_model = theano.function(\n",
      "        [index],\n",
      "        layer3.errors(y),\n",
      "        givens={\n",
      "            x: test_set_x[index * batch_size: (index + 1) * batch_size],\n",
      "            y: test_set_y[index * batch_size: (index + 1) * batch_size]\n",
      "        }\n",
      "    )\n",
      "\n",
      "    validate_model = theano.function(\n",
      "        [index],\n",
      "        layer3.errors(y),\n",
      "        givens={\n",
      "            x: valid_set_x[index * batch_size: (index + 1) * batch_size],\n",
      "            y: valid_set_y[index * batch_size: (index + 1) * batch_size]\n",
      "        }\n",
      "    )\n",
      "\n",
      "    # create a list of all model parameters to be fit by gradient descent\n",
      "    params = layer3.params + layer2.params + layer1.params + layer0.params\n",
      "\n",
      "    # create a list of gradients for all model parameters\n",
      "    grads = T.grad(cost, params)\n",
      "\n",
      "    # train_model is a function that updates the model parameters by\n",
      "    # SGD Since this model has many parameters, it would be tedious to\n",
      "    # manually create an update rule for each model parameter. We thus\n",
      "    # create the updates list by automatically looping over all\n",
      "    # (params[i], grads[i]) pairs.\n",
      "    updates = [\n",
      "        (param_i, param_i - learning_rate * grad_i)\n",
      "        for param_i, grad_i in zip(params, grads)\n",
      "    ]\n",
      "\n",
      "    train_model = theano.function(\n",
      "        [index],\n",
      "        cost,\n",
      "        updates=updates,\n",
      "        givens={\n",
      "            x: train_set_x[index * batch_size: (index + 1) * batch_size],\n",
      "            y: train_set_y[index * batch_size: (index + 1) * batch_size]\n",
      "        }\n",
      "    )\n",
      "    # end-snippet-1\n",
      "\n",
      "    ###############\n",
      "    # TRAIN MODEL #\n",
      "    ###############\n",
      "    print '... training'\n",
      "    # early-stopping parameters\n",
      "    patience = 10000  # look as this many examples regardless\n",
      "    patience_increase = 2  # wait this much longer when a new best is\n",
      "                           # found\n",
      "    improvement_threshold = 0.995  # a relative improvement of this much is\n",
      "                                   # considered significant\n",
      "    validation_frequency = min(n_train_batches, patience / 2)\n",
      "                                  # go through this many\n",
      "                                  # minibatche before checking the network\n",
      "                                  # on the validation set; in this case we\n",
      "                                  # check every epoch\n",
      "\n",
      "    best_validation_loss = numpy.inf\n",
      "    best_iter = 0\n",
      "    test_score = 0.\n",
      "    start_time = time.clock()\n",
      "\n",
      "    epoch = 0\n",
      "    done_looping = False\n",
      "\n",
      "    while (epoch < n_epochs) and (not done_looping):\n",
      "        epoch = epoch + 1\n",
      "        for minibatch_index in xrange(n_train_batches):\n",
      "\n",
      "            iter = (epoch - 1) * n_train_batches + minibatch_index\n",
      "\n",
      "            if iter % 100 == 0:\n",
      "                print 'training @ iter = ', iter\n",
      "            cost_ij = train_model(minibatch_index)\n",
      "\n",
      "            if (iter + 1) % validation_frequency == 0:\n",
      "\n",
      "                # compute zero-one loss on validation set\n",
      "                validation_losses = [validate_model(i) for i\n",
      "                                     in xrange(n_valid_batches)]\n",
      "                this_validation_loss = numpy.mean(validation_losses)\n",
      "                print('epoch %i, minibatch %i/%i, validation error %f %%' %\n",
      "                      (epoch, minibatch_index + 1, n_train_batches,\n",
      "                       this_validation_loss * 100.))\n",
      "\n",
      "                # if we got the best validation score until now\n",
      "                if this_validation_loss < best_validation_loss:\n",
      "\n",
      "                    #improve patience if loss improvement is good enough\n",
      "                    if this_validation_loss < best_validation_loss *  \\\n",
      "                       improvement_threshold:\n",
      "                        patience = max(patience, iter * patience_increase)\n",
      "\n",
      "                    # save best validation score and iteration number\n",
      "                    best_validation_loss = this_validation_loss\n",
      "                    best_iter = iter\n",
      "\n",
      "                    # test it on the test set\n",
      "                    test_losses = [\n",
      "                        test_model(i)\n",
      "                        for i in xrange(n_test_batches)\n",
      "                    ]\n",
      "                    test_score = numpy.mean(test_losses)\n",
      "                    print(('     epoch %i, minibatch %i/%i, test error of '\n",
      "                           'best model %f %%') %\n",
      "                          (epoch, minibatch_index + 1, n_train_batches,\n",
      "                           test_score * 100.))\n",
      "\n",
      "            if patience <= iter:\n",
      "                done_looping = True\n",
      "                break\n",
      "\n",
      "    end_time = time.clock()\n",
      "    print('Optimization complete.')\n",
      "    print('Best validation score of %f %% obtained at iteration %i, '\n",
      "          'with test performance %f %%' %\n",
      "          (best_validation_loss * 100., best_iter + 1, test_score * 100.))\n",
      "    print >> sys.stderr, ('The code for file ' +\n",
      "                          os.path.split(__file__)[1] +\n",
      "                          ' ran for %.2fm' % ((end_time - start_time) / 60.))\n"
     ],
     "language": "python",
     "metadata": {},
     "outputs": [],
     "prompt_number": 14
    },
    {
     "cell_type": "code",
     "collapsed": false,
     "input": [
      "\n",
      "if __name__ == '__main__':\n",
      "    evaluate_lenet5()\n",
      "    \n",
      "def experiment(state, channel):\n",
      "    evaluate_lenet5(state.learning_rate, dataset=state.dataset)"
     ],
     "language": "python",
     "metadata": {},
     "outputs": [
      {
       "output_type": "stream",
       "stream": "stdout",
       "text": [
        "... loading data\n",
        "... building the model"
       ]
      },
      {
       "output_type": "stream",
       "stream": "stdout",
       "text": [
        "\n",
        "... training"
       ]
      },
      {
       "output_type": "stream",
       "stream": "stdout",
       "text": [
        "\n",
        "training @ iter =  0\n",
        "epoch 1, minibatch 100/100, validation error 9.230000 %"
       ]
      },
      {
       "output_type": "stream",
       "stream": "stdout",
       "text": [
        "\n",
        "     epoch 1, minibatch 100/100, test error of best model 9.520000 %"
       ]
      },
      {
       "output_type": "stream",
       "stream": "stdout",
       "text": [
        "\n",
        "training @ iter =  100\n",
        "epoch 2, minibatch 100/100, validation error 6.180000 %"
       ]
      },
      {
       "output_type": "stream",
       "stream": "stdout",
       "text": [
        "\n",
        "     epoch 2, minibatch 100/100, test error of best model 6.500000 %"
       ]
      },
      {
       "output_type": "stream",
       "stream": "stdout",
       "text": [
        "\n",
        "training @ iter =  200\n",
        "epoch 3, minibatch 100/100, validation error 4.640000 %"
       ]
      },
      {
       "output_type": "stream",
       "stream": "stdout",
       "text": [
        "\n",
        "     epoch 3, minibatch 100/100, test error of best model 4.850000 %"
       ]
      },
      {
       "output_type": "stream",
       "stream": "stdout",
       "text": [
        "\n",
        "training @ iter =  300\n",
        "epoch 4, minibatch 100/100, validation error 3.500000 %"
       ]
      },
      {
       "output_type": "stream",
       "stream": "stdout",
       "text": [
        "\n",
        "     epoch 4, minibatch 100/100, test error of best model 3.910000 %"
       ]
      },
      {
       "output_type": "stream",
       "stream": "stdout",
       "text": [
        "\n",
        "training @ iter =  400\n",
        "epoch 5, minibatch 100/100, validation error 3.020000 %"
       ]
      }
     ],
     "prompt_number": "*"
    },
    {
     "cell_type": "code",
     "collapsed": false,
     "input": [],
     "language": "python",
     "metadata": {},
     "outputs": []
    }
   ],
   "metadata": {}
  }
 ]
}