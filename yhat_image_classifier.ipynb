{
 "metadata": {
  "name": "yhat_image_classifier"
 },
 "nbformat": 3,
 "nbformat_minor": 0,
 "worksheets": [
  {
   "cells": [
    {
     "cell_type": "markdown",
     "metadata": {},
     "source": "# [\u56fe\u50cf\u5206\u7c7b\u6837\u4f8b\u4ee3\u7801](http://blog.yhathq.com/posts/image-classification-in-Python.html)"
    },
    {
     "cell_type": "code",
     "collapsed": false,
     "input": "import pandas as pd\nimport numpy as np\nimport pylab as pl\nfrom PIL import Image\nimport os",
     "language": "python",
     "metadata": {},
     "outputs": [],
     "prompt_number": 2
    },
    {
     "cell_type": "code",
     "collapsed": false,
     "input": "from sklearn.decomposition import RandomizedPCA\nfrom sklearn.neighbors import KNeighborsClassifier",
     "language": "python",
     "metadata": {},
     "outputs": [],
     "prompt_number": 3
    },
    {
     "cell_type": "markdown",
     "metadata": {},
     "source": "<h2>Importing Image Data</h2>"
    },
    {
     "cell_type": "markdown",
     "metadata": {},
     "source": "<h5>Create Processing Functions</h5>"
    },
    {
     "cell_type": "code",
     "collapsed": false,
     "input": "#setup a standard image size; this will distort some images but will get everything into the same shape\nSTANDARD_SIZE = (300, 167)\ndef img_to_matrix(filename, verbose=False):\n    \"\"\"\n    takes a filename and turns it into a numpy array of RGB pixels\n    \"\"\"\n    img = Image.open(filename)\n    if verbose==True:\n        print \"changing size from %s to %s\" % (str(img.size), str(STANDARD_SIZE))\n    img = img.resize(STANDARD_SIZE)\n    img = list(img.getdata())\n    img = map(list, img)\n    img = np.array(img)\n    return img\n\ndef flatten_image(img):\n    \"\"\"\n    takes in an (m, n) numpy array and flattens it \n    into an array of shape (1, m * n)\n    \"\"\"\n    s = img.shape[0] * img.shape[1]\n    img_wide = img.reshape(1, s)\n    return img_wide[0]",
     "language": "python",
     "metadata": {},
     "outputs": [],
     "prompt_number": 4
    },
    {
     "cell_type": "markdown",
     "metadata": {},
     "source": "<h5>Define the location of your data and import it</h5>"
    },
    {
     "cell_type": "code",
     "collapsed": false,
     "input": "img_dir = \"../../code-exp/09/images/checks_and_dls/\"\nimages = [img_dir+ f for f in os.listdir(img_dir)]\nlabels = [\"check\" if \"check\" in f.split('/')[-1] else \"drivers_license\" for f in images]\n\ndata = []\nfor image in images:\n    img = img_to_matrix(image)\n    img = flatten_image(img)\n    data.append(img)\n\ndata = np.array(data)\ndata",
     "language": "python",
     "metadata": {},
     "outputs": [
      {
       "ename": "OSError",
       "evalue": "[Errno 2] No such file or directory: '../../code-exp/09/images/checks_and_dls/'",
       "output_type": "pyerr",
       "traceback": [
        "\u001b[0;31m---------------------------------------------------------------------------\u001b[0m\n\u001b[0;31mOSError\u001b[0m                                   Traceback (most recent call last)",
        "\u001b[0;32m<ipython-input-5-b04eedf70446>\u001b[0m in \u001b[0;36m<module>\u001b[0;34m()\u001b[0m\n\u001b[1;32m      1\u001b[0m \u001b[0mimg_dir\u001b[0m \u001b[0;34m=\u001b[0m \u001b[0;34m\"../../code-exp/09/images/checks_and_dls/\"\u001b[0m\u001b[0;34m\u001b[0m\u001b[0m\n\u001b[0;32m----> 2\u001b[0;31m \u001b[0mimages\u001b[0m \u001b[0;34m=\u001b[0m \u001b[0;34m[\u001b[0m\u001b[0mimg_dir\u001b[0m\u001b[0;34m+\u001b[0m \u001b[0mf\u001b[0m \u001b[0;32mfor\u001b[0m \u001b[0mf\u001b[0m \u001b[0;32min\u001b[0m \u001b[0mos\u001b[0m\u001b[0;34m.\u001b[0m\u001b[0mlistdir\u001b[0m\u001b[0;34m(\u001b[0m\u001b[0mimg_dir\u001b[0m\u001b[0;34m)\u001b[0m\u001b[0;34m]\u001b[0m\u001b[0;34m\u001b[0m\u001b[0m\n\u001b[0m\u001b[1;32m      3\u001b[0m \u001b[0mlabels\u001b[0m \u001b[0;34m=\u001b[0m \u001b[0;34m[\u001b[0m\u001b[0;34m\"check\"\u001b[0m \u001b[0;32mif\u001b[0m \u001b[0;34m\"check\"\u001b[0m \u001b[0;32min\u001b[0m \u001b[0mf\u001b[0m\u001b[0;34m.\u001b[0m\u001b[0msplit\u001b[0m\u001b[0;34m(\u001b[0m\u001b[0;34m'/'\u001b[0m\u001b[0;34m)\u001b[0m\u001b[0;34m[\u001b[0m\u001b[0;34m-\u001b[0m\u001b[0;36m1\u001b[0m\u001b[0;34m]\u001b[0m \u001b[0;32melse\u001b[0m \u001b[0;34m\"drivers_license\"\u001b[0m \u001b[0;32mfor\u001b[0m \u001b[0mf\u001b[0m \u001b[0;32min\u001b[0m \u001b[0mimages\u001b[0m\u001b[0;34m]\u001b[0m\u001b[0;34m\u001b[0m\u001b[0m\n\u001b[1;32m      4\u001b[0m \u001b[0;34m\u001b[0m\u001b[0m\n\u001b[1;32m      5\u001b[0m \u001b[0mdata\u001b[0m \u001b[0;34m=\u001b[0m \u001b[0;34m[\u001b[0m\u001b[0;34m]\u001b[0m\u001b[0;34m\u001b[0m\u001b[0m\n",
        "\u001b[0;31mOSError\u001b[0m: [Errno 2] No such file or directory: '../../code-exp/09/images/checks_and_dls/'"
       ]
      }
     ],
     "prompt_number": 5
    },
    {
     "cell_type": "markdown",
     "metadata": {},
     "source": "<h2>Creating Features</h2>"
    },
    {
     "cell_type": "markdown",
     "metadata": {},
     "source": "<h5>Define a training and test set</h5>"
    },
    {
     "cell_type": "code",
     "collapsed": false,
     "input": "is_train = np.random.uniform(0, 1, len(data)) <= 0.7\ny = np.where(np.array(labels)==\"check\", 1, 0)\n\ntrain_x, train_y = data[is_train], y[is_train]\ntest_x, test_y = data[is_train==False], y[is_train==False]",
     "language": "python",
     "metadata": {},
     "outputs": []
    },
    {
     "cell_type": "markdown",
     "metadata": {},
     "source": "<h5>RandomizedPCA to create features</h5>\n<p>Before we actually create our feature vectors, we're going to show a demo of <code>RandomizedPCA</code> in 2 dimensions. This makes it easy to plot high dimensional data</p>"
    },
    {
     "cell_type": "code",
     "collapsed": false,
     "input": "pca = RandomizedPCA(n_components=2)\nX = pca.fit_transform(data)\ndf = pd.DataFrame({\"x\": X[:, 0], \"y\": X[:, 1], \"label\":np.where(y==1, \"Check\", \"Drivers License\")})\ncolors = [\"red\", \"yellow\"]\nfor label, color in zip(df['label'].unique(), colors):\n    mask = df['label']==label\n    pl.scatter(df[mask]['x'], df[mask]['y'], c=color, label=label)\npl.legend()",
     "language": "python",
     "metadata": {},
     "outputs": []
    },
    {
     "cell_type": "markdown",
     "metadata": {},
     "source": "<h2>RandomizedPCA in 5 dimensions</h2>\n<p>Instead of 2 dimenisons, we're going to do RandomizedPCA in 5 dimensions. This will make it a bit harder to visualize, but it will make it easier for some of the classifiers to work with the dataset.</p>"
    },
    {
     "cell_type": "code",
     "collapsed": false,
     "input": "pca = RandomizedPCA(n_components=5)\ntrain_x = pca.fit_transform(train_x)\ntest_x = pca.transform(test_x)",
     "language": "python",
     "metadata": {},
     "outputs": []
    },
    {
     "cell_type": "markdown",
     "metadata": {},
     "source": "<p>This gives our classifier a nice set of tabular data that we can then use to train the model</p>"
    },
    {
     "cell_type": "code",
     "collapsed": false,
     "input": "train_x[:5]",
     "language": "python",
     "metadata": {},
     "outputs": []
    },
    {
     "cell_type": "markdown",
     "metadata": {},
     "source": "<p>We're going to be using a <code>K-Nearest Neighbors</code> classifier. Based on our set of training data, we're going to caclulate which training obersvations are closest to a given test point. Whichever class has the most votes wins.</p>"
    },
    {
     "cell_type": "code",
     "collapsed": false,
     "input": "knn = KNeighborsClassifier()\nknn.fit(train_x, train_y)",
     "language": "python",
     "metadata": {},
     "outputs": []
    },
    {
     "cell_type": "code",
     "collapsed": false,
     "input": "pd.crosstab(test_y, knn.predict(test_x), rownames=[\"Actual\"], colnames=[\"Predicted\"])",
     "language": "python",
     "metadata": {},
     "outputs": []
    },
    {
     "cell_type": "code",
     "collapsed": false,
     "input": "from yhat import Yhat, BaseModel",
     "language": "python",
     "metadata": {},
     "outputs": []
    },
    {
     "cell_type": "code",
     "collapsed": false,
     "input": "class ImageClassifier(BaseModel):\n    def require(self):\n        from StringIO import StringIO\n        from PIL import Image\n        import base64\n\n    def transform(self, image_string):\n    \t#we need to decode the image from base64\n    \timage_string = base64.decodestring(image_string)\n        #since we're seing this as a JSON string, we use StringIO so it acts like a file\n    \timg = StringIO(image_string)\n        img = Image.open(img)\n        img = img.resize(self.STANDARD_SIZE)\n        img = list(img.getdata())\n        img = map(list, img)\n        img = np.array(img)\n        s = img.shape[0] * img.shape[1]\n        img_wide = img.reshape(1, s)\n        return self.pca.transform(img_wide[0])\n        \n    def predict(self, data):\n        preds = self.knn.predict(data)\n        preds = np.where(preds==1, \"check\", \"drivers_license\")\n        pred = preds[0]\n        return {\"image_label\": pred}",
     "language": "python",
     "metadata": {},
     "outputs": [
      {
       "ename": "NameError",
       "evalue": "name 'BaseModel' is not defined",
       "output_type": "pyerr",
       "traceback": [
        "\u001b[0;31m---------------------------------------------------------------------------\u001b[0m\n\u001b[0;31mNameError\u001b[0m                                 Traceback (most recent call last)",
        "\u001b[0;32m<ipython-input-6-6dcfb5aa6124>\u001b[0m in \u001b[0;36m<module>\u001b[0;34m()\u001b[0m\n\u001b[0;32m----> 1\u001b[0;31m \u001b[0;32mclass\u001b[0m \u001b[0mImageClassifier\u001b[0m\u001b[0;34m(\u001b[0m\u001b[0mBaseModel\u001b[0m\u001b[0;34m)\u001b[0m\u001b[0;34m:\u001b[0m\u001b[0;34m\u001b[0m\u001b[0m\n\u001b[0m\u001b[1;32m      2\u001b[0m     \u001b[0;32mdef\u001b[0m \u001b[0mrequire\u001b[0m\u001b[0;34m(\u001b[0m\u001b[0mself\u001b[0m\u001b[0;34m)\u001b[0m\u001b[0;34m:\u001b[0m\u001b[0;34m\u001b[0m\u001b[0m\n\u001b[1;32m      3\u001b[0m         \u001b[0;32mfrom\u001b[0m \u001b[0mStringIO\u001b[0m \u001b[0;32mimport\u001b[0m \u001b[0mStringIO\u001b[0m\u001b[0;34m\u001b[0m\u001b[0m\n\u001b[1;32m      4\u001b[0m         \u001b[0;32mfrom\u001b[0m \u001b[0mPIL\u001b[0m \u001b[0;32mimport\u001b[0m \u001b[0mImage\u001b[0m\u001b[0;34m\u001b[0m\u001b[0m\n\u001b[1;32m      5\u001b[0m         \u001b[0;32mimport\u001b[0m \u001b[0mbase64\u001b[0m\u001b[0;34m\u001b[0m\u001b[0m\n",
        "\u001b[0;31mNameError\u001b[0m: name 'BaseModel' is not defined"
       ]
      }
     ],
     "prompt_number": 6
    },
    {
     "cell_type": "code",
     "collapsed": false,
     "input": "img_clf = ImageClassifier(pca=pca, knn=knn, STANDARD_SIZE=STANDARD_SIZE)\n \n# authenticate\nyh = Yhat(\"YOUR USERNAME\", \"YOUR API KEY\")\n \n# upload model to yhat\nyh.upload(\"imageClassifier\", img_clf)",
     "language": "python",
     "metadata": {},
     "outputs": [
      {
       "ename": "NameError",
       "evalue": "name 'ImageClassifier' is not defined",
       "output_type": "pyerr",
       "traceback": [
        "\u001b[0;31m---------------------------------------------------------------------------\u001b[0m\n\u001b[0;31mNameError\u001b[0m                                 Traceback (most recent call last)",
        "\u001b[0;32m<ipython-input-7-77e445febf1d>\u001b[0m in \u001b[0;36m<module>\u001b[0;34m()\u001b[0m\n\u001b[0;32m----> 1\u001b[0;31m \u001b[0mimg_clf\u001b[0m \u001b[0;34m=\u001b[0m \u001b[0mImageClassifier\u001b[0m\u001b[0;34m(\u001b[0m\u001b[0mpca\u001b[0m\u001b[0;34m=\u001b[0m\u001b[0mpca\u001b[0m\u001b[0;34m,\u001b[0m \u001b[0mknn\u001b[0m\u001b[0;34m=\u001b[0m\u001b[0mknn\u001b[0m\u001b[0;34m,\u001b[0m \u001b[0mSTANDARD_SIZE\u001b[0m\u001b[0;34m=\u001b[0m\u001b[0mSTANDARD_SIZE\u001b[0m\u001b[0;34m)\u001b[0m\u001b[0;34m\u001b[0m\u001b[0m\n\u001b[0m\u001b[1;32m      2\u001b[0m \u001b[0;34m\u001b[0m\u001b[0m\n\u001b[1;32m      3\u001b[0m \u001b[0;31m# authenticate\u001b[0m\u001b[0;34m\u001b[0m\u001b[0;34m\u001b[0m\u001b[0m\n\u001b[1;32m      4\u001b[0m \u001b[0myh\u001b[0m \u001b[0;34m=\u001b[0m \u001b[0mYhat\u001b[0m\u001b[0;34m(\u001b[0m\u001b[0;34m\"YOUR USERNAME\"\u001b[0m\u001b[0;34m,\u001b[0m \u001b[0;34m\"YOUR API KEY\"\u001b[0m\u001b[0;34m)\u001b[0m\u001b[0;34m\u001b[0m\u001b[0m\n\u001b[1;32m      5\u001b[0m \u001b[0;34m\u001b[0m\u001b[0m\n",
        "\u001b[0;31mNameError\u001b[0m: name 'ImageClassifier' is not defined"
       ]
      }
     ],
     "prompt_number": 7
    },
    {
     "cell_type": "code",
     "collapsed": false,
     "input": "#call the api w/ some example data\n# this one is a drivers license\nnew_image = open(\"dl16.jpeg\", 'rb').read()\n \nimport base64\n#we need to make the image JSON serializeable\nnew_image = base64.encodestring(new_image)\n \nprint yh.predict(\"imageClassifier\", version=4, data=new_image)",
     "language": "python",
     "metadata": {},
     "outputs": [
      {
       "ename": "IOError",
       "evalue": "[Errno 2] No such file or directory: 'dl16.jpeg'",
       "output_type": "pyerr",
       "traceback": [
        "\u001b[0;31m---------------------------------------------------------------------------\u001b[0m\n\u001b[0;31mIOError\u001b[0m                                   Traceback (most recent call last)",
        "\u001b[0;32m<ipython-input-8-f73dd99d4b54>\u001b[0m in \u001b[0;36m<module>\u001b[0;34m()\u001b[0m\n\u001b[1;32m      1\u001b[0m \u001b[0;31m#call the api w/ some example data\u001b[0m\u001b[0;34m\u001b[0m\u001b[0;34m\u001b[0m\u001b[0m\n\u001b[1;32m      2\u001b[0m \u001b[0;31m# this one is a drivers license\u001b[0m\u001b[0;34m\u001b[0m\u001b[0;34m\u001b[0m\u001b[0m\n\u001b[0;32m----> 3\u001b[0;31m \u001b[0mnew_image\u001b[0m \u001b[0;34m=\u001b[0m \u001b[0mopen\u001b[0m\u001b[0;34m(\u001b[0m\u001b[0;34m\"dl16.jpeg\"\u001b[0m\u001b[0;34m,\u001b[0m \u001b[0;34m'rb'\u001b[0m\u001b[0;34m)\u001b[0m\u001b[0;34m.\u001b[0m\u001b[0mread\u001b[0m\u001b[0;34m(\u001b[0m\u001b[0;34m)\u001b[0m\u001b[0;34m\u001b[0m\u001b[0m\n\u001b[0m\u001b[1;32m      4\u001b[0m \u001b[0;34m\u001b[0m\u001b[0m\n\u001b[1;32m      5\u001b[0m \u001b[0;32mimport\u001b[0m \u001b[0mbase64\u001b[0m\u001b[0;34m\u001b[0m\u001b[0m\n",
        "\u001b[0;31mIOError\u001b[0m: [Errno 2] No such file or directory: 'dl16.jpeg'"
       ]
      }
     ],
     "prompt_number": 8
    },
    {
     "cell_type": "code",
     "collapsed": false,
     "input": "",
     "language": "python",
     "metadata": {},
     "outputs": []
    }
   ],
   "metadata": {}
  }
 ]
}