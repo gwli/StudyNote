{
 "metadata": {
  "name": "leveldb"
 },
 "nbformat": 3,
 "nbformat_minor": 0,
 "worksheets": [
  {
   "cells": [
    {
     "cell_type": "markdown",
     "metadata": {},
     "source": "#\u5206\u5e03\u5f0f\u6570\u636e\u5e93"
    },
    {
     "cell_type": "code",
     "collapsed": false,
     "input": "import leveldb",
     "language": "python",
     "metadata": {},
     "outputs": [],
     "prompt_number": 25
    },
    {
     "cell_type": "code",
     "collapsed": false,
     "input": "db = leveldb.LevelDB('./db')",
     "language": "python",
     "metadata": {},
     "outputs": [
      {
       "ename": "LevelDBError",
       "evalue": "IO error: lock ./db/LOCK: already held by process",
       "output_type": "pyerr",
       "traceback": [
        "\u001b[0;31m---------------------------------------------------------------------------\u001b[0m\n\u001b[0;31mLevelDBError\u001b[0m                              Traceback (most recent call last)",
        "\u001b[0;32m<ipython-input-26-dcf11cb2bfab>\u001b[0m in \u001b[0;36m<module>\u001b[0;34m()\u001b[0m\n\u001b[0;32m----> 1\u001b[0;31m \u001b[0mdb\u001b[0m \u001b[0;34m=\u001b[0m \u001b[0mleveldb\u001b[0m\u001b[0;34m.\u001b[0m\u001b[0mLevelDB\u001b[0m\u001b[0;34m(\u001b[0m\u001b[0;34m'./db'\u001b[0m\u001b[0;34m)\u001b[0m\u001b[0;34m\u001b[0m\u001b[0m\n\u001b[0m",
        "\u001b[0;31mLevelDBError\u001b[0m: IO error: lock ./db/LOCK: already held by process"
       ]
      }
     ],
     "prompt_number": 26
    },
    {
     "cell_type": "raw",
     "metadata": {},
     "source": "leveldb.LevelDB() \u4ece\u7279\u5b9a\u7684\u76ee\u5f55\u6253\u5f00\u6570\u636e\u5e93\u3002"
    },
    {
     "cell_type": "code",
     "collapsed": false,
     "input": "db.CreateSnapshot()\n",
     "language": "python",
     "metadata": {},
     "outputs": [
      {
       "metadata": {},
       "output_type": "pyout",
       "prompt_number": 27,
       "text": "<leveldb.Snapshot at 0x7f39d62ef8d0>"
      }
     ],
     "prompt_number": 27
    },
    {
     "cell_type": "markdown",
     "metadata": {},
     "source": "\u600e\u6837\u663e\u793a\u5feb\u7167\uff1f"
    },
    {
     "cell_type": "code",
     "collapsed": false,
     "input": "print db.Get('hello')",
     "language": "python",
     "metadata": {},
     "outputs": [
      {
       "ename": "KeyError",
       "evalue": "",
       "output_type": "pyerr",
       "traceback": [
        "\u001b[0;31m---------------------------------------------------------------------------\u001b[0m\n\u001b[0;31mKeyError\u001b[0m                                  Traceback (most recent call last)",
        "\u001b[0;32m<ipython-input-28-cb97891fd219>\u001b[0m in \u001b[0;36m<module>\u001b[0;34m()\u001b[0m\n\u001b[0;32m----> 1\u001b[0;31m \u001b[0;32mprint\u001b[0m \u001b[0mdb\u001b[0m\u001b[0;34m.\u001b[0m\u001b[0mGet\u001b[0m\u001b[0;34m(\u001b[0m\u001b[0;34m'hello'\u001b[0m\u001b[0;34m)\u001b[0m\u001b[0;34m\u001b[0m\u001b[0m\n\u001b[0m",
        "\u001b[0;31mKeyError\u001b[0m: "
       ]
      }
     ],
     "prompt_number": 28
    },
    {
     "cell_type": "markdown",
     "metadata": {},
     "source": "## \u9996\u5148\u5b58\u5165\u6570\u636e"
    },
    {
     "cell_type": "code",
     "collapsed": false,
     "input": "for i in xrange(10):\n    db.Put(str(i),'string_%s' %i)",
     "language": "python",
     "metadata": {},
     "outputs": [],
     "prompt_number": 29
    },
    {
     "cell_type": "markdown",
     "metadata": {},
     "source": "\u6570\u636e\u5e93\u4e2d\u8f93\u5165\u6570\u636e\uff0ckey, value"
    },
    {
     "cell_type": "code",
     "collapsed": false,
     "input": "print list(db.RangeIter(key_from='2',key_to='3'))",
     "language": "python",
     "metadata": {},
     "outputs": [
      {
       "output_type": "stream",
       "stream": "stdout",
       "text": "[('2', 'string_2'), ('20', 'string_20'), ('200', 'string_200'), ('201', 'string_201'), ('202', 'string_202'), ('203', 'string_203'), ('204', 'string_204'), ('205', 'string_205'), ('206', 'string_206'), ('207', 'string_207'), ('208', 'string_208'), ('209', 'string_209'), ('21', 'string_21'), ('210', 'string_210'), ('211', 'string_211'), ('212', 'string_212'), ('213', 'string_213'), ('214', 'string_214'), ('215', 'string_215'), ('216', 'string_216'), ('217', 'string_217'), ('218', 'string_218'), ('219', 'string_219'), ('22', 'string_22'), ('220', 'string_220'), ('221', 'string_221'), ('222', 'string_222'), ('223', 'string_223'), ('224', 'string_224'), ('225', 'string_225'), ('226', 'string_226'), ('227', 'string_227'), ('228', 'string_228'), ('229', 'string_229'), ('23', 'string_23'), ('230', 'string_230'), ('231', 'string_231'), ('232', 'string_232'), ('233', 'string_233'), ('234', 'string_234'), ('235', 'string_235'), ('236', 'string_236'), ('237', 'string_237'), ('238', 'string_238'), ('239', 'string_239'), ('24', 'string_24'), ('240', 'string_240'), ('241', 'string_241'), ('242', 'string_242'), ('243', 'string_243'), ('244', 'string_244'), ('245', 'string_245'), ('246', 'string_246'), ('247', 'string_247'), ('248', 'string_248'), ('249', 'string_249'), ('25', 'string_25'), ('250', 'string_250'), ('251', 'string_251'), ('252', 'string_252'), ('253', 'string_253'), ('254', 'string_254'), ('255', 'string_255'), ('256', 'string_256'), ('257', 'string_257'), ('258', 'string_258'), ('259', 'string_259'), ('26', 'string_26'), ('260', 'string_260'), ('261', 'string_261'), ('262', 'string_262'), ('263', 'string_263'), ('264', 'string_264'), ('265', 'string_265'), ('266', 'string_266'), ('267', 'string_267'), ('268', 'string_268'), ('269', 'string_269'), ('27', 'string_27'), ('270', 'string_270'), ('271', 'string_271'), ('272', 'string_272'), ('273', 'string_273'), ('274', 'string_274'), ('275', 'string_275'), ('276', 'string_276'), ('277', 'string_277'), ('278', 'string_278'), ('279', 'string_279'), ('28', 'string_28'), ('280', 'string_280'), ('281', 'string_281'), ('282', 'string_282'), ('283', 'string_283'), ('284', 'string_284'), ('285', 'string_285'), ('286', 'string_286'), ('287', 'string_287'), ('288', 'string_288'), ('289', 'string_289'), ('29', 'string_29'), ('290', 'string_290'), ('291', 'string_291'), ('292', 'string_292'), ('293', 'string_293'), ('294', 'string_294'), ('295', 'string_295'), ('296', 'string_296'), ('297', 'string_297'), ('298', 'string_298'), ('299', 'string_299'), ('3', 'string_3')]\n"
      }
     ],
     "prompt_number": 47
    },
    {
     "cell_type": "markdown",
     "metadata": {},
     "source": "\u6570\u636e\u8303\u56f4\u626b\u63cf\uff0c \u53ef\u4ee5\u770b\u5230\u8fd9\u91cc\u6570\u636e\u662f\u6309\u7167value\u8fde\u7eed\u5b58\u50a8\u7684\u3002"
    },
    {
     "cell_type": "code",
     "collapsed": false,
     "input": "db.Get('2')",
     "language": "python",
     "metadata": {},
     "outputs": [
      {
       "metadata": {},
       "output_type": "pyout",
       "prompt_number": 31,
       "text": "'string_2'"
      }
     ],
     "prompt_number": 31
    },
    {
     "cell_type": "markdown",
     "metadata": {},
     "source": "db.Get() \u5f97\u5230\u67d0\u4e2akey\u7684value\u3002"
    },
    {
     "cell_type": "markdown",
     "metadata": {},
     "source": "##\u539f\u5b50\u66f4\u65b0\u64cd\u4f5c\uff0c\u4f53\u73b0\u5728\u54ea\u91cc\uff1f"
    },
    {
     "cell_type": "code",
     "collapsed": false,
     "input": "batch = leveldb.WriteBatch()",
     "language": "python",
     "metadata": {},
     "outputs": [],
     "prompt_number": 32
    },
    {
     "cell_type": "code",
     "collapsed": false,
     "input": "for i in xrange(1000):\n    db.Put(str(i),'string_%s' % i)",
     "language": "python",
     "metadata": {},
     "outputs": [],
     "prompt_number": 33
    },
    {
     "cell_type": "code",
     "collapsed": false,
     "input": "db.Write(batch,sync = True)",
     "language": "python",
     "metadata": {},
     "outputs": [],
     "prompt_number": 34
    },
    {
     "cell_type": "code",
     "collapsed": false,
     "input": "db.CreateSnapshot()",
     "language": "python",
     "metadata": {},
     "outputs": [
      {
       "metadata": {},
       "output_type": "pyout",
       "prompt_number": 35,
       "text": "<leveldb.Snapshot at 0x7f39d62efc50>"
      }
     ],
     "prompt_number": 35
    },
    {
     "cell_type": "code",
     "collapsed": false,
     "input": "print db.Delete('string_4')",
     "language": "python",
     "metadata": {},
     "outputs": [
      {
       "output_type": "stream",
       "stream": "stdout",
       "text": "None\n"
      }
     ],
     "prompt_number": 40
    },
    {
     "cell_type": "markdown",
     "metadata": {},
     "source": "\u8fd9\u91cc\u4e3a\u4ec0\u4e48\u6ca1\u6709\u4efb\u4f55\u7ed3\u679c\u663e\u793a"
    },
    {
     "cell_type": "code",
     "collapsed": false,
     "input": "db.GetStats()",
     "language": "python",
     "metadata": {},
     "outputs": [
      {
       "metadata": {},
       "output_type": "pyout",
       "prompt_number": 37,
       "text": "'                               Compactions\\nLevel  Files Size(MB) Time(sec) Read(MB) Write(MB)\\n--------------------------------------------------\\n'"
      }
     ],
     "prompt_number": 37
    },
    {
     "cell_type": "markdown",
     "metadata": {},
     "source": "\u8fd9\u662f\u4ec0\u4e48\u610f\u601d\uff1f"
    },
    {
     "cell_type": "markdown",
     "metadata": {},
     "source": "##\u67e5\u627e\u91cd\u590d\u91cd\u590d\u6570\u636e\u5b58\u50a8"
    },
    {
     "cell_type": "code",
     "collapsed": false,
     "input": "iter = leveldb.Iterator(db)",
     "language": "python",
     "metadata": {},
     "outputs": [
      {
       "ename": "AttributeError",
       "evalue": "'module' object has no attribute 'Iterator'",
       "output_type": "pyerr",
       "traceback": [
        "\u001b[0;31m---------------------------------------------------------------------------\u001b[0m\n\u001b[0;31mAttributeError\u001b[0m                            Traceback (most recent call last)",
        "\u001b[0;32m<ipython-input-43-05478ea19007>\u001b[0m in \u001b[0;36m<module>\u001b[0;34m()\u001b[0m\n\u001b[0;32m----> 1\u001b[0;31m \u001b[0miter\u001b[0m \u001b[0;34m=\u001b[0m \u001b[0mleveldb\u001b[0m\u001b[0;34m.\u001b[0m\u001b[0mIterator\u001b[0m\u001b[0;34m(\u001b[0m\u001b[0mdb\u001b[0m\u001b[0;34m)\u001b[0m\u001b[0;34m\u001b[0m\u001b[0m\n\u001b[0m",
        "\u001b[0;31mAttributeError\u001b[0m: 'module' object has no attribute 'Iterator'"
       ]
      }
     ],
     "prompt_number": 43
    },
    {
     "cell_type": "markdown",
     "metadata": {},
     "source": "[\u8fed\u4ee3\u5668](http://itindex.net/detail/20242-cpy-leveldb-python)\u76ee\u524d\u6ca1\u6709"
    },
    {
     "cell_type": "code",
     "collapsed": false,
     "input": "",
     "language": "python",
     "metadata": {},
     "outputs": []
    }
   ],
   "metadata": {}
  }
 ]
}