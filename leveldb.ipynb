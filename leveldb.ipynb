{
 "metadata": {
  "name": "leveldb"
 },
 "nbformat": 3,
 "nbformat_minor": 0,
 "worksheets": [
  {
   "cells": [
    {
     "cell_type": "markdown",
     "metadata": {},
     "source": "#\u5206\u5e03\u5f0f\u6570\u636e\u5e93"
    },
    {
     "cell_type": "code",
     "collapsed": false,
     "input": "import leveldb",
     "language": "python",
     "metadata": {},
     "outputs": [],
     "prompt_number": 1
    },
    {
     "cell_type": "code",
     "collapsed": false,
     "input": "db = leveldb.LevelDB('./db')",
     "language": "python",
     "metadata": {},
     "outputs": [],
     "prompt_number": 2
    },
    {
     "cell_type": "raw",
     "metadata": {},
     "source": "leveldb.LevelDB() \u4ece\u7279\u5b9a\u7684\u76ee\u5f55\u6253\u5f00\u6570\u636e\u5e93\u3002"
    },
    {
     "cell_type": "code",
     "collapsed": false,
     "input": "db.CreateSnapshot()\n",
     "language": "python",
     "metadata": {},
     "outputs": [
      {
       "metadata": {},
       "output_type": "pyout",
       "prompt_number": 5,
       "text": "<leveldb.Snapshot at 0x7f39d6d67e10>"
      }
     ],
     "prompt_number": 5
    },
    {
     "cell_type": "markdown",
     "metadata": {},
     "source": "\u600e\u6837\u663e\u793a\u5feb\u7167\uff1f"
    },
    {
     "cell_type": "code",
     "collapsed": false,
     "input": "print db.Get('hello')",
     "language": "python",
     "metadata": {},
     "outputs": [
      {
       "ename": "KeyError",
       "evalue": "",
       "output_type": "pyerr",
       "traceback": [
        "\u001b[0;31m---------------------------------------------------------------------------\u001b[0m\n\u001b[0;31mKeyError\u001b[0m                                  Traceback (most recent call last)",
        "\u001b[0;32m<ipython-input-6-cb97891fd219>\u001b[0m in \u001b[0;36m<module>\u001b[0;34m()\u001b[0m\n\u001b[0;32m----> 1\u001b[0;31m \u001b[0;32mprint\u001b[0m \u001b[0mdb\u001b[0m\u001b[0;34m.\u001b[0m\u001b[0mGet\u001b[0m\u001b[0;34m(\u001b[0m\u001b[0;34m'hello'\u001b[0m\u001b[0;34m)\u001b[0m\u001b[0;34m\u001b[0m\u001b[0m\n\u001b[0m",
        "\u001b[0;31mKeyError\u001b[0m: "
       ]
      }
     ],
     "prompt_number": 6
    },
    {
     "cell_type": "code",
     "collapsed": false,
     "input": "for i in xrange(10):\n    db.Put(str(i),'string_%s' %i)",
     "language": "python",
     "metadata": {},
     "outputs": [],
     "prompt_number": 7
    },
    {
     "cell_type": "markdown",
     "metadata": {},
     "source": "\u6570\u636e\u5e93\u4e2d\u8f93\u5165\u6570\u636e\uff0ckey, value"
    },
    {
     "cell_type": "code",
     "collapsed": false,
     "input": "print list(db.RangeIter(key_from='2',key_to='5'))",
     "language": "python",
     "metadata": {},
     "outputs": [
      {
       "output_type": "stream",
       "stream": "stdout",
       "text": "[('2', 'string_2'), ('3', 'string_3'), ('4', 'string_4'), ('5', 'string_5')]\n"
      }
     ],
     "prompt_number": 9
    },
    {
     "cell_type": "markdown",
     "metadata": {},
     "source": "\u6570\u636e\u8303\u56f4\u626b\u63cf"
    },
    {
     "cell_type": "code",
     "collapsed": false,
     "input": "db.Get('2')",
     "language": "python",
     "metadata": {},
     "outputs": [
      {
       "metadata": {},
       "output_type": "pyout",
       "prompt_number": 10,
       "text": "'string_2'"
      }
     ],
     "prompt_number": 10
    },
    {
     "cell_type": "markdown",
     "metadata": {},
     "source": "db.Get() \u5f97\u5230\u67d0\u4e2akey\u7684value\u3002"
    },
    {
     "cell_type": "code",
     "collapsed": false,
     "input": "batch = leveldb.WriteBatch()",
     "language": "python",
     "metadata": {},
     "outputs": [],
     "prompt_number": 12
    },
    {
     "cell_type": "code",
     "collapsed": false,
     "input": "for i in xrange(1000):\n    db.Put(str(i),'string_%s' % i)",
     "language": "python",
     "metadata": {},
     "outputs": [],
     "prompt_number": 11
    },
    {
     "cell_type": "code",
     "collapsed": false,
     "input": "db.Write(batch,sync = True)",
     "language": "python",
     "metadata": {},
     "outputs": [],
     "prompt_number": 13
    },
    {
     "cell_type": "code",
     "collapsed": false,
     "input": "db.CreateSnapshot()",
     "language": "python",
     "metadata": {},
     "outputs": [
      {
       "metadata": {},
       "output_type": "pyout",
       "prompt_number": 17,
       "text": "<leveldb.Snapshot at 0x7f39d62efc90>"
      }
     ],
     "prompt_number": 17
    },
    {
     "cell_type": "code",
     "collapsed": false,
     "input": "",
     "language": "python",
     "metadata": {},
     "outputs": []
    }
   ],
   "metadata": {}
  }
 ]
}