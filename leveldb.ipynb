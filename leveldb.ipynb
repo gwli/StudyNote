{
 "metadata": {
  "name": "leveldb"
 },
 "nbformat": 3,
 "nbformat_minor": 0,
 "worksheets": [
  {
   "cells": [
    {
     "cell_type": "markdown",
     "metadata": {},
     "source": "#\u5206\u5e03\u5f0f\u6570\u636e\u5e93"
    },
    {
     "cell_type": "code",
     "collapsed": false,
     "input": "import leveldb",
     "language": "python",
     "metadata": {},
     "outputs": [],
     "prompt_number": 48
    },
    {
     "cell_type": "code",
     "collapsed": false,
     "input": "db = leveldb.LevelDB('./db')",
     "language": "python",
     "metadata": {},
     "outputs": [
      {
       "ename": "LevelDBError",
       "evalue": "IO error: lock ./db/LOCK: already held by process",
       "output_type": "pyerr",
       "traceback": [
        "\u001b[0;31m---------------------------------------------------------------------------\u001b[0m\n\u001b[0;31mLevelDBError\u001b[0m                              Traceback (most recent call last)",
        "\u001b[0;32m<ipython-input-49-dcf11cb2bfab>\u001b[0m in \u001b[0;36m<module>\u001b[0;34m()\u001b[0m\n\u001b[0;32m----> 1\u001b[0;31m \u001b[0mdb\u001b[0m \u001b[0;34m=\u001b[0m \u001b[0mleveldb\u001b[0m\u001b[0;34m.\u001b[0m\u001b[0mLevelDB\u001b[0m\u001b[0;34m(\u001b[0m\u001b[0;34m'./db'\u001b[0m\u001b[0;34m)\u001b[0m\u001b[0;34m\u001b[0m\u001b[0m\n\u001b[0m",
        "\u001b[0;31mLevelDBError\u001b[0m: IO error: lock ./db/LOCK: already held by process"
       ]
      }
     ],
     "prompt_number": 49
    },
    {
     "cell_type": "raw",
     "metadata": {},
     "source": "leveldb.LevelDB() \u4ece\u7279\u5b9a\u7684\u76ee\u5f55\u6253\u5f00\u6570\u636e\u5e93\u3002"
    },
    {
     "cell_type": "code",
     "collapsed": false,
     "input": "db.CreateSnapshot()\n",
     "language": "python",
     "metadata": {},
     "outputs": [
      {
       "metadata": {},
       "output_type": "pyout",
       "prompt_number": 50,
       "text": "<leveldb.Snapshot at 0x7f39d6249510>"
      }
     ],
     "prompt_number": 50
    },
    {
     "cell_type": "markdown",
     "metadata": {},
     "source": "\u600e\u6837\u663e\u793a\u5feb\u7167\uff1f"
    },
    {
     "cell_type": "code",
     "collapsed": false,
     "input": "print db.Get('hello')",
     "language": "python",
     "metadata": {},
     "outputs": [
      {
       "ename": "KeyError",
       "evalue": "",
       "output_type": "pyerr",
       "traceback": [
        "\u001b[0;31m---------------------------------------------------------------------------\u001b[0m\n\u001b[0;31mKeyError\u001b[0m                                  Traceback (most recent call last)",
        "\u001b[0;32m<ipython-input-51-cb97891fd219>\u001b[0m in \u001b[0;36m<module>\u001b[0;34m()\u001b[0m\n\u001b[0;32m----> 1\u001b[0;31m \u001b[0;32mprint\u001b[0m \u001b[0mdb\u001b[0m\u001b[0;34m.\u001b[0m\u001b[0mGet\u001b[0m\u001b[0;34m(\u001b[0m\u001b[0;34m'hello'\u001b[0m\u001b[0;34m)\u001b[0m\u001b[0;34m\u001b[0m\u001b[0m\n\u001b[0m",
        "\u001b[0;31mKeyError\u001b[0m: "
       ]
      }
     ],
     "prompt_number": 51
    },
    {
     "cell_type": "markdown",
     "metadata": {},
     "source": "## \u9996\u5148\u5b58\u5165\u6570\u636e"
    },
    {
     "cell_type": "code",
     "collapsed": false,
     "input": "for i in xrange(10):\n    db.Put(str(i),'string_%s' %i)",
     "language": "python",
     "metadata": {},
     "outputs": []
    },
    {
     "cell_type": "markdown",
     "metadata": {},
     "source": "\u6570\u636e\u5e93\u4e2d\u8f93\u5165\u6570\u636e\uff0ckey, value"
    },
    {
     "cell_type": "code",
     "collapsed": false,
     "input": "print list(db.RangeIter(key_from='2',key_to='3'))",
     "language": "python",
     "metadata": {},
     "outputs": []
    },
    {
     "cell_type": "markdown",
     "metadata": {},
     "source": "\u6570\u636e\u8303\u56f4\u626b\u63cf\uff0c \u53ef\u4ee5\u770b\u5230\u8fd9\u91cc\u6570\u636e\u662f\u6309\u7167value\u8fde\u7eed\u5b58\u50a8\u7684\u3002"
    },
    {
     "cell_type": "code",
     "collapsed": false,
     "input": "db.Get('2')",
     "language": "python",
     "metadata": {},
     "outputs": []
    },
    {
     "cell_type": "markdown",
     "metadata": {},
     "source": "db.Get() \u5f97\u5230\u67d0\u4e2akey\u7684value\u3002"
    },
    {
     "cell_type": "markdown",
     "metadata": {},
     "source": "##\u539f\u5b50\u66f4\u65b0\u64cd\u4f5c\uff0c\u4f53\u73b0\u5728\u54ea\u91cc\uff1f"
    },
    {
     "cell_type": "code",
     "collapsed": false,
     "input": "batch = leveldb.WriteBatch()",
     "language": "python",
     "metadata": {},
     "outputs": []
    },
    {
     "cell_type": "code",
     "collapsed": false,
     "input": "for i in xrange(1000):\n    db.Put(str(i),'string_%s' % i)",
     "language": "python",
     "metadata": {},
     "outputs": []
    },
    {
     "cell_type": "code",
     "collapsed": false,
     "input": "db.Write(batch,sync = True)",
     "language": "python",
     "metadata": {},
     "outputs": []
    },
    {
     "cell_type": "code",
     "collapsed": false,
     "input": "db.CreateSnapshot()",
     "language": "python",
     "metadata": {},
     "outputs": []
    },
    {
     "cell_type": "code",
     "collapsed": false,
     "input": "print db.Delete('string_4')",
     "language": "python",
     "metadata": {},
     "outputs": []
    },
    {
     "cell_type": "markdown",
     "metadata": {},
     "source": "\u8fd9\u91cc\u4e3a\u4ec0\u4e48\u6ca1\u6709\u4efb\u4f55\u7ed3\u679c\u663e\u793a"
    },
    {
     "cell_type": "code",
     "collapsed": false,
     "input": "db.GetStats()",
     "language": "python",
     "metadata": {},
     "outputs": []
    },
    {
     "cell_type": "markdown",
     "metadata": {},
     "source": "\u8fd9\u662f\u4ec0\u4e48\u610f\u601d\uff1f"
    },
    {
     "cell_type": "markdown",
     "metadata": {},
     "source": "##\u67e5\u627e\u91cd\u590d\u91cd\u590d\u6570\u636e\u5b58\u50a8"
    },
    {
     "cell_type": "code",
     "collapsed": false,
     "input": "iter = leveldb.Iterator(db)",
     "language": "python",
     "metadata": {},
     "outputs": [
      {
       "ename": "AttributeError",
       "evalue": "'module' object has no attribute 'Iterator'",
       "output_type": "pyerr",
       "traceback": [
        "\u001b[0;31m---------------------------------------------------------------------------\u001b[0m\n\u001b[0;31mAttributeError\u001b[0m                            Traceback (most recent call last)",
        "\u001b[0;32m<ipython-input-52-05478ea19007>\u001b[0m in \u001b[0;36m<module>\u001b[0;34m()\u001b[0m\n\u001b[0;32m----> 1\u001b[0;31m \u001b[0miter\u001b[0m \u001b[0;34m=\u001b[0m \u001b[0mleveldb\u001b[0m\u001b[0;34m.\u001b[0m\u001b[0mIterator\u001b[0m\u001b[0;34m(\u001b[0m\u001b[0mdb\u001b[0m\u001b[0;34m)\u001b[0m\u001b[0;34m\u001b[0m\u001b[0m\n\u001b[0m",
        "\u001b[0;31mAttributeError\u001b[0m: 'module' object has no attribute 'Iterator'"
       ]
      }
     ],
     "prompt_number": 52
    },
    {
     "cell_type": "markdown",
     "metadata": {},
     "source": "[\u8fed\u4ee3\u5668](http://itindex.net/detail/20242-cpy-leveldb-python)\u76ee\u524d\u6ca1\u6709"
    },
    {
     "cell_type": "code",
     "collapsed": false,
     "input": "db.Put('hello','world')",
     "language": "python",
     "metadata": {},
     "outputs": [],
     "prompt_number": 67
    },
    {
     "cell_type": "code",
     "collapsed": false,
     "input": "#print db.Get('hello')",
     "language": "python",
     "metadata": {},
     "outputs": [],
     "prompt_number": 68
    },
    {
     "cell_type": "code",
     "collapsed": false,
     "input": "db.Delete('hello')\nprint db.Get('hello')",
     "language": "python",
     "metadata": {},
     "outputs": [
      {
       "ename": "KeyError",
       "evalue": "",
       "output_type": "pyerr",
       "traceback": [
        "\u001b[0;31m---------------------------------------------------------------------------\u001b[0m\n\u001b[0;31mKeyError\u001b[0m                                  Traceback (most recent call last)",
        "\u001b[0;32m<ipython-input-69-e19e24cd4d37>\u001b[0m in \u001b[0;36m<module>\u001b[0;34m()\u001b[0m\n\u001b[1;32m      1\u001b[0m \u001b[0mdb\u001b[0m\u001b[0;34m.\u001b[0m\u001b[0mDelete\u001b[0m\u001b[0;34m(\u001b[0m\u001b[0;34m'hello'\u001b[0m\u001b[0;34m)\u001b[0m\u001b[0;34m\u001b[0m\u001b[0m\n\u001b[0;32m----> 2\u001b[0;31m \u001b[0;32mprint\u001b[0m \u001b[0mdb\u001b[0m\u001b[0;34m.\u001b[0m\u001b[0mGet\u001b[0m\u001b[0;34m(\u001b[0m\u001b[0;34m'hello'\u001b[0m\u001b[0;34m)\u001b[0m\u001b[0;34m\u001b[0m\u001b[0m\n\u001b[0m",
        "\u001b[0;31mKeyError\u001b[0m: "
       ]
      }
     ],
     "prompt_number": 69
    },
    {
     "cell_type": "code",
     "collapsed": false,
     "input": "",
     "language": "python",
     "metadata": {},
     "outputs": []
    }
   ],
   "metadata": {}
  }
 ]
}