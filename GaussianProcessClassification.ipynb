{
 "metadata": {
  "name": ""
 },
 "nbformat": 3,
 "nbformat_minor": 0,
 "worksheets": [
  {
   "cells": [
    {
     "cell_type": "markdown",
     "metadata": {},
     "source": [
      "# \u4f7f\u7528[gaussian process \u5b9e\u73b0\u5206\u7c7b](http://scikit-learn.org/stable/auto_examples/gaussian_process/plot_gp_probabilistic_classification_after_regression.html)"
     ]
    },
    {
     "cell_type": "code",
     "collapsed": false,
     "input": [
      "import numpy as np\n",
      "from scipy import stats\n",
      "from sklearn.gaussian_process import GaussianProcess\n",
      "from matplotlib import  pyplot as plt\n",
      "from matplotlib import  cm\n",
      "from sympy import *\n",
      "from sympy.abc import *"
     ],
     "language": "python",
     "metadata": {},
     "outputs": [],
     "prompt_number": 129
    },
    {
     "cell_type": "markdown",
     "metadata": {},
     "source": [
      "\u6807\u51c6\u5206\u5e03\u51fd\u6570"
     ]
    },
    {
     "cell_type": "code",
     "collapsed": false,
     "input": [
      "phi = stats.distributions.norm().pdf\n",
      "PHI = stats.distributions.norm().cdf\n",
      "PHIinv = stats.distributions.norm().ppf"
     ],
     "language": "python",
     "metadata": {},
     "outputs": [],
     "prompt_number": 50
    },
    {
     "cell_type": "markdown",
     "metadata": {},
     "source": [
      "\u8fd9\u91cc\u6307\u7684\u662f\u4ec0\u4e48\uff1fpdf, cdf ,ppf?"
     ]
    },
    {
     "cell_type": "code",
     "collapsed": false,
     "input": [
      "lim =8"
     ],
     "language": "python",
     "metadata": {},
     "outputs": [],
     "prompt_number": 51
    },
    {
     "cell_type": "code",
     "collapsed": false,
     "input": [
      "def g(x):\n",
      "    return 5.-x[:,1]-.5*x[:,0]**2"
     ],
     "language": "python",
     "metadata": {},
     "outputs": [],
     "prompt_number": 145
    },
    {
     "cell_type": "markdown",
     "metadata": {},
     "source": [
      "def \u7684\u51fd\u6570\u600e\u6837\u663e\u793a\u51fa\u6765\uff1f"
     ]
    },
    {
     "cell_type": "code",
     "collapsed": false,
     "input": [
      "X = np.array([[-4.61611719, -6.00099547],\n",
      "              [4.10469096, 5.32782448],\n",
      "              [0.00000000, -0.50000000],\n",
      "              [-6.17289014, -4.6984743],\n",
      "              [1.3109306, -6.93271427],\n",
      "              [-5.03823144, 3.10584743],\n",
      "              [-2.87600388, 6.74310541],\n",
      "              [5.21301203, 4.26386883]])\n"
     ],
     "language": "python",
     "metadata": {},
     "outputs": [],
     "prompt_number": 133
    },
    {
     "cell_type": "code",
     "collapsed": false,
     "input": [
      "y = g(X)"
     ],
     "language": "python",
     "metadata": {},
     "outputs": [
      {
       "metadata": {},
       "output_type": "pyout",
       "prompt_number": 152,
       "text": [
        "array([  0.34672651,  -8.75206842,   5.5       ,  -9.35381204,\n",
        "        11.07344475, -10.79773545,  -5.87880457, -12.85161604])"
       ]
      }
     ],
     "prompt_number": 152
    },
    {
     "cell_type": "code",
     "collapsed": false,
     "input": [
      "plt.plot(X[:,0],y)"
     ],
     "language": "python",
     "metadata": {},
     "outputs": [
      {
       "metadata": {},
       "output_type": "pyout",
       "prompt_number": 57,
       "text": [
        "[<matplotlib.lines.Line2D object at 0x7f55163e5e50>]"
       ]
      },
      {
       "metadata": {},
       "output_type": "display_data",
       "png": "[encoded data removed]",
       "text": [
        "<matplotlib.figure.Figure object at 0x7f5516532950>"
       ]
      }
     ],
     "prompt_number": 57
    },
    {
     "cell_type": "code",
     "collapsed": false,
     "input": [
      "gp = GaussianProcess(theta0=5e-1)"
     ],
     "language": "python",
     "metadata": {},
     "outputs": [],
     "prompt_number": 58
    },
    {
     "cell_type": "code",
     "collapsed": false,
     "input": [
      "gp.fit(X,y)"
     ],
     "language": "python",
     "metadata": {},
     "outputs": [
      {
       "metadata": {},
       "output_type": "pyout",
       "prompt_number": 59,
       "text": [
        "GaussianProcess(beta0=None,\n",
        "        corr=<function squared_exponential at 0x7f5516e505f0>,\n",
        "        normalize=True, nugget=array(2.220446049250313e-15),\n",
        "        optimizer='fmin_cobyla', random_start=1,\n",
        "        random_state=<mtrand.RandomState object at 0x7f554322f810>,\n",
        "        regr=<function constant at 0x7f5516e50230>, storage_mode='full',\n",
        "        theta0=array([[ 0.5]]), thetaL=None, thetaU=None, verbose=False)"
       ]
      }
     ],
     "prompt_number": 59
    },
    {
     "cell_type": "code",
     "collapsed": false,
     "input": [
      "res = 50\n",
      "x1,x2 = np.meshgrid(np.linspace(-lim,lim,res),\n",
      "                     np.linspace(-lim,lim,res))"
     ],
     "language": "python",
     "metadata": {},
     "outputs": [],
     "prompt_number": 60
    },
    {
     "cell_type": "code",
     "collapsed": false,
     "input": [
      "xx = np.vstack([x1.reshape(x1.size),x2.reshape(x2.size)]).T"
     ],
     "language": "python",
     "metadata": {},
     "outputs": [],
     "prompt_number": 61
    },
    {
     "cell_type": "code",
     "collapsed": false,
     "input": [
      "y_true = g(xx)"
     ],
     "language": "python",
     "metadata": {},
     "outputs": [],
     "prompt_number": 62
    },
    {
     "cell_type": "code",
     "collapsed": false,
     "input": [
      "y_pred, MSE = gp.predict(xx,eval_MSE=True)\n",
      "sigma = np.sqrt(MSE)\n",
      "y_true = y_true.reshape((res,res))\n",
      "y_pred = y_pred.reshape((res,res))\n",
      "sigma = y_pred.reshape((res,res))\n",
      "k = PHIinv (.975)"
     ],
     "language": "python",
     "metadata": {},
     "outputs": [],
     "prompt_number": 94
    },
    {
     "cell_type": "code",
     "collapsed": false,
     "input": [
      "fig = plt.figure(1)\n",
      "ax = fig.add_subplot(111)\n",
      "ax.axes.set_aspect('equal')\n",
      "plt.xticks([])\n",
      "plt.yticks([])\n",
      "ax.set_xticklabels([])\n",
      "ax.set_yticklabels([])\n",
      "plt.xlabel('$x_1$')\n",
      "plt.ylabel('$x_2$')\n",
      "cax = plt.imshow(np.flipud(PHI(- y_pred / sigma)), cmap=cm.gray_r, alpha=0.8,\n",
      "                extent=(- lim, lim, - lim, lim))\n",
      "norm = plt.matplotlib.colors.Normalize(vmin= 0.,vmax=0.9)\n",
      "cb = plt.colorbar(cax,ticks = [0., 0.2, 0.4, 0.6, 0.8, 1.],norm= norm)\n",
      "cb.set_label('${\\\\rm \\mathbb{P}}\\left[\\widehat{G}(\\mathbf{x}) \\leq 0\\\\right]$')\n",
      "pl.plot(X[y <= 0, 0], X[y <= 0, 1], 'r.', markersize=12)\n",
      "pl.plot(X[y> 0, 0], X[y > 0, 1], 'b.', markersize=12)\n",
      "cs = plt.contour(x1,x2,y_true,[0.],colors='r',linestyles = 'dashdot')\n",
      "cs = plt.contour(x1,x2,PHI(-y_pred/sigma),[0.025],colors='b',linestyles ='solid')\n",
      "plt.clabel(cs,fontsize =11)\n",
      "cs = plt.contour(x1,x2,PHI(-y_pred/sigma),[0.5],colors='g',linestyles ='dashed')\n",
      "plt.clabel(cs,fontsize =11)\n",
      "cs =plt.contour(x1,x2,PHI(-y_pred/sigma),[0.975],colors='r',linestyles ='solid')\n",
      "plt.clabel(cs,fontsize =11)\n",
      "plt.show()"
     ],
     "language": "python",
     "metadata": {},
     "outputs": [
      {
       "metadata": {},
       "output_type": "display_data",
       "png": "[encoded data removed]",
       "text": [
        "<matplotlib.figure.Figure object at 0x7f55163ba150>"
       ]
      }
     ],
     "prompt_number": 119
    },
    {
     "cell_type": "markdown",
     "metadata": {},
     "source": [
      "plt.contour \u662f\u8f6e\u5ed3\uff0c\u6709\u4ec0\u4e48\u610f\u4e49\uff1f"
     ]
    },
    {
     "cell_type": "code",
     "collapsed": false,
     "input": [],
     "language": "python",
     "metadata": {},
     "outputs": []
    }
   ],
   "metadata": {}
  }
 ]
}