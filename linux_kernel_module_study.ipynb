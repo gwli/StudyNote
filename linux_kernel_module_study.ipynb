{
 "metadata": {
  "name": "linux_kernel_module_study"
 }, 
 "nbformat": 2, 
 "worksheets": [
  {
   "cells": [
    {
     "cell_type": "code", 
     "collapsed": false, 
     "input": [
      "cd /lib/modules/3.2.0-70-generic/"
     ], 
     "language": "python", 
     "outputs": [
      {
       "output_type": "stream", 
       "stream": "stdout", 
       "text": [
        "/lib/modules/3.2.0-70-generic"
       ]
      }
     ], 
     "prompt_number": 4
    }, 
    {
     "cell_type": "code", 
     "collapsed": false, 
     "input": [
      "ls"
     ], 
     "language": "python", 
     "outputs": [
      {
       "output_type": "stream", 
       "stream": "stdout", 
       "text": [
        "\u001b[0m\u001b[01;36mbuild\u001b[0m@             modules.builtin.bin  modules.inputmap   modules.softdep", 
        "\u001b[01;34minitrd\u001b[0m/            modules.ccwmap       modules.isapnpmap  modules.symbols", 
        "\u001b[01;34mkernel\u001b[0m/            modules.dep          modules.ofmap      modules.symbols.bin", 
        "modules.alias      modules.dep.bin      modules.order      modules.usbmap", 
        "modules.alias.bin  modules.devname      modules.pcimap     \u001b[01;34mupdates\u001b[0m/", 
        "modules.builtin    modules.ieee1394map  modules.seriomap"
       ]
      }
     ], 
     "prompt_number": 6
    }, 
    {
     "cell_type": "code", 
     "collapsed": false, 
     "input": [
      "modlist=!cat modules.order", 
      "mod_area = set([x.split(\"/\")[1] for x in modlist])", 
      "mod_area"
     ], 
     "language": "python", 
     "outputs": [
      {
       "output_type": "pyout", 
       "prompt_number": 10, 
       "text": [
        "set(['sound', 'fs', 'lib', 'drivers', 'crypto', 'ubuntu', 'net', 'arch'])"
       ]
      }
     ], 
     "prompt_number": 10
    }, 
    {
     "cell_type": "code", 
     "collapsed": false, 
     "input": [
      "mod_arch = filter(lambda x:x.find('arch') !=-1,modlist)", 
      "mod_arch"
     ], 
     "language": "python", 
     "outputs": [
      {
       "output_type": "pyout", 
       "prompt_number": 11, 
       "text": [
        "['kernel/arch/x86/kernel/cpu/mcheck/mce-xeon75xx.ko',", 
        " 'kernel/arch/x86/kernel/cpu/mcheck/mce-inject.ko',", 
        " 'kernel/arch/x86/kernel/msr.ko',", 
        " 'kernel/arch/x86/kernel/cpuid.ko',", 
        " 'kernel/arch/x86/kernel/microcode.ko',", 
        " 'kernel/arch/x86/crypto/aes-x86_64.ko',", 
        " 'kernel/arch/x86/crypto/blowfish-x86_64.ko',", 
        " 'kernel/arch/x86/crypto/twofish-x86_64.ko',", 
        " 'kernel/arch/x86/crypto/twofish-x86_64-3way.ko',", 
        " 'kernel/arch/x86/crypto/salsa20-x86_64.ko',", 
        " 'kernel/arch/x86/crypto/aesni-intel.ko',", 
        " 'kernel/arch/x86/crypto/ghash-clmulni-intel.ko',", 
        " 'kernel/arch/x86/crypto/sha1-ssse3.ko',", 
        " 'kernel/arch/x86/kvm/kvm.ko',", 
        " 'kernel/arch/x86/kvm/kvm-intel.ko',", 
        " 'kernel/arch/x86/kvm/kvm-amd.ko',", 
        " 'kernel/arch/x86/oprofile/oprofile.ko']"
       ]
      }
     ], 
     "prompt_number": 11
    }
   ]
  }
 ]
}